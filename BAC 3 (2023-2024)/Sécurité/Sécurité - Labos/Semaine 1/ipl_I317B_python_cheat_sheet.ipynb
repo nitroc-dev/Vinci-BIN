{
 "cells": [
  {
   "cell_type": "markdown",
   "metadata": {},
   "source": [
    "### BINV3170-B Sécurité : labos\n",
    "## Installation de Jupyter\n",
    "\n",
    "- Installation de jupyter :\n",
    "    - Avec le gestionnaire de paquet de la distribution :  \n",
    "      - `sudo apt-get update`\n",
    "      - `sudo apt-get install jupyter-notebook`\n",
    "    \n",
    "    - Ou avec le gestionnaire de paquet python (pas besoin de sudo/root) :  \n",
    "    `pip3 install --user jupyter`\n",
    "- Utilisation du jupyter notebook (depuis le dossier de cours) :  \n",
    "`jupyter notebook`"
   ]
  },
  {
   "cell_type": "code",
   "execution_count": null,
   "metadata": {},
   "outputs": [
    {
     "name": "stdout",
     "output_type": "stream",
     "text": [
      "helloword!\n"
     ]
    }
   ],
   "source": [
    "print(\"helloword!\")"
   ]
  },
  {
   "cell_type": "markdown",
   "metadata": {},
   "source": [
    "# Python : cheat sheet\n",
    "(or quick and dirty guide (parce que [voila](https://twitter.com/shad0wbits/status/1435991041056944133)))\n",
    "\n",
    "NB: à tout moment, si vous êtes perdu, vous pouvez faire un `help(ma_variable)` pour afficher la documentation de l'objet comprenant la liste des fonctions disponible pour celui-ci. Exemple : `help(1)` pour un integer ou `help(\"\".split)` pour la fonction split des objects de type string."
   ]
  },
  {
   "cell_type": "code",
   "execution_count": 10,
   "metadata": {
    "collapsed": true,
    "jupyter": {
     "outputs_hidden": true
    },
    "scrolled": true,
    "tags": []
   },
   "outputs": [
    {
     "data": {
      "text/plain": [
       "['__add__',\n",
       " '__class__',\n",
       " '__contains__',\n",
       " '__delattr__',\n",
       " '__dir__',\n",
       " '__doc__',\n",
       " '__eq__',\n",
       " '__format__',\n",
       " '__ge__',\n",
       " '__getattribute__',\n",
       " '__getitem__',\n",
       " '__getnewargs__',\n",
       " '__gt__',\n",
       " '__hash__',\n",
       " '__init__',\n",
       " '__init_subclass__',\n",
       " '__iter__',\n",
       " '__le__',\n",
       " '__len__',\n",
       " '__lt__',\n",
       " '__mod__',\n",
       " '__mul__',\n",
       " '__ne__',\n",
       " '__new__',\n",
       " '__reduce__',\n",
       " '__reduce_ex__',\n",
       " '__repr__',\n",
       " '__rmod__',\n",
       " '__rmul__',\n",
       " '__setattr__',\n",
       " '__sizeof__',\n",
       " '__str__',\n",
       " '__subclasshook__',\n",
       " 'capitalize',\n",
       " 'casefold',\n",
       " 'center',\n",
       " 'count',\n",
       " 'encode',\n",
       " 'endswith',\n",
       " 'expandtabs',\n",
       " 'find',\n",
       " 'format',\n",
       " 'format_map',\n",
       " 'index',\n",
       " 'isalnum',\n",
       " 'isalpha',\n",
       " 'isascii',\n",
       " 'isdecimal',\n",
       " 'isdigit',\n",
       " 'isidentifier',\n",
       " 'islower',\n",
       " 'isnumeric',\n",
       " 'isprintable',\n",
       " 'isspace',\n",
       " 'istitle',\n",
       " 'isupper',\n",
       " 'join',\n",
       " 'ljust',\n",
       " 'lower',\n",
       " 'lstrip',\n",
       " 'maketrans',\n",
       " 'partition',\n",
       " 'removeprefix',\n",
       " 'removesuffix',\n",
       " 'replace',\n",
       " 'rfind',\n",
       " 'rindex',\n",
       " 'rjust',\n",
       " 'rpartition',\n",
       " 'rsplit',\n",
       " 'rstrip',\n",
       " 'split',\n",
       " 'splitlines',\n",
       " 'startswith',\n",
       " 'strip',\n",
       " 'swapcase',\n",
       " 'title',\n",
       " 'translate',\n",
       " 'upper',\n",
       " 'zfill']"
      ]
     },
     "execution_count": 10,
     "metadata": {},
     "output_type": "execute_result"
    }
   ],
   "source": [
    "dir(\"\")"
   ]
  },
  {
   "cell_type": "markdown",
   "metadata": {},
   "source": [
    "## Quelques types"
   ]
  },
  {
   "cell_type": "code",
   "execution_count": 2,
   "metadata": {
    "scrolled": true
   },
   "outputs": [
    {
     "name": "stdout",
     "output_type": "stream",
     "text": [
      "type(1) : <class 'int'>\n",
      "type(1.0) : <class 'float'>\n",
      "type(True or False and True) : <class 'bool'>\n",
      "type(\"a\") : <class 'str'>\n",
      "type(('a', 'b', 'c')) : <class 'tuple'>\n",
      "type(['a', 'b']) : <class 'list'>\n",
      "type({'a': 'A', 'b': 'B'}) : <class 'dict'>\n"
     ]
    }
   ],
   "source": [
    "print(\"type(1) :\", type(1))\n",
    "print(\"type(1.0) :\", type(1.0))\n",
    "print(\"type(True or False and True) :\", type(True or False and True))\n",
    "print('type(\"a\") :', type(\"a\"))\n",
    "print(\"type(('a', 'b', 'c')) :\", type(('a', 'b', 'c')))  # un tuple est immuable\n",
    "print(\"type(['a', 'b']) :\", type(['a', 'b']))\n",
    "print(\"type({'a': 'A', 'b': 'B'}) :\", type({'a': 'A', 'b': 'B'}))  #dictionnaire : structure clé-valeur"
   ]
  },
  {
   "cell_type": "markdown",
   "metadata": {
    "tags": []
   },
   "source": [
    "## If-elif-else and function"
   ]
  },
  {
   "cell_type": "code",
   "execution_count": 28,
   "metadata": {
    "scrolled": true
   },
   "outputs": [
    {
     "name": "stdout",
     "output_type": "stream",
     "text": [
      "lower than 3\n",
      "lower than 3\n",
      "equal 3\n"
     ]
    }
   ],
   "source": [
    "def my_function(a):\n",
    "    if a < 3:\n",
    "        return \"lower than 3\"\n",
    "    elif a == 3:\n",
    "        return \"equal 3\"\n",
    "    else:\n",
    "        return \"bigger than 3\"\n",
    "\n",
    "print(my_function(1))\n",
    "print(my_function(2))\n",
    "print(my_function(3))"
   ]
  },
  {
   "cell_type": "code",
   "execution_count": 4,
   "metadata": {
    "scrolled": true
   },
   "outputs": [
    {
     "name": "stdout",
     "output_type": "stream",
     "text": [
      "a is 3 and b is optionnal\n",
      "a is 3 and b is 4\n",
      "a is 6 and b is 7\n"
     ]
    }
   ],
   "source": [
    "def my_second_function(a, b=\"optionnal\"):\n",
    "    print(\"a is\", a, \"and b is\", b)\n",
    "\n",
    "my_second_function(\"3\")  # nous utilisons la valeur par défaut\n",
    "\n",
    "my_second_function(3, 4)  # nous mettons une valeur pour b\n",
    "my_second_function(6, b=7)  # nous mettons une valeur pour b "
   ]
  },
  {
   "cell_type": "code",
   "execution_count": 5,
   "metadata": {
    "scrolled": true
   },
   "outputs": [
    {
     "name": "stdout",
     "output_type": "stream",
     "text": [
      "('a', 'b', 99, 100)\n"
     ]
    }
   ],
   "source": [
    "def my_third_function():\n",
    "    return \"a\", \"b\", 99, 100\n",
    "\n",
    "print(my_third_function())"
   ]
  },
  {
   "cell_type": "markdown",
   "metadata": {},
   "source": [
    "## Les listes"
   ]
  },
  {
   "cell_type": "code",
   "execution_count": 18,
   "metadata": {},
   "outputs": [
    {
     "data": {
      "text/plain": [
       "[2, 3, 4, 5, 6, 7]"
      ]
     },
     "execution_count": 18,
     "metadata": {},
     "output_type": "execute_result"
    }
   ],
   "source": [
    "l[2:8]"
   ]
  },
  {
   "cell_type": "code",
   "execution_count": 16,
   "metadata": {
    "scrolled": true
   },
   "outputs": [
    {
     "name": "stdout",
     "output_type": "stream",
     "text": [
      "l : [0, 1, 2, 3, 4, 5, 6, 7, 8, 9]\n",
      "len(l): 10\n",
      "l[10] : 0\n",
      "l[-2] : 8\n",
      "l[:2] : [0, 1]\n",
      "l[:2] : [2, 3, 4, 5, 6, 7, 8, 9]\n"
     ]
    }
   ],
   "source": [
    "l = [0, 1, 2, 3, 4, 5, 6, 7, 8, 9]\n",
    "\n",
    "print(\"l :\", l)\n",
    "print(\"len(l):\", len(l))\n",
    "print(\"l[10] :\", l[0])  # index à l'endroit\n",
    "print(\"l[-2] :\", l[-2])  # index à l'envers\n",
    "print(\"l[:2] :\", l[:2])  # Les 2 premiers éléments\n",
    "print(\"l[:2] :\", l[2:])  # la liste sans les deux premiers éléments"
   ]
  },
  {
   "cell_type": "code",
   "execution_count": null,
   "metadata": {},
   "outputs": [],
   "source": []
  },
  {
   "cell_type": "code",
   "execution_count": 7,
   "metadata": {
    "scrolled": true
   },
   "outputs": [
    {
     "name": "stdout",
     "output_type": "stream",
     "text": [
      "l : [0, 1, 2, 3, 4, 5, 6, 7, 8, 9, 'un élément']\n",
      "l.pop() : un élément\n",
      "l : [0, 1, 2, 3, 4, 5, 6, 7, 8, 9]\n"
     ]
    }
   ],
   "source": [
    "l.append(\"un élément\")  # insertion à la fin\n",
    "print(\"l :\", l)\n",
    "\n",
    "print(\"l.pop() :\", l.pop())  # \"pop\" du dernier élément\n",
    "print(\"l :\", l)"
   ]
  },
  {
   "cell_type": "code",
   "execution_count": 8,
   "metadata": {
    "scrolled": true
   },
   "outputs": [
    {
     "name": "stdout",
     "output_type": "stream",
     "text": [
      "l : [0, 1, 2, 3, 4, '5ème élement', '6ème élement', 5, 6, 7, 8, 9]\n",
      "l.pop(5) : 5ème élement\n",
      "l : [0, 1, 2, 3, 4, 5, 6, 7, 8, 9]\n"
     ]
    }
   ],
   "source": [
    "l = [0, 1, 2, 3, 4, 5, 6, 7, 8, 9]\n",
    "\n",
    "l.insert(5, \"5ème élement\")  # insertion par indice\n",
    "l.insert(6, \"6ème élement\")  # insertion par indice\n",
    "print(\"l :\", l)\n",
    "\n",
    "print(\"l.pop(5) :\", l.pop(5))  # pop par l'indice\n",
    "l.remove(\"6ème élement\")  # suppression par valeur\n",
    "print(\"l :\", l)"
   ]
  },
  {
   "cell_type": "markdown",
   "metadata": {},
   "source": [
    "## Les strings"
   ]
  },
  {
   "cell_type": "code",
   "execution_count": 9,
   "metadata": {},
   "outputs": [
    {
     "name": "stdout",
     "output_type": "stream",
     "text": [
      "String commence par \"St\"\n",
      "String finir par \"ng\"\n"
     ]
    }
   ],
   "source": [
    "if \"String\".startswith(\"St\"):\n",
    "    print(\"String commence par \\\"St\\\"\")\n",
    "    \n",
    "if \"String\".endswith(\"ng\"):\n",
    "    print(\"String finir par \\\"ng\\\"\")"
   ]
  },
  {
   "cell_type": "code",
   "execution_count": 10,
   "metadata": {
    "scrolled": true
   },
   "outputs": [
    {
     "name": "stdout",
     "output_type": "stream",
     "text": [
      "|L'operateur| |+|\n",
      "|L'operateur * ||L'operateur * ||L'operateur * |\n"
     ]
    }
   ],
   "source": [
    "print(\"|L'operateur|\" + \" \" + \"|+|\")\n",
    "print(\"|L'operateur * |\" * 3)"
   ]
  },
  {
   "cell_type": "code",
   "execution_count": 11,
   "metadata": {
    "scrolled": true
   },
   "outputs": [
    {
     "name": "stdout",
     "output_type": "stream",
     "text": [
      "String Multi\n",
      "Ligne\n"
     ]
    },
    {
     "data": {
      "text/plain": [
       "'également utilisé comme\\ncommentaire multiligne'"
      ]
     },
     "execution_count": 11,
     "metadata": {},
     "output_type": "execute_result"
    }
   ],
   "source": [
    "print(\"\"\"String Multi\n",
    "Ligne\"\"\")\n",
    "\n",
    "\"\"\"également utilisé comme\n",
    "commentaire multiligne\"\"\""
   ]
  },
  {
   "cell_type": "code",
   "execution_count": 4,
   "metadata": {
    "scrolled": true
   },
   "outputs": [
    {
     "name": "stdout",
     "output_type": "stream",
     "text": [
      "s : Un string pour tester\n",
      "s[0] : U\n",
      "s[:9] : Un string\n",
      "s[9:] :  pour tester\n"
     ]
    }
   ],
   "source": [
    "s = \"Un string pour tester\"\n",
    "\n",
    "# l'indexage fonctionne exactement comme pour les listes\n",
    "print(\"s :\", s)\n",
    "print(\"s[0] :\", s[0])\n",
    "print(\"s[:9] :\", s[:9])\n",
    "print(\"s[9:] :\", s[9:])"
   ]
  },
  {
   "cell_type": "code",
   "execution_count": 13,
   "metadata": {},
   "outputs": [
    {
     "name": "stdout",
     "output_type": "stream",
     "text": [
      "Ceci est 1 formatage de string\n"
     ]
    }
   ],
   "source": [
    "print(\"Ceci %s %s %s de %s\" % (\"est\", 1, \"formatage\", \"string\"))"
   ]
  },
  {
   "cell_type": "markdown",
   "metadata": {},
   "source": [
    "### split string"
   ]
  },
  {
   "cell_type": "code",
   "execution_count": 14,
   "metadata": {
    "scrolled": true
   },
   "outputs": [
    {
     "name": "stdout",
     "output_type": "stream",
     "text": [
      "s.split(\" \") : ['Un', 'string', 'pour', 'tester']\n",
      "\n",
      "\"_\".join(s.split()) : Un_string_pour_tester\n"
     ]
    }
   ],
   "source": [
    "s = \"Un string pour tester\"\n",
    "\n",
    "print(\"s.split(\\\" \\\") :\", s.split(\" \"))  # on divise notre string par les espaces -> retourne une liste\n",
    "print()\n",
    "print(\"\\\"_\\\".join(s.split()) :\", \"_\".join(s.split()))  # une liste de string peut être \"join\" pour refaire un unique string "
   ]
  },
  {
   "cell_type": "code",
   "execution_count": 15,
   "metadata": {
    "scrolled": true
   },
   "outputs": [
    {
     "name": "stdout",
     "output_type": "stream",
     "text": [
      "s.split(\" \", 1) : ['Un', 'string pour tester']\n",
      "s.rsplit(, 1) : ['Un string pour', 'tester']\n"
     ]
    }
   ],
   "source": [
    "s = \"Un string pour tester\"\n",
    "\n",
    "print(\"s.split(\\\" \\\", 1) :\", s.split(\" \", 1))  # on limite le nombre de coupe à 1\n",
    "print(\"s.rsplit(\" \", 1) :\", s.rsplit(\" \", 1))  # idem en commençant par la droite \"Right split\""
   ]
  },
  {
   "cell_type": "markdown",
   "metadata": {},
   "source": [
    "### replace in string"
   ]
  },
  {
   "cell_type": "code",
   "execution_count": 16,
   "metadata": {
    "scrolled": true
   },
   "outputs": [
    {
     "name": "stdout",
     "output_type": "stream",
     "text": [
      "s.replace(\" \", \"_\") : Un_string_pour_tester\n"
     ]
    }
   ],
   "source": [
    "s = \"Un string pour tester\"\n",
    "\n",
    "print(\"s.replace(\\\" \\\", \\\"_\\\") :\", s.replace(\" \", \"_\"))"
   ]
  },
  {
   "cell_type": "markdown",
   "metadata": {},
   "source": [
    "### strip (clean) string"
   ]
  },
  {
   "cell_type": "code",
   "execution_count": 17,
   "metadata": {
    "scrolled": true
   },
   "outputs": [
    {
     "name": "stdout",
     "output_type": "stream",
     "text": [
      "s2 : [\t  \t  Un string pour tester\n",
      "]\n",
      "------------------------------\n",
      "s2.strip() : [Un string pour tester]\n",
      "s2.rstrip() : [\t  \t  Un string pour tester]\n",
      "s2.lstrip() : [Un string pour tester\n",
      "]\n"
     ]
    }
   ],
   "source": [
    "s2 = \"\\t  \\t  Un string pour tester\\n\"  # un string un peu moche\n",
    "\n",
    "print(\"s2 : [\" + s2 + \"]\")\n",
    "print(\"-\" * 30)\n",
    "print(\"s2.strip() : [\" + s2.strip() + \"]\")  # strip retire les espaces, tabulations, retours à la ligne, ...\n",
    "print(\"s2.rstrip() : [\" + s2.rstrip() + \"]\")  # strip à droite \"Right strip\"\n",
    "print(\"s2.lstrip() : [\" + s2.lstrip() + \"]\")  # strip à droite \"Left strip\""
   ]
  },
  {
   "cell_type": "code",
   "execution_count": 18,
   "metadata": {
    "scrolled": true
   },
   "outputs": [
    {
     "name": "stdout",
     "output_type": "stream",
     "text": [
      "Un string\n"
     ]
    }
   ],
   "source": [
    "print(\"aaaa Un string bbbb\".strip(\"ab \"))  # on spécifie ce que strip doit stripper : les a, les b et les espaces."
   ]
  },
  {
   "cell_type": "markdown",
   "metadata": {},
   "source": [
    "## Les dictionnaires\n",
    "\n",
    "(hashmap)"
   ]
  },
  {
   "cell_type": "code",
   "execution_count": 22,
   "metadata": {
    "scrolled": true
   },
   "outputs": [
    {
     "name": "stdout",
     "output_type": "stream",
     "text": [
      "d['a'] : 97\n",
      "{'a': 97, 'b': 98, 'c': 99}\n",
      "{'a': 97, 'b': 98, 'c': 99, 'd': 100}\n"
     ]
    }
   ],
   "source": [
    "d = {\n",
    "    'a': 97,\n",
    "    'b': 98,\n",
    "    'c': 99\n",
    "}\n",
    "\n",
    "print(\"d['a'] :\", d['a'])\n",
    "print(d)\n",
    "d['d'] = 100\n",
    "print(d)"
   ]
  },
  {
   "cell_type": "code",
   "execution_count": 20,
   "metadata": {
    "scrolled": true
   },
   "outputs": [
    {
     "name": "stdout",
     "output_type": "stream",
     "text": [
      "'a' in d : True\n",
      "'e' in d : False\n"
     ]
    }
   ],
   "source": [
    "print(\"'a' in d :\", 'a' in d)  # return boolean\n",
    "print(\"'e' in d :\", 'e' in d)  # return boolean"
   ]
  },
  {
   "cell_type": "code",
   "execution_count": 21,
   "metadata": {
    "scrolled": true
   },
   "outputs": [
    {
     "name": "stdout",
     "output_type": "stream",
     "text": [
      "d.keys()  : dict_keys(['a', 'b', 'c', 'd'])\n",
      "d.items() : dict_items([('a', 97), ('b', 98), ('c', 99), ('d', 100)])\n"
     ]
    }
   ],
   "source": [
    "print(\"d.keys()  :\", d.keys())\n",
    "print(\"d.items() :\", d.items())"
   ]
  },
  {
   "cell_type": "code",
   "execution_count": 23,
   "metadata": {},
   "outputs": [
    {
     "name": "stdout",
     "output_type": "stream",
     "text": [
      "clé:  a\n",
      "valeur:  97\n",
      "----\n",
      "clé:  b\n",
      "valeur:  98\n",
      "----\n",
      "clé:  c\n",
      "valeur:  99\n",
      "----\n",
      "clé:  d\n",
      "valeur:  100\n",
      "----\n"
     ]
    }
   ],
   "source": [
    "for k, v in d.items():\n",
    "    print(\"clé: \", k)\n",
    "    print(\"valeur: \", v)\n",
    "    print(\"----\")"
   ]
  },
  {
   "cell_type": "markdown",
   "metadata": {},
   "source": [
    "## Les boucles"
   ]
  },
  {
   "cell_type": "code",
   "execution_count": 22,
   "metadata": {
    "scrolled": true
   },
   "outputs": [
    {
     "name": "stdout",
     "output_type": "stream",
     "text": [
      "0\n",
      "1\n",
      "2\n"
     ]
    }
   ],
   "source": [
    "i = 0\n",
    "while i < 3:\n",
    "    print(i)\n",
    "    i += 1"
   ]
  },
  {
   "cell_type": "code",
   "execution_count": 23,
   "metadata": {
    "scrolled": true
   },
   "outputs": [
    {
     "name": "stdout",
     "output_type": "stream",
     "text": [
      "0\n",
      "1\n",
      "2\n",
      "---\n",
      "3\n",
      "5\n",
      "7\n",
      "---\n",
      "hello  0\n",
      "hello  1\n",
      "hello  2\n",
      "hello  3\n",
      "hello  4\n"
     ]
    }
   ],
   "source": [
    "# La boucle for en python est un \"for each\" en java qui s'applique sur des itérables.\n",
    "# Pour avoir un compteur, nous pouvons utiliser la fonction range(stop) ou range(start, stop [, step]).\n",
    "\n",
    "for i in range(3):  # équivalent for (int i = 0; i < 3; i++)\n",
    "    print(i)\n",
    "    \n",
    "print(\"---\")\n",
    "\n",
    "for i in range(3, 9, 2):  # range(start, stop [, step])\n",
    "    print(i)\n",
    "    \n",
    "print(\"---\")\n",
    "    \n",
    "for z in range(5):\n",
    "    print(\"hello \", z)"
   ]
  },
  {
   "cell_type": "code",
   "execution_count": 24,
   "metadata": {
    "scrolled": true
   },
   "outputs": [
    {
     "name": "stdout",
     "output_type": "stream",
     "text": [
      "G\n",
      "N\n",
      "U\n"
     ]
    }
   ],
   "source": [
    "# En python, énormément de chose sont des itérables / parcourable.\n",
    "for letter in \"GNU\":\n",
    "    print(letter)"
   ]
  },
  {
   "cell_type": "code",
   "execution_count": 25,
   "metadata": {
    "scrolled": true
   },
   "outputs": [
    {
     "name": "stdout",
     "output_type": "stream",
     "text": [
      "0\n",
      "1\n",
      "2\n"
     ]
    }
   ],
   "source": [
    "for elem in [0, 1, 2]:\n",
    "    print(elem)"
   ]
  },
  {
   "cell_type": "code",
   "execution_count": 26,
   "metadata": {
    "scrolled": true
   },
   "outputs": [
    {
     "name": "stdout",
     "output_type": "stream",
     "text": [
      "2 3 4 5 6\n",
      "a b 99 100\n"
     ]
    }
   ],
   "source": [
    "a, b = (2, 3)  # on peut \"unpacker\" un \"truc\" (tuple, liste, etc ...) dans plusieurs variables\n",
    "c, d, e = [4, 5, 6]\n",
    "f, g, h, i = my_third_function()  # notre fonction définie plus haut\n",
    "\n",
    "print(a, b, c, d, e)\n",
    "print(f, g, h, i)"
   ]
  },
  {
   "cell_type": "code",
   "execution_count": 27,
   "metadata": {
    "scrolled": true
   },
   "outputs": [
    {
     "name": "stdout",
     "output_type": "stream",
     "text": [
      "Key a has value 97\n",
      "Key b has value 98\n",
      "Key c has value 99\n"
     ]
    }
   ],
   "source": [
    "# l'unpacking peut être utiliser dans les boucles\n",
    "d = {'a': 97, 'b': 98, 'c': 99}\n",
    "\n",
    "for k, v in d.items():\n",
    "    print(\"Key\", k, \"has value\", v)"
   ]
  },
  {
   "cell_type": "markdown",
   "metadata": {},
   "source": [
    "## Autre\n",
    "### Manipulation de fichier"
   ]
  },
  {
   "cell_type": "code",
   "execution_count": 28,
   "metadata": {
    "scrolled": true
   },
   "outputs": [],
   "source": [
    "try:\n",
    "    file = open(\"data.txt\", \"r\")\n",
    "\n",
    "    file_content = file.read()  # charge tout le fichier dans un string\n",
    "    # OU\n",
    "    file_content = file.readline()  # lit la ligne suivante du fichier\n",
    "    # OU\n",
    "    file_content = file.readlines()  # renvoi un iterateur de chaque ligne du fichier\n",
    "\n",
    "    file.close()  # n'oubliez pas de fermer le fichier\n",
    "except FileNotFoundError as e:\n",
    "    print(\"The file doesn't exist\")"
   ]
  },
  {
   "cell_type": "code",
   "execution_count": 29,
   "metadata": {},
   "outputs": [
    {
     "name": "stdout",
     "output_type": "stream",
     "text": [
      "line 1\n",
      "\n",
      "line 2\n",
      "\n",
      "line 3\n",
      "\n"
     ]
    }
   ],
   "source": [
    "try:\n",
    "    file = open(\"data.txt\", \"r\")\n",
    "    \n",
    "    for line in file.readlines():\n",
    "        print(line)\n",
    "        \n",
    "    file.close()  # n'oubliez pas de fermer le fichier\n",
    "except FileNotFoundError as e:\n",
    "    print(\"The file doesn't exist\")"
   ]
  },
  {
   "cell_type": "markdown",
   "metadata": {},
   "source": [
    "### Regex"
   ]
  },
  {
   "cell_type": "code",
   "execution_count": 30,
   "metadata": {
    "scrolled": true
   },
   "outputs": [
    {
     "name": "stdout",
     "output_type": "stream",
     "text": [
      "08:30 match \\d\\d:\\d\\d\n",
      "13:00 match \\d\\d:\\d\\d\n",
      "5ème élement ne match pas  \\d\\d:\\d\\d\n",
      "14:00 match \\d\\d:\\d\\d\n"
     ]
    }
   ],
   "source": [
    "import re\n",
    "\n",
    "regex = \"\\d\\d:\\d\\d\"\n",
    "s = \"08:30\"\n",
    "\n",
    "if re.match(regex, s):  # renvoi un object match si ça match, sinon \"None\".\n",
    "    print(s, \"match\", regex)\n",
    "    \n",
    "\n",
    "compiled_regex = re.compile(regex)  # prepare une regex\n",
    "\n",
    "for s in [\"13:00\", \"5ème élement\", \"14:00\"]:\n",
    "    if compiled_regex.match(s):  # test s sur la regex\n",
    "        print(s, \"match\", regex)\n",
    "    else:\n",
    "        print(s, \"ne match pas \", regex)"
   ]
  },
  {
   "cell_type": "markdown",
   "metadata": {},
   "source": [
    "### La librairie requests"
   ]
  },
  {
   "cell_type": "code",
   "execution_count": 1,
   "metadata": {},
   "outputs": [
    {
     "name": "stdout",
     "output_type": "stream",
     "text": [
      "Error : Not Found\n",
      "---\n",
      "<!DOCTYPE html PUBLIC \"-//W3C//DTD HTML 4.01 Transitional//EN\">\n",
      "<html>\n",
      "\n",
      "<head>\n",
      "    <title>MonIP.org v1.0</title>\n",
      "    <META http-equiv=\"Content-type\" content=\"text/html; charset=UTF-8\">\n",
      "</head>\n",
      "<P ALIGN=\"center\"><FONT size=8><BR>IP : xx.xx.xx.xx<br></font><font size=3><i>xx.xx-xx-xx.adsl-dyn.isp.belgacom.be</i><br></font><font size=1><br><br>Pas de proxy détecté - No Proxy detected</font></html>\n"
     ]
    }
   ],
   "source": [
    "import requests\n",
    "\n",
    "def req_wrapper(url):\n",
    "    req = requests.get(url)\n",
    "    if req.ok:\n",
    "        print(req.text)\n",
    "    else:\n",
    "        print(\"Error :\", req.reason)\n",
    "        \n",
    "req_wrapper(\"http://monip.org/not_existing_url_well_I_hope_so\")\n",
    "print(\"---\")\n",
    "req_wrapper(\"http://monip.org/\")"
   ]
  },
  {
   "cell_type": "code",
   "execution_count": 2,
   "metadata": {},
   "outputs": [
    {
     "name": "stdout",
     "output_type": "stream",
     "text": [
      "<!DOCTYPE html>\n",
      "<html lang=\"en\">\n",
      "<p id='result'>Connected !</p></html>\n",
      "\n"
     ]
    }
   ],
   "source": [
    "data_dict = {\"login\": \"admin\", \"password\":\"admin\"}\n",
    "\n",
    "print(requests.post(\"http://labosecuipl.alwaysdata.net/21/s01/cs_form/\", data=data_dict).text)"
   ]
  },
  {
   "cell_type": "markdown",
   "metadata": {},
   "source": [
    "### La librairie BeautifulSoup"
   ]
  },
  {
   "cell_type": "code",
   "execution_count": 3,
   "metadata": {},
   "outputs": [
    {
     "name": "stdout",
     "output_type": "stream",
     "text": [
      "Cobalt => Co\n",
      "Copper => Cu\n"
     ]
    }
   ],
   "source": [
    "from bs4 import BeautifulSoup\n",
    "\n",
    "req = requests.get(\"http://labosecuipl.alwaysdata.net/21/s01/table/\")\n",
    "soup = BeautifulSoup(req.text)\n",
    "\n",
    "for row in soup.find_all(\"tr\")[1:]:  #nb: row est un objet Tag de beautifulSoup\n",
    "    column = row.find_all(\"td\")\n",
    "    print(column[0].text, \"=>\", column[1].text)"
   ]
  },
  {
   "cell_type": "code",
   "execution_count": 34,
   "metadata": {},
   "outputs": [
    {
     "name": "stdout",
     "output_type": "stream",
     "text": [
      "Cobalt\n",
      "Copper\n"
     ]
    }
   ],
   "source": [
    "for elem in soup.select(\"table tr td:nth-child(1)\"):  #css selector\n",
    "    print(elem.text)"
   ]
  },
  {
   "cell_type": "markdown",
   "metadata": {},
   "source": [
    "Une cheatsheet plus détaillé de BeautifulSoup peut être trouvé là : [https://gist.github.com/yoki/b7f2fcef64c893e307c4c59303ead19a](https://gist.github.com/yoki/b7f2fcef64c893e307c4c59303ead19a)"
   ]
  },
  {
   "cell_type": "markdown",
   "metadata": {},
   "source": [
    "### Pour aller plus loin en python :"
   ]
  },
  {
   "cell_type": "code",
   "execution_count": 4,
   "metadata": {
    "scrolled": true
   },
   "outputs": [
    {
     "name": "stdout",
     "output_type": "stream",
     "text": [
      "Les éléments aux index 3 à 8 non inclus :\n",
      " [3, 4, 5, 6, 7]\n",
      "Les éléments aux index -5 à -2 non inclus :\n",
      " [6, 7, 8]\n",
      "Un élément sur deux :\n",
      " [0, 2, 4, 6, 8, 10]\n"
     ]
    }
   ],
   "source": [
    "l = [0, 1, 2, 3, 4, 5, 6, 7, 8, 9, 10]\n",
    "\n",
    "# slices avancé sur les listes\n",
    "print(\"Les éléments aux index 3 à 8 non inclus :\\n\", l[3:8])\n",
    "print(\"Les éléments aux index -5 à -2 non inclus :\\n\", l[-5:-2])\n",
    "print(\"Un élément sur deux :\\n\", l[::2])"
   ]
  },
  {
   "cell_type": "code",
   "execution_count": 36,
   "metadata": {
    "scrolled": true
   },
   "outputs": [
    {
     "name": "stdout",
     "output_type": "stream",
     "text": [
      "[1, 3, 5, 7, 9]\n"
     ]
    }
   ],
   "source": [
    "# comprehension list\n",
    "odd_l = [elem for elem in l if elem%2 != 0]\n",
    "print(odd_l)"
   ]
  },
  {
   "cell_type": "code",
   "execution_count": 37,
   "metadata": {
    "scrolled": true
   },
   "outputs": [
    {
     "name": "stdout",
     "output_type": "stream",
     "text": [
      "{97: 'a', 98: 'b', 99: 'c'}\n",
      "{'a': 97, 'b': 98, 'c': 99}\n"
     ]
    }
   ],
   "source": [
    "# La même avec un dictionnaire : dictionary comprehension\n",
    "\n",
    "d = {\n",
    "    k: chr(k) for k in range(97, 100)  # chr() traduit une valeur ascii vers sont caractère.\n",
    "}\n",
    "print(d)\n",
    "d2 = {\n",
    "    k: ord(k) for k in \"abc\"  # ord() traduit un caractère vers sa valeur ascii\n",
    "}\n",
    "print(d2)"
   ]
  },
  {
   "cell_type": "code",
   "execution_count": 38,
   "metadata": {
    "scrolled": true
   },
   "outputs": [
    {
     "name": "stdout",
     "output_type": "stream",
     "text": [
      "<class 'tuple'>\n",
      "()\n",
      "<class 'dict'>\n",
      "{}\n",
      "------------------------------\n",
      "<class 'tuple'>\n",
      "('a', 'b')\n",
      "<class 'dict'>\n",
      "{}\n",
      "------------------------------\n",
      "<class 'tuple'>\n",
      "('a', 'b')\n",
      "<class 'dict'>\n",
      "{'c': 'c', 'd': 'd'}\n",
      "------------------------------\n"
     ]
    }
   ],
   "source": [
    "def better_function(*args, **kwargs):\n",
    "    print(type(args))\n",
    "    print(args)\n",
    "    print(type(kwargs))\n",
    "    print(kwargs)\n",
    "    print(\"-\" * 30)\n",
    "    \n",
    "better_function()\n",
    "better_function(\"a\", \"b\")\n",
    "better_function(\"a\", \"b\", c=\"c\", d=\"d\")"
   ]
  }
 ],
 "metadata": {
  "kernelspec": {
   "display_name": "Python 3 (ipykernel)",
   "language": "python",
   "name": "python3"
  },
  "language_info": {
   "codemirror_mode": {
    "name": "ipython",
    "version": 3
   },
   "file_extension": ".py",
   "mimetype": "text/x-python",
   "name": "python",
   "nbconvert_exporter": "python",
   "pygments_lexer": "ipython3",
   "version": "3.10.11"
  }
 },
 "nbformat": 4,
 "nbformat_minor": 4
}
