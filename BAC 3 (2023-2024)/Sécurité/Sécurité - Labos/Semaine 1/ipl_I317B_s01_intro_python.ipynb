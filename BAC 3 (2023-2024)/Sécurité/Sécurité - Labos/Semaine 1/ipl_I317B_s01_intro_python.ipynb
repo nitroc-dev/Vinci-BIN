{
 "cells": [
  {
   "cell_type": "markdown",
   "metadata": {},
   "source": [
    "# ipl I317B Sécurité : labos\n",
    "## Semaine 1 : introduction et outils python\n",
    "\n",
    "### Partie 1 : manipuler du texte"
   ]
  },
  {
   "cell_type": "markdown",
   "metadata": {},
   "source": [
    "#### Exercice 1\n",
    "Pour ce premier exercice, nous allons manipuler un court extrait de logs d'un serveur web nginx.  \n",
    "Pour chaque ligne de celui-ci, extrayez:\n",
    "- l'adresse IP\n",
    "- le timestamp\n",
    "- le chemin demandé"
   ]
  },
  {
   "cell_type": "code",
   "execution_count": 2,
   "metadata": {},
   "outputs": [],
   "source": [
    "logs = \"\"\"91.160.48.68 - - [3/Sep/2020:18:18:10 +0200] \"GET /?C=M;O=D HTTP/1.1\" 301 178 \"-\" \"Mozilla/5.0 (Windows NT 10.0; Win64; x64; rv:80.0) Gecko/20100101 Firefox/80.0\" \"-\"\n",
    "78.224.72.158 - - [3/Sep/2020:18:24:52 +0200] \"GET / HTTP/1.1\" 301 178 \"-\" \"Mozilla/5.0 (Windows NT 10.0; Win64; x64; rv:80.0) Gecko/20100101 Firefox/80.0\" \"-\"\n",
    "192.241.199.4 - - [3/Sep/2020:19:11:15 +0200] \"GET / HTTP/1.1\" 301 178 \"-\" \"Mozilla/5.0 zgrab/0.x\" \"-\"\n",
    "40.121.69.161 - - [3/Sep/2020:19:16:32 +0200] \"GET /.env HTTP/1.1\" 301 178 \"-\" \"Mozilla/5.0 (X11; Linux x86_64) AppleWebKit/537.36 (KHTML, like Gecko) Chrome/81.0.4044.129 Safari/537.36\" \"-\"\n",
    "40.121.69.161 - - [3/Sep/2020:19:16:32 +0200] \"POST / HTTP/1.1\" 301 178 \"-\" \"Mozilla/5.0 (X11; Linux x86_64) AppleWebKit/537.36 (KHTML, like Gecko) Chrome/81.0.4044.129 Safari/537.36\" \"-\"\n",
    "185.172.110.223 - - [3/Sep/2020:19:16:37 +0200] \"GET / HTTP/1.1\" 301 178 \"-\" \"Mozilla/5.0 (X11; Ubuntu; Linux x86_64; rv:76.0) Gecko/20100101 Firefox/76.0\" \"-\"\n",
    "66.249.75.16 - - [3/Sep/2020:19:23:28 +0200] \"GET / HTTP/1.1\" 301 178 \"-\" \"Mozilla/5.0 (Linux; Android 6.0.1; Nexus 5X Build/MMB29P) AppleWebKit/537.36 (KHTML, like Gecko) Chrome/85.0.4183.97 Mobile Safari/537.36 (compatible; Googlebot/2.1; +http://www.google.com/bot.html)\" \"-\"\n",
    "66.249.75.23 - - [3/Sep/2020:19:23:30 +0200] \"GET / HTTP/1.1\" 200 0 \"-\" \"Mozilla/5.0 (Linux; Android 6.0.1; Nexus 5X Build/MMB29P) AppleWebKit/537.36 (KHTML, like Gecko) Chrome/85.0.4183.97 Mobile Safari/537.36 (compatible; Googlebot/2.1; +http://www.google.com/bot.html)\" \"-\" \"\"\""
   ]
  },
  {
   "cell_type": "code",
   "execution_count": 5,
   "metadata": {
    "tags": []
   },
   "outputs": [
    {
     "name": "stdout",
     "output_type": "stream",
     "text": [
      "91.160.48.68\n",
      "3/Sep/2020:18:18:10 +0200\n",
      "/?C=M;O=D\n",
      "---\n",
      "78.224.72.158\n",
      "3/Sep/2020:18:24:52 +0200\n",
      "/\n",
      "---\n",
      "192.241.199.4\n",
      "3/Sep/2020:19:11:15 +0200\n",
      "/\n",
      "---\n",
      "40.121.69.161\n",
      "3/Sep/2020:19:16:32 +0200\n",
      "/.env\n",
      "---\n",
      "40.121.69.161\n",
      "3/Sep/2020:19:16:32 +0200\n",
      "/\n",
      "---\n",
      "185.172.110.223\n",
      "3/Sep/2020:19:16:37 +0200\n",
      "/\n",
      "---\n",
      "66.249.75.16\n",
      "3/Sep/2020:19:23:28 +0200\n",
      "/\n",
      "---\n",
      "66.249.75.23\n",
      "3/Sep/2020:19:23:30 +0200\n",
      "/\n",
      "---\n"
     ]
    }
   ],
   "source": [
    "for line in logs.split(\"\\n\"):\n",
    "    print(line.split(\" \")[0])\n",
    "    print(line.split(\"[\")[1].split(\"]\")[0])\n",
    "    print(line.split(\" \")[6])\n",
    "\n",
    "    print(\"---\")"
   ]
  },
  {
   "cell_type": "code",
   "execution_count": 6,
   "metadata": {},
   "outputs": [
    {
     "name": "stdout",
     "output_type": "stream",
     "text": [
      "91.160.48.68\n",
      "3/Sep/2020:18:18:10 +0200\n",
      "/?C=M;O=D\n",
      "---\n",
      "78.224.72.158\n",
      "3/Sep/2020:18:24:52 +0200\n",
      "/\n",
      "---\n",
      "192.241.199.4\n",
      "3/Sep/2020:19:11:15 +0200\n",
      "/\n",
      "---\n",
      "40.121.69.161\n",
      "3/Sep/2020:19:16:32 +0200\n",
      "/.env\n",
      "---\n",
      "40.121.69.161\n",
      "3/Sep/2020:19:16:32 +0200\n",
      "/\n",
      "---\n",
      "185.172.110.223\n",
      "3/Sep/2020:19:16:37 +0200\n",
      "/\n",
      "---\n",
      "66.249.75.16\n",
      "3/Sep/2020:19:23:28 +0200\n",
      "/\n",
      "---\n",
      "66.249.75.23\n",
      "3/Sep/2020:19:23:30 +0200\n",
      "/\n",
      "---\n"
     ]
    }
   ],
   "source": [
    "file = open(\"./logs.txt\", \"r\")\n",
    "lines = file.readlines()\n",
    "file.close()\n",
    "\n",
    "for line in lines:\n",
    "    print(line.split(\" \")[0])\n",
    "    print(line.split(\"[\")[1].split(\"]\")[0])\n",
    "    print(line.split(\" \")[6])\n",
    "\n",
    "    print(\"---\")"
   ]
  },
  {
   "cell_type": "markdown",
   "metadata": {},
   "source": [
    "#### Exercice 2\n",
    "Avec les mêmes logs que l'exercice précédent, comptez et affichez les différents user-agent."
   ]
  },
  {
   "cell_type": "code",
   "execution_count": 19,
   "metadata": {},
   "outputs": [
    {
     "name": "stdout",
     "output_type": "stream",
     "text": [
      "2  =>  Mozilla/5.0 (Windows NT 10.0; Win64; x64; rv:80.0) Gecko/20100101 Firefox/80.0\n",
      "1  =>  Mozilla/5.0 zgrab/0.x\n",
      "2  =>  Mozilla/5.0 (X11; Linux x86_64) AppleWebKit/537.36 (KHTML, like Gecko) Chrome/81.0.4044.129 Safari/537.36\n",
      "1  =>  Mozilla/5.0 (X11; Ubuntu; Linux x86_64; rv:76.0) Gecko/20100101 Firefox/76.0\n",
      "2  =>  Mozilla/5.0 (Linux; Android 6.0.1; Nexus 5X Build/MMB29P) AppleWebKit/537.36 (KHTML, like Gecko) Chrome/85.0.4183.97 Mobile Safari/537.36 (compatible; Googlebot/2.1; +http://www.google.com/bot.html)\n",
      "Nbr de User-Agent différents :  5\n"
     ]
    }
   ],
   "source": [
    "all_ua = {}\n",
    "\n",
    "for line in logs.split(\"\\n\"):\n",
    "    ua = line.split(\"\\\"\")[5]\n",
    "\n",
    "    if ua not in all_ua:\n",
    "        all_ua[ua] = 0\n",
    "\n",
    "    all_ua[ua] += 1\n",
    "\n",
    "for k,v in all_ua.items():\n",
    "    print(v, \" => \", k)\n",
    "\n",
    "print(\"Nbr de User-Agent différents : \", len(all_ua))"
   ]
  },
  {
   "cell_type": "markdown",
   "metadata": {},
   "source": [
    "### Partie 2 : requests et BeautifulSoup\n",
    "\n",
    "Assurez vous que les paquets suivant soient bien installé :\n",
    "\n",
    "`pip3 install --user requests bs4`\n",
    "\n",
    "`sudo pip3 install requests bs4`\n",
    "\n",
    "Depuis un jupyter notebook, vous pouvez probablement juste executer la case suivante :"
   ]
  },
  {
   "cell_type": "code",
   "execution_count": 13,
   "metadata": {},
   "outputs": [
    {
     "name": "stdout",
     "output_type": "stream",
     "text": [
      "Requirement already satisfied: requests in c:\\users\\cdhae\\anaconda3\\lib\\site-packages (2.31.0)\n",
      "Requirement already satisfied: bs4 in c:\\users\\cdhae\\appdata\\roaming\\python\\python311\\site-packages (0.0.1)\n",
      "Requirement already satisfied: charset-normalizer<4,>=2 in c:\\users\\cdhae\\anaconda3\\lib\\site-packages (from requests) (2.0.4)\n",
      "Requirement already satisfied: idna<4,>=2.5 in c:\\users\\cdhae\\anaconda3\\lib\\site-packages (from requests) (3.4)\n",
      "Requirement already satisfied: urllib3<3,>=1.21.1 in c:\\users\\cdhae\\anaconda3\\lib\\site-packages (from requests) (1.26.16)\n",
      "Requirement already satisfied: certifi>=2017.4.17 in c:\\users\\cdhae\\anaconda3\\lib\\site-packages (from requests) (2023.7.22)\n",
      "Requirement already satisfied: beautifulsoup4 in c:\\users\\cdhae\\anaconda3\\lib\\site-packages (from bs4) (4.12.2)\n",
      "Requirement already satisfied: soupsieve>1.2 in c:\\users\\cdhae\\anaconda3\\lib\\site-packages (from beautifulsoup4->bs4) (2.4)\n"
     ]
    }
   ],
   "source": [
    "!pip3 install --user requests bs4"
   ]
  },
  {
   "cell_type": "markdown",
   "metadata": {},
   "source": [
    "Le packet requests nous permet de faire des requêtes web facilement, par exemple :"
   ]
  },
  {
   "cell_type": "code",
   "execution_count": 14,
   "metadata": {},
   "outputs": [
    {
     "name": "stdout",
     "output_type": "stream",
     "text": [
      "ok\n"
     ]
    }
   ],
   "source": [
    "import requests\n",
    "\n",
    "ipl_req = requests.get(\"https://www.vinci.be/fr/formations/informatique-de-gestion\")\n",
    "\n",
    "if ipl_req.ok:\n",
    "    print(\"ok\")\n",
    "    ipl_html = ipl_req.text\n",
    "else:\n",
    "    print(ipl_req.status_code)\n",
    "    print(ipl_req.reason)\n",
    "\n",
    "# Doc requests : https://requests.readthedocs.io/en/latest/ )"
   ]
  },
  {
   "cell_type": "code",
   "execution_count": 15,
   "metadata": {
    "jupyter": {
     "outputs_hidden": true
    },
    "tags": []
   },
   "outputs": [
    {
     "data": {
      "text/plain": [
       "'\\n\\n\\n\\n    <!doctype html>\\n<html class=\"no-js preload\" lang=\"fr\">\\n<head>\\n    \\n<!-- Google Tag Manager -->\\n<script>(function(w,d,s,l,i){w[l]=w[l]||[];w[l].push({\\'gtm.start\\':\\nnew Date().getTime(),event:\\'gtm.js\\'});var f=d.getElementsByTagName(s)[0],\\nj=d.createElement(s),dl=l!=\\'dataLayer\\'?\\'&l=\\'+l:\\'\\';j.async=true;j.src=\\n\\'https://www.googletagmanager.com/gtm.js?id=\\'+i+dl;f.parentNode.insertBefore(j,f);\\n})(window,document,\\'script\\',\\'dataLayer\\',\\'GTM-5LFXRJB\\');</script>\\n<!-- End Google Tag Manager -->\\n\\n    <meta charset=\"utf-8\">\\n    <meta http-equiv=\"X-UA-Compatible\" content=\"IE=edge\">\\n\\n    <!-- Metas -->\\n    <title>Informatique - développement d’applications (anciennement Informatique de gestion) | HE VINCI</title>\\n\\n    <meta name=\"description\" content=\"Bachelier, 3 ans, Sciences et techniques, Woluwe\">\\n    <meta name=\"keywords\" content=\"\">\\n\\n\\n    <meta property=\"og:site_name\" content=\"Haute École Léonard de Vinci\">\\n    <meta property=\"og:title\" content=\"Informatique - développement d’applications (anciennement Informatique de gestion) | HE VINCI\">\\n    <meta property=\"og:description\" content=\"Bachelier, 3 ans, Sciences et techniques, Woluwe\">\\n    <meta property=\"og:type\" content=\"website\">\\n    <meta property=\"og:url\" content=\"https://www.vinci.be/fr/formations/informatique-de-gestion\">\\n    <meta property=\"og:image\" content=\"https://www.vinci.be/uploads/formations/_1800x945_crop_center-center_none/HEVINCI_formation_informatique.jpg\">\\n    <meta property=\"og:image:width\" content=\"1800\">\\n    <meta property=\"og:image:height\" content=\"945\">\\n\\n    <meta name=\"twitter:card\" content=\"summary_large_image\">\\n    <meta name=\"twitter:site\" content=\"Haute École Léonard de Vinci\">\\n    <meta name=\"twitter:creator\" content=\"\">\\n    <meta name=\"twitter:title\" content=\"Informatique - développement d’applications (anciennement Informatique de gestion) | HE VINCI\">\\n    <meta name=\"twitter:description\" content=\"Bachelier, 3 ans, Sciences et techniques, Woluwe\">\\n    <meta name=\"twitter:image\" content=\"https://www.vinci.be/uploads/formations/_1800x945_crop_center-center_none/HEVINCI_formation_informatique.jpg\">\\n\\n    <!-- Viewport -->\\n    <meta name=\"viewport\" content=\"width=device-width, initial-scale=1\">\\n\\n    <!-- CSS -->\\n                    <style>\\n            :root { --themeColor: #f8aa00; }\\n            .bg-theme { background: #f8aa00; }\\n            .fill-theme { fill: #f8aa00; }\\n            .stroke-theme { stroke: #f8aa00; }\\n            .c-theme { color: #f8aa00; }\\n        </style>\\n        <link href=\"/static//css/app.css?id=de79ab6c3fab1fe5ddc3\" rel=\"stylesheet\">\\n\\n    <!-- Icons -->\\n    <link rel=\"manifest\" href=\"/static/img/app-icons/manifest.json\">\\n    <link rel=\"shortcut icon\" href=\"/static/img/app-icons/favicon.ico\">\\n    <link rel=\"mask-icon\" href=\"/static/img/app-icons/safari-pinned-tab.svg\" color=\"#058aae\">\\n    <link rel=\"icon\" type=\"image/png\" href=\"/static/img/app-icons/favicon-96x96.png\" sizes=\"96x96\">\\n    <link rel=\"icon\" type=\"image/png\" href=\"/static/img/app-icons/favicon-32x32.png\" sizes=\"32x32\">\\n    <link rel=\"icon\" type=\"image/png\" href=\"/static/img/app-icons/favicon-16x16.png\" sizes=\"16x16\">\\n    <link rel=\"apple-touch-icon\" sizes=\"120x120\" href=\"/static/img/app-icons/apple-touch-icon.png\">\\n    <link rel=\"apple-touch-icon\" sizes=\"152x152\" href=\"/static/img/app-icons/apple-touch-icon_152.png\">\\n    <link rel=\"apple-touch-icon\" sizes=\"180x180\" href=\"/static/img/app-icons/apple-touch-icon_180.png\">\\n    <link rel=\"apple-touch-icon\" sizes=\"192x192\" href=\"/static/img/app-icons/apple-touch-icon_192.png\">\\n\\n    <!-- Web App -->\\n    <meta name=\"theme-color\" content=\"#ffffff\">\\n    <meta name=\"mobile-web-app-capable\" content=\"yes\">\\n    <meta name=\"apple-mobile-web-app-capable\" content=\"yes\">\\n    <meta name=\"apple-mobile-web-app-title\" content=\"Haute École Léonard de Vinci\">\\n    <meta name=\"apple-mobile-web-app-status-bar-style\" content=\"translucent\">\\n\\n    <!-- Windows Tiles -->\\n    <meta name=\"apple-mobile-web-app-title\" content=\"Haute École Léonard de Vinci\">\\n    <meta name=\"msapplication-config\" content=\"/static/img/app-icons/browserconfig.xml\">\\n    <meta name=\"msapplication-TileColor\" content=\"#058aae\">\\n    <meta name=\"msapplication-square70x70logo\" content=\"/static/img/app-icons/win/mstile-70x70.png\">\\n    <meta name=\"msapplication-square150x150logo\" content=\"/static/img/app-icons/win/mstile-270x270.png\">\\n    <meta name=\"msapplication-wide310x150logo\" content=\"/static/img/app-icons/win/mstile-310x150.png\">\\n    <meta name=\"msapplication-square310x310logo\" content=\"/static/img/app-icons/win/mstile-310x310.png\">\\n\\n\\n    <script>(function(){var c=document.documentElement.classList,ua=navigator.userAgent;c.remove(\\'no-js\\');c.toggle(\\'ie\\',(ua.indexOf(\\'MSIE \\')>-1||ua.indexOf(\\'Trident/\\')>-1));}());</script>\\n</head>\\n\\n\\n\\n\\n    <body data-v=\"course\">\\n\\n        \\n<!-- Google Tag Manager (noscript) -->\\n<noscript><iframe src=\"https://www.googletagmanager.com/ns.html?id=GTM-5LFXRJB\"\\nheight=\"0\" width=\"0\" style=\"display:none;visibility:hidden\"></iframe></noscript>\\n<!-- End Google Tag Manager (noscript) -->\\n\\n\\n                    \\n\\n\\n\\n\\n<header\\n    id=\"header\"\\n    class=\"header header--has-langswitch | ctn | noselect\"\\n    data-layout-component=\"Menu\"\\n>\\n    <div class=\"header__wrapper | row row--space\">\\n        <a\\n            class=\"skipLink | sr-only no-outline | js-skipLink\"\\n            href=\"#content\"\\n        >Passer au contenu</a>\\n\\n        <div class=\"header__titleHolder | tp-ctn-inner\">\\n            <h2 class=\"header__title\">\\n                <a\\n                    href=\"https://www.vinci.be/fr/\"\\n                    \\n                >\\n                    <span class=\"sr-only\">Haute École Léonard de Vinci</span>\\n                </a>\\n                <svg class=\"header__logo | logo logo--vinci\" width=\"170px\" height=\"57px\" fill=\"#0085b0\" viewBox=\"0 0 170 57\" aria-hidden=\"true\">\\n    <title>Haute École Léonard de Vinci - Logo</title>\\n    \\n    <g>\\n        <path fill=\"#119db8\" d=\"M44.77,5.31A7.22,7.22,0,0,0,34.85,8l-5.73,9.93L23.39,8a7.25,7.25,0,0,0-12.55,7.2l3.71,6.44.77.53h28l.41-.56,3.7-6.41A7.24,7.24,0,0,0,44.77,5.31Z\"/>\\n        <path fill=\"#006f91\" d=\"M39,56.68a7.24,7.24,0,0,1-6.28-3.61L22.85,36a9.72,9.72,0,0,1,8.39-14.6l19.73,0h0a7.25,7.25,0,0,1,0,14.5l-11.46,0,5.75,9.91A7.24,7.24,0,0,1,39,56.68\"/>\\n        <path fill=\"#b7e0f0\" d=\"M7.26,21.37h0a7.25,7.25,0,0,0,0,14.5l11.46,0L13,45.8a7.25,7.25,0,0,0,12.54,7.27l3.62-6.25L22.85,36A9.17,9.17,0,0,1,22,34a9.12,9.12,0,0,1-1.28-1.73L14.4,21.38Z\"/>\\n        <path fill=\"#51bad4\" d=\"M22,34a9.17,9.17,0,0,0,.87,2l6.26,10.81L35.38,36a10,10,0,0,0,.87-2A9.72,9.72,0,0,1,22,34\"/>\\n        <path fill=\"#0093b1\" d=\"M43.83,21.38l-12.59,0a9.38,9.38,0,0,0-2.12.24A9.72,9.72,0,0,1,36.25,34a10.13,10.13,0,0,0,1.29-1.75Z\"/>\\n        <path fill=\"#0093b1\" d=\"M14.4,21.38l6.3,10.91A9.12,9.12,0,0,0,22,34a9.71,9.71,0,0,1,7.14-12.37A9.53,9.53,0,0,0,27,21.41Z\"/>\\n        <path fill=\"#0085a6\" d=\"M29.11,21.65A9.71,9.71,0,0,0,22,34a9.72,9.72,0,0,0,14.27,0,9.71,9.71,0,0,0-7.14-12.39\"/>\\n    </g>\\n\\n    <g>\\n        <g>\\n            <path d=\"M68,18.27l.78-.08c.67-.06.92-.21.92-.36V6.2c0-.17-.13-.23-1.07-.32L68,5.82l-.06-.34h5.9l-.07.34-.81.08c-.68.07-.93.21-.93.36V11.7h6.26V6.2c0-.17-.13-.23-1.07-.32l-.63-.06-.06-.34h5.9l-.07.34-.79.08c-.65.07-.91.21-.91.36V17.9c0,.16.13.23,1.07.31l.61.06.07.34H76.48l.07-.34.82-.08c.67-.06.9-.19.9-.36V12.14H72V17.9c0,.16.13.23,1.07.31l.65.06.07.34H67.9ZM88.31,17.2l0,0a4,4,0,0,1-2.75,1.66,2.2,2.2,0,0,1-2.27-2.14c0-1.49,1.24-2.52,5.12-3.44l0-.55c0-2-.77-2.79-2.08-2.79-.73,0-1.45.35-1.45.54s.57.59.57,1.18a1.07,1.07,0,0,1-1.13,1,1,1,0,0,1-1.14-1c0-1.22,2.61-2.48,4.39-2.48,2.21,0,3.07.84,2.94,3.55l-.19,3.84c0,.72.23,1.06.67,1.06a1.55,1.55,0,0,0,.93-.55l.19.19c-.48.65-1.28,1.55-2.21,1.55s-1.47-.57-1.57-1.66m-.06-.4.12-3.19c-2.5.59-3.09,1.43-3.09,2.44a1.43,1.43,0,0,0,1.37,1.51,2.16,2.16,0,0,0,1.6-.76m11,.36h-.06a5.57,5.57,0,0,1-3.49,1.74,2.29,2.29,0,0,1-1.66-.67A3.11,3.11,0,0,1,93.37,16l0-5.77c0-.19-.08-.23-1-.32l-.33,0L92,9.52h3.55l-.06,5.9c0,1.51.63,2,1.83,2a3.14,3.14,0,0,0,2-.74V10.57c0-.53-.17-.63-1-.7l-.4,0-.06-.31h3.55v7.35c0,.54.08.69.4.77l1,.26,0,.23L99.25,19Zm5.06-.86.11-5.69-1.68-.06L103,10l1.32-1,1.93-1.55.32.06,0,2h3.23l-.3,1H106.5L106.37,16c0,1.15.5,1.68,1.57,1.68a2.89,2.89,0,0,0,1.75-.61l.1.21a4.49,4.49,0,0,1-3.06,1.61c-1.56,0-2.42-.79-2.4-2.58m5.8-2a4.86,4.86,0,0,1,4.81-5.11c2.18,0,3.46,1.3,3.46,3a3.09,3.09,0,0,1-.06.58l-5.94-.06a4.39,4.39,0,0,0-.07.82c0,2.35,1.35,3.93,3.2,3.93a3,3,0,0,0,2.73-1.54l.23.13a4.42,4.42,0,0,1-4.06,2.86,4.37,4.37,0,0,1-4.3-4.62m6.13-2c0-1.43-.44-2.73-1.6-2.73s-2,1.18-2.24,2.75l3.84,0\"/>\\n        </g>\\n        <g>\\n            <path d=\"M123.38,18.27l.74-.08c.67-.06,1-.21,1-.36V6.2c0-.17-.13-.23-1.07-.32l-.61-.06-.06-.34h10.52l.19,4.16h-.46l-.21-.73c-.65-2.12-1.37-3-4.37-3l-1.58,0v5.78h.82c1.85-.08,2.5-.34,2.88-1.49l.23-.65.4,0-.48,4.74-.4,0-.07-.63c-.1-1.21-.63-1.45-2.71-1.53l-.67,0v6l1.87.06c3.13,0,4-1.26,4.73-3.11l.23-.69.48,0-.59,4.2H123.32Zm7-17.53h2.29l-4,3.9h-.3Z\"/>\\n            <path d=\"M136,14.33a4.89,4.89,0,0,1,4.91-5.11c1.83,0,3.22.82,3.22,2a1.17,1.17,0,0,1-1.18,1.18A1.22,1.22,0,0,1,141.75,11c0-.46.32-.74.32-.86s-.63-.55-1.18-.55c-1.51,0-2.68,1.51-2.68,3.87s1.32,4,3.17,4A2.86,2.86,0,0,0,144,15.94l.23.13c-.88,1.81-2.16,2.85-4,2.85A4.34,4.34,0,0,1,136,14.33\"/>\\n            <path d=\"M150,9.22a4.86,4.86,0,0,0-5,4.88,4.66,4.66,0,0,0,4.85,4.8,4.86,4.86,0,0,0,5-4.95A4.63,4.63,0,0,0,150,9.22Zm-.05,9.29a2,2,0,0,1-1.51-.66c-.73-.75-1.07-2.2-1.07-4.09,0-2.25.88-4.14,2.52-4.14a2,2,0,0,1,1.49.63,6.09,6.09,0,0,1,1.1,4.08C152.47,16.64,151.5,18.51,149.94,18.51Z\"/>\\n            <path d=\"M155.68,18.27l.4,0c.61,0,.8-.1.8-.35V7.06c0-1-.15-1.18-.7-1.32l-.69-.26,0-.23L159,4.33V17.94c0,.19.15.25,1,.31l.36,0,.06.34h-4.7Z\"/>\\n            <path d=\"M169.2,15.94a3,3,0,0,1-2.73,1.54c-1.85,0-3.17-1.58-3.19-3.93a5.46,5.46,0,0,1,.06-.82l5.95.06a3.09,3.09,0,0,0,.06-.58c0-1.71-1.28-3-3.46-3a4.85,4.85,0,0,0-4.81,5.11,4.31,4.31,0,0,0,8.35,1.76Zm-3.59-6.32c1.16,0,1.62,1.3,1.6,2.73l-3.85,0C163.6,10.8,164.54,9.62,165.61,9.62Z\"/>\\n        </g>\\n\\n        <g>\\n            <path d=\"M68,37.28l.82-.09c.67-.06.88-.21.88-.35V25.2c0-.17-.08-.23-1-.31L68,24.82l-.06-.33h6.19l-.06.33-1.11.09c-.66.06-.93.19-.93.35V37.13l1.41.08c2.92,0,3.59-1.09,4.56-3.34l.25-.77h.48l-.61,4.51H67.9Z\"/>\\n            <path d=\"M87.91,35a3,3,0,0,1-2.73,1.53c-1.85,0-3.17-1.58-3.19-3.93a5.46,5.46,0,0,1,.06-.82L88,31.8a3.15,3.15,0,0,0,.07-.59c0-1.7-1.28-3-3.47-3a4.86,4.86,0,0,0-4.81,5.11,4.31,4.31,0,0,0,8.36,1.76Zm-3.59-6.33c1.15,0,1.62,1.31,1.59,2.74l-3.84,0C82.3,29.8,83.25,28.62,84.32,28.62Z\"/>\\n            <polygon points=\"85.28 23.25 87.57 23.25 83.56 27.16 83.27 27.16 85.28 23.25\"/>\\n            <path d=\"M94.13,28.23a4.85,4.85,0,0,0-5,4.87A4.67,4.67,0,0,0,94,37.91a4.86,4.86,0,0,0,5-5A4.64,4.64,0,0,0,94.13,28.23Zm0,9.28a2,2,0,0,1-1.51-.65c-.73-.76-1.07-2.21-1.07-4.1,0-2.25.88-4.14,2.52-4.14a2,2,0,0,1,1.49.64c.72.73,1.09,2.22,1.09,4.07C96.6,35.64,95.64,37.51,94.08,37.51Z\"/>\\n            <path d=\"M99.92,37.28l.4,0c.61,0,.84-.11.84-.36V31.21c0-1.3-.17-1.51-.88-1.68l-.48-.11,0-.25,3.44-.92,0,1.72h0a6,6,0,0,1,3.53-1.74,2.25,2.25,0,0,1,1.68.65,3.17,3.17,0,0,1,.69,2.27v5.77c0,.15.06.25,1,.34l.32,0,.06.33h-4.73l.07-.33.4,0c.71,0,.77-.17.77-.36V31.71c0-1.51-.61-2-1.8-2a3.29,3.29,0,0,0-2.06.75v6.51c0,.19.12.25.94.32l.4,0,0,.33H99.86Z\"/>\\n            <path d=\"M119.89,36.12a1.51,1.51,0,0,1-.92.55c-.44,0-.71-.34-.67-1.05l.19-3.85c.12-2.7-.74-3.54-2.94-3.54-1.79,0-4.39,1.26-4.39,2.47a1,1,0,0,0,1.13.95,1.06,1.06,0,0,0,1.13-1c0-.59-.56-1-.56-1.17s.71-.55,1.45-.55c1.3,0,2.12.84,2.08,2.79l0,.55c-3.88.92-5.12,2-5.12,3.44a2.2,2.2,0,0,0,2.27,2.14,4,4,0,0,0,2.75-1.65l0,0c.11,1.09.67,1.66,1.58,1.66s1.72-.91,2.2-1.56Zm-3.65-.31a2.18,2.18,0,0,1-1.6.75,1.43,1.43,0,0,1-1.36-1.51c0-1,.59-1.85,3.08-2.43Z\"/>\\n            <path d=\"M120.42,37.28l.4,0c.61,0,.84-.11.84-.36V31.21c0-1.3-.17-1.51-.88-1.68l-.49-.11,0-.25,3.45-.92,0,3.13h.06c.71-2,1.55-3.15,2.81-3.15a1.34,1.34,0,0,1,1.43,1.3,1.2,1.2,0,0,1-1.2,1.24,1.33,1.33,0,0,1-1.32-1.18c-.69.21-1.26,1.07-1.78,2.71v4.64c0,.19.16.27,1,.32l.63,0,.07.33h-5.06Z\"/>\\n            <path d=\"M137.6,36.86c-.3-.09-.4-.21-.4-.78V23.33l-3.59.76-.05.23.89.23c.54.11.69.32.69.93v3.21s0,0,0,0a5.1,5.1,0,0,0-7,4.7c0,2.61,1.66,4.5,3.78,4.5a4.21,4.21,0,0,0,3.18-1.77l.06,0V38l3.44-.61,0-.25Zm-2.46-1.24a2.83,2.83,0,0,1-2,.94c-1.64,0-2.69-1.66-2.69-3.82s.84-4,2.31-4a3,3,0,0,1,2.42,1.83Z\"/>\\n        </g>\\n        <g>\\n            <path d=\"M77.3,55.86c-.29-.08-.4-.21-.4-.78V42.34l-3.59.75,0,.23.88.23c.55.11.7.32.7.93v3.21s0,0,0,0a4.81,4.81,0,0,0-2-.36,4.9,4.9,0,0,0-5,5.06c0,2.61,1.66,4.5,3.78,4.5a4.23,4.23,0,0,0,3.17-1.76l.07,0V57l3.44-.61,0-.25Zm-2.45-1.24a2.8,2.8,0,0,1-2,1c-1.64,0-2.69-1.66-2.69-3.83s.84-4,2.31-4a3,3,0,0,1,2.42,1.83Z\"/>\\n            <path d=\"M86.9,54a3,3,0,0,1-2.73,1.53c-1.85,0-3.17-1.57-3.19-3.93a5.23,5.23,0,0,1,.06-.81L87,50.8a2.49,2.49,0,0,0,.07-.59c0-1.7-1.28-3-3.47-3a4.85,4.85,0,0,0-4.81,5.1,4.31,4.31,0,0,0,8.36,1.76Zm-3.59-6.32c1.16,0,1.62,1.3,1.6,2.73l-3.85,0C81.29,48.8,82.24,47.63,83.31,47.63Z\"/>\\n        </g>\\n        <g>\\n            <path d=\"M91.07,43.29h4l1.82,6.26c.34,1.14.66,2.59.66,2.59h0s.34-1.45.66-2.59L100,43.29H104L99.7,56.62H95.34Z\"/>\\n            <rect x=\"104.53\" y=\"43.29\" width=\"3.52\" height=\"2.67\"/>\\n            <rect x=\"104.53\" y=\"47.11\" width=\"3.52\" height=\"9.5\"/>\\n            <path d=\"M112.67,48.42h.06a3.55,3.55,0,0,1,3-1.61c2.2,0,3.34,1.47,3.34,3.66v6.15H115.6v-5.3c0-1-.41-1.64-1.33-1.64s-1.43.79-1.43,1.81v5.13h-3.52V47.11h3.35Z\"/>\\n            <path d=\"M119.92,51.88a4.93,4.93,0,0,1,5.22-5.05c2.68,0,4.47,1.59,4.71,3.8h-3.39c-.19-.85-.6-1.34-1.36-1.34-1.08,0-1.6,1-1.6,2.59s.56,2.55,1.64,2.55c.86,0,1.28-.57,1.38-1.65h3.39c0,2.35-1.92,4.13-4.77,4.13a4.91,4.91,0,0,1-5.22-5\"/>\\n            <rect x=\"130.73\" y=\"43.29\" width=\"3.52\" height=\"2.67\"/>\\n            <rect x=\"130.73\" y=\"47.11\" width=\"3.52\" height=\"9.5\"/>\\n        </g>\\n    </g>\\n</svg>            </h2>\\n\\n\\n            <button class=\"menuBtn | tp-only | js-menuBtn\">\\n                <span class=\"sr-only\">Menu</span>\\n                <span class=\"menuBtn__icon\" aria-hidden=\"true\">\\n                    <span class=\"menuBtn__bar\"></span>\\n                    <span class=\"menuBtn__bar\"></span>\\n                    <span class=\"menuBtn__bar\"></span>\\n                </span>\\n            </button>\\n\\n\\n            <button\\n    class=\"backBtn | tp-only | js-backBtn\"\\n    type=\"button\"\\n    aria-label=\"Fermer le sous-menu\"\\n>\\n    <svg\\n    class=\"backBtn__arrow | icon icon--arrow\"\\n    width=\"9\"\\n    height=\"9\"\\n    viewBox=\"0 0 9 9\"\\n    aria-hidden=\"true\"\\n    stroke=\"#058aae\"\\n    stroke-linecap=\"round\"\\n    stroke-linejoin=\"round\"\\n    stroke-width=\"2.8\"\\n>\\n  <g\\n    fill=\"none\"\\n    fill-rule=\"evenodd\"\\n    transform=\"translate(2 1)\"\\n>\\n    <line class=\"icon__pill icon__pill--bottom\" x1=\"0.329\" x2=\"4.671\" y1=\"0.671\" y2=\"3.671\" />\\n    <line class=\"icon__pill icon__pill--top\" x1=\"0.329\" x2=\"4.671\" y1=\"6.578\" y2=\"3.671\" />\\n  </g>\\n</svg>\\n    <span class=\"backBtn__text | js-backText\">Fermer le sous-menu</span>\\n</button>\\n        </div>\\n\\n\\n        <div class=\"header__scrollArea | js-scrollArea\">\\n            <div class=\"header__content\">\\n                \\n\\n<nav class=\"nav\">\\n    <h2 class=\"sr-only\">Navigation principale</h2>\\n\\n    <ul class=\"navList\">\\n                                    \\n                <li class=\"navItem | is-current\">\\n                    <a\\n                        class=\"navItem__link\"\\n                         href=\"https://www.vinci.be/fr/formations\"\\n                        aria-current=\"page\"\\n                    ><span>Bacheliers &amp; Masters</span></a>\\n                </li>\\n                                                \\n<li class=\"navItem navItem--submenu | js-submenu\">\\n    <span class=\"navItem__title | js-hitarea\"><span>Formation continue</span></span>\\n\\n    <div class=\"subNav | js-content\">\\n                <a\\n            class=\"subNavHighlight\"\\n             href=\"https://www.vinci.be/fr/la-formation-continue\"\\n            \\n        >\\n            <span class=\"subNavHighlight__text\">Découvrir la formation continue</span>\\n\\n            <span class=\"subNavHighlight__arrow\">\\n                <svg\\n    class=\"icon icon--arrow\"\\n    width=\"9\"\\n    height=\"9\"\\n    viewBox=\"0 0 9 9\"\\n    aria-hidden=\"true\"\\n    stroke=\"#058aae\"\\n    stroke-linecap=\"round\"\\n    stroke-linejoin=\"round\"\\n    stroke-width=\"2.8\"\\n>\\n  <g\\n    fill=\"none\"\\n    fill-rule=\"evenodd\"\\n    transform=\"translate(2 1)\"\\n>\\n    <line class=\"icon__pill icon__pill--bottom\" x1=\"0.329\" x2=\"4.671\" y1=\"0.671\" y2=\"3.671\" />\\n    <line class=\"icon__pill icon__pill--top\" x1=\"0.329\" x2=\"4.671\" y1=\"6.578\" y2=\"3.671\" />\\n  </g>\\n</svg>\\n            </span>\\n        </a>\\n\\n        <ul class=\"subNavList\">\\n                                        <li class=\"subNavItem\">\\n                    <a\\n                        class=\"subNavItem__link\"\\n                         href=\"https://www.vinci.be/fr/formations-continues\"\\n                        \\n                    >Offre de formations continues</a>\\n                </li>\\n                                        <li class=\"subNavItem\">\\n                    <a\\n                        class=\"subNavItem__link\"\\n                         href=\"https://www.vinci.be/fr/les-aides-a-la-formation\"\\n                        \\n                    >Aides à la formation</a>\\n                </li>\\n                    </ul>\\n    </div>\\n</li>\\n                                                \\n                <li class=\"navItem\">\\n                    <a\\n                        class=\"navItem__link\"\\n                         href=\"https://www.vinci.be/fr/campus\"\\n                        \\n                    ><span>Campus</span></a>\\n                </li>\\n                                                \\n<li class=\"navItem navItem--submenu | js-submenu\">\\n    <span class=\"navItem__title | js-hitarea\"><span>Services aux étudiants</span></span>\\n\\n    <div class=\"subNav | js-content\">\\n                <a\\n            class=\"subNavHighlight\"\\n             href=\"https://www.vinci.be/fr/services-aux-etudiants\"\\n            \\n        >\\n            <span class=\"subNavHighlight__text\">Tous les services</span>\\n\\n            <span class=\"subNavHighlight__arrow\">\\n                <svg\\n    class=\"icon icon--arrow\"\\n    width=\"9\"\\n    height=\"9\"\\n    viewBox=\"0 0 9 9\"\\n    aria-hidden=\"true\"\\n    stroke=\"#058aae\"\\n    stroke-linecap=\"round\"\\n    stroke-linejoin=\"round\"\\n    stroke-width=\"2.8\"\\n>\\n  <g\\n    fill=\"none\"\\n    fill-rule=\"evenodd\"\\n    transform=\"translate(2 1)\"\\n>\\n    <line class=\"icon__pill icon__pill--bottom\" x1=\"0.329\" x2=\"4.671\" y1=\"0.671\" y2=\"3.671\" />\\n    <line class=\"icon__pill icon__pill--top\" x1=\"0.329\" x2=\"4.671\" y1=\"6.578\" y2=\"3.671\" />\\n  </g>\\n</svg>\\n            </span>\\n        </a>\\n\\n        <ul class=\"subNavList\">\\n                                        <li class=\"subNavItem\">\\n                    <a\\n                        class=\"subNavItem__link\"\\n                         href=\"https://www.vinci.be/fr/le-service-social\"\\n                        \\n                    >Service social</a>\\n                </li>\\n                    </ul>\\n    </div>\\n</li>\\n                                                \\n<li class=\"navItem navItem--submenu | js-submenu\">\\n    <span class=\"navItem__title | js-hitarea\"><span>Haute École</span></span>\\n\\n    <div class=\"subNav | js-content\">\\n                <a\\n            class=\"subNavHighlight\"\\n             href=\"https://www.vinci.be/fr/la-haute-ecole\"\\n            \\n        >\\n            <span class=\"subNavHighlight__text\">La Haute École Léonard de Vinci</span>\\n\\n            <span class=\"subNavHighlight__arrow\">\\n                <svg\\n    class=\"icon icon--arrow\"\\n    width=\"9\"\\n    height=\"9\"\\n    viewBox=\"0 0 9 9\"\\n    aria-hidden=\"true\"\\n    stroke=\"#058aae\"\\n    stroke-linecap=\"round\"\\n    stroke-linejoin=\"round\"\\n    stroke-width=\"2.8\"\\n>\\n  <g\\n    fill=\"none\"\\n    fill-rule=\"evenodd\"\\n    transform=\"translate(2 1)\"\\n>\\n    <line class=\"icon__pill icon__pill--bottom\" x1=\"0.329\" x2=\"4.671\" y1=\"0.671\" y2=\"3.671\" />\\n    <line class=\"icon__pill icon__pill--top\" x1=\"0.329\" x2=\"4.671\" y1=\"6.578\" y2=\"3.671\" />\\n  </g>\\n</svg>\\n            </span>\\n        </a>\\n\\n        <ul class=\"subNavList\">\\n                                        <li class=\"subNavItem\">\\n                    <a\\n                        class=\"subNavItem__link\"\\n                         href=\"https://www.vinci.be/fr/la-demarche-qualite-et-projets\"\\n                        \\n                    >Démarche Qualité et Projets</a>\\n                </li>\\n                                        <li class=\"subNavItem\">\\n                    <a\\n                        class=\"subNavItem__link\"\\n                         href=\"https://www.vinci.be/fr/le-conseil-des-etudiants\"\\n                        \\n                    >Conseil des étudiants</a>\\n                </li>\\n                                        <li class=\"subNavItem\">\\n                    <a\\n                        class=\"subNavItem__link\"\\n                         href=\"https://www.vinci.be/fr/plan-strategique\"\\n                        \\n                    >Plan stratégique</a>\\n                </li>\\n                                        <li class=\"subNavItem\">\\n                    <a\\n                        class=\"subNavItem__link\"\\n                         href=\"https://www.vinci.be/fr/projet-construction\"\\n                        \\n                    >Projet de construction</a>\\n                </li>\\n                                        <li class=\"subNavItem\">\\n                    <a\\n                        class=\"subNavItem__link\"\\n                         href=\"https://www.vinci.be/fr/centre-de-developpement-techno-pedagogique\"\\n                        \\n                    >Centre de Développement Techno-Pédagogique</a>\\n                </li>\\n                    </ul>\\n    </div>\\n</li>\\n                    \\n                    <li class=\"navCTA | d-only\">\\n                <a class=\"btn btn--cta\" href=\"https://www.vinci.be/fr/inscription\">Inscription</a>\\n            </li>\\n            </ul>\\n</nav>\\n\\n\\n\\n<div\\n    class=\"globalSearch | js-globalSearch\"\\n    data-layout-component=\"GlobalSearch\"\\n>\\n    <button\\n        class=\"globalSearch__toggleBtn | d-only | js-toggle\"\\n        aria-haspopup=\"true\"\\n        aria-expanded=\"false\"\\n    >\\n        <span class=\"sr-only\">Afficher la Recherche</span>\\n        <svg class=\"icon icon--search\" width=\"18px\" height=\"17px\" fill=\"#058aae\" viewBox=\"0 0 18 17\" aria-hidden=\"true\">\\n    <rect x=\"14.33\" y=\"12.19\" width=\"2\" height=\"4.16\" transform=\"translate(-5.59 15.26) rotate(-45.66)\"/>\\n    <path d=\"M7.14,0A7.08,7.08,0,0,0,0,7a7.08,7.08,0,0,0,7.14,7,7.08,7.08,0,0,0,7.14-7A7.08,7.08,0,0,0,7.14,0Zm0,12A5.08,5.08,0,0,1,2,7,5.08,5.08,0,0,1,7.14,2a5.08,5.08,0,0,1,5.14,5A5.08,5.08,0,0,1,7.14,12Z\"/>\\n</svg>    </button>\\n\\n\\n    <form\\n        class=\"globalSearch__form | js-form\"\\n        action=\"https://www.vinci.be/fr/recherche\"\\n    >\\n        <div class=\"globalSearch__wrapper | js-searchWrapper\">\\n            <label class=\"sr-only\" for=\"globalSearch\">Rechercher sur le site…</label>\\n\\n            <input\\n                class=\"globalSearch__input | js-input\"\\n                id=\"globalSearch\"\\n                name=\"t\"\\n                type=\"search\"\\n                minlength=\"3\"\\n                autocomplete=\"off\"\\n                placeholder=\"Rechercher sur le site…\"\\n                aria-label=\"Rechercher sur le site…\"\\n                value=\"\"\\n                required\\n            >\\n\\n            <button class=\"globalSearch__submitBtn | js-submit\" type=\"submit\">\\n                <span class=\"sr-only\">Rechercher</span>\\n                <svg class=\"icon icon--search\" width=\"18px\" height=\"17px\" fill=\"#058aae\" viewBox=\"0 0 18 17\" aria-hidden=\"true\">\\n    <rect x=\"14.33\" y=\"12.19\" width=\"2\" height=\"4.16\" transform=\"translate(-5.59 15.26) rotate(-45.66)\"/>\\n    <path d=\"M7.14,0A7.08,7.08,0,0,0,0,7a7.08,7.08,0,0,0,7.14,7,7.08,7.08,0,0,0,7.14-7A7.08,7.08,0,0,0,7.14,0Zm0,12A5.08,5.08,0,0,1,2,7,5.08,5.08,0,0,1,7.14,2a5.08,5.08,0,0,1,5.14,5A5.08,5.08,0,0,1,7.14,12Z\"/>\\n</svg>            </button>\\n\\n        </div>\\n    </form>\\n</div>\\n\\n\\n<nav class=\"secNav\">\\n    <h2 class=\"sr-only\">Navigation secondaire</h2>\\n\\n    <ul class=\"secNavList\">\\n                    \\n            <li class=\"secNavItem\">\\n                <a\\n                    class=\"secNavItem__link\"\\n                     href=\"https://www.vinci.be/fr/magazine\"\\n                    \\n                >V Mag</a>\\n            </li>\\n                    \\n            <li class=\"secNavItem\">\\n                <a\\n                    class=\"secNavItem__link\"\\n                     href=\"https://www.vinci.be/fr/agenda\"\\n                    \\n                >Agenda</a>\\n            </li>\\n                    \\n            <li class=\"secNavItem\">\\n                <a\\n                    class=\"secNavItem__link\"\\n                     href=\"https://www.vinci.be/fr/international\"\\n                    \\n                >International</a>\\n            </li>\\n                    \\n            <li class=\"secNavItem\">\\n                <a\\n                    class=\"secNavItem__link\"\\n                     href=\"https://www.vinci.be/fr/la-recherche\"\\n                    \\n                >Recherche</a>\\n            </li>\\n                    \\n            <li class=\"secNavItem\">\\n                <a\\n                    class=\"secNavItem__link\"\\n                     href=\"https://www.vinci.be/fr/contact\"\\n                    \\n                >Contact</a>\\n            </li>\\n                    \\n            <li class=\"secNavItem\">\\n                <a\\n                    class=\"secNavItem__link\"\\n                     href=\"https://mesoutils.vinci.be/\"\\n                    \\n                >Mes outils</a>\\n            </li>\\n            </ul>\\n</nav>\\n\\n            </div>\\n\\n\\n            <div class=\"header__bookend\">\\n                \\n\\n\\n\\n<aside class=\"header__sn | sn | js-sn\">\\n            <h3 class=\"sr-only\">Réseaux sociaux</h3>\\n    \\n    <ul class=\"snList\">\\n                    <li class=\"snItem\">\\n                <a class=\"snItem__link\"  href=\"https://www.facebook.com/HEVINCI/\" rel=\"noopener noreferrer\" target=\"_blank\">\\n                    <span class=\"snItem__label | sr-only\">Facebook</span>\\n                </a>\\n\\n                <svg class=\"snItem__icon | icon icon--fb\" width=\"16px\" height=\"16px\" fill=\"#3b5998\" viewBox=\"0 0 16 16\" aria-hidden=\"true\">\\n    <path d=\"M14.57,0H1.43A2.14,2.14,0,0,0,0,1.43V14.57A2.14,2.14,0,0,0,1.43,16H8.27V9.92H6.07V7.73h2.2V6a3.22,3.22,0,0,1,3.41-3.29,9.32,9.32,0,0,1,1.57.12V5H11.69c-1,0-1.19.5-1.19,1.2V7.73h2.78l-.36,2.19H10.5V16h4.07A2.14,2.14,0,0,0,16,14.57V1.43A2.14,2.14,0,0,0,14.57,0Z\"/>\\n</svg>\\n            </li>\\n                    <li class=\"snItem\">\\n                <a class=\"snItem__link\"  href=\"https://www.instagram.com/he_vinci/\" rel=\"noopener noreferrer\" target=\"_blank\">\\n                    <span class=\"snItem__label | sr-only\">Instagram</span>\\n                </a>\\n\\n                \\n\\n<svg class=\"snItem__icon | icon icon--ig\" width=\"16\" height=\"16\" viewBox=\"0 0 512 512\" aria-hidden=\"true\">\\n    <defs>\\n        <radialGradient\\n            cx=\"56.3501\"\\n            cy=\"19.2179\"\\n            gradientTransform=\"matrix(0.9986 -5.233596e-02 4.448556e-02 0.8488 -36.9742 443.8014)\"\\n            gradientUnits=\"userSpaceOnUse\"\\n            id=\"igGradient1261085499\"\\n            r=\"711.335\"\\n        >\\n            <stop offset=\"0\" style=\"stop-color:#FED576\"/>\\n            <stop offset=\"0.2634\" style=\"stop-color:#F47133\"/>\\n            <stop offset=\"0.6091\" style=\"stop-color:#BC3081\"/>\\n            <stop offset=\"1\" style=\"stop-color:#4C63D2\"/>\\n        </radialGradient>\\n\\n        <radialGradient\\n            cx=\"154.0732\"\\n            cy=\"134.5501\"\\n            gradientTransform=\"matrix(0.9986 -5.233596e-02 4.448556e-02 0.8488 -24.3617 253.2946)\"\\n            gradientUnits=\"userSpaceOnUse\"\\n            id=\"igGradient22140088984\"\\n            r=\"365.2801\"\\n        >\\n            <stop offset=\"0\" style=\"stop-color:#FED576\"/>\\n            <stop offset=\"0.2634\" style=\"stop-color:#F47133\"/>\\n            <stop offset=\"0.6091\" style=\"stop-color:#BC3081\"/>\\n            <stop offset=\"1\" style=\"stop-color:#4C63D2\"/>\\n        </radialGradient>\\n    </defs>\\n\\n    <path fill=\"url(#igGradient1261085499)\" d=\"M96.1,23.2c-16.2,6.3-29.9,14.7-43.6,28.4C38.8,65.2,30.4,79,24.1,95.1c-6.1,15.6-10.2,33.5-11.4,59.7c-1.2,26.2-1.5,34.6-1.5,101.4s0.3,75.2,1.5,101.4c1.2,26.2,5.4,44.1,11.4,59.7c6.3,16.2,14.7,29.9,28.4,43.6c13.7,13.7,27.4,22.1,43.6,28.4c15.6,6.1,33.5,10.2,59.7,11.4c26.2,1.2,34.6,1.5,101.4,1.5c66.8,0,75.2-0.3,101.4-1.5c26.2-1.2,44.1-5.4,59.7-11.4c16.2-6.3,29.9-14.7,43.6-28.4c13.7-13.7,22.1-27.4,28.4-43.6c6.1-15.6,10.2-33.5,11.4-59.7c1.2-26.2,1.5-34.6,1.5-101.4s-0.3-75.2-1.5-101.4c-1.2-26.2-5.4-44.1-11.4-59.7C484,79,475.6,65.2,462,51.6    c-13.7-13.7-27.4-22.1-43.6-28.4c-15.6-6.1-33.5-10.2-59.7-11.4c-26.2-1.2-34.6-1.5-101.4-1.5s-75.2,0.3-101.4,1.5    C129.6,12.9,111.7,17.1,96.1,23.2z M356.6,56c24,1.1,37,5.1,45.7,8.5c11.5,4.5,19.7,9.8,28.3,18.4c8.6,8.6,13.9,16.8,18.4,28.3    c3.4,8.7,7.4,21.7,8.5,45.7c1.2,25.9,1.4,33.7,1.4,99.4s-0.3,73.5-1.4,99.4c-1.1,24-5.1,37-8.5,45.7c-4.5,11.5-9.8,19.7-18.4,28.3    c-8.6,8.6-16.8,13.9-28.3,18.4c-8.7,3.4-21.7,7.4-45.7,8.5c-25.9,1.2-33.7,1.4-99.4,1.4s-73.5-0.3-99.4-1.4    c-24-1.1-37-5.1-45.7-8.5c-11.5-4.5-19.7-9.8-28.3-18.4c-8.6-8.6-13.9-16.8-18.4-28.3c-3.4-8.7-7.4-21.7-8.5-45.7    c-1.2-25.9-1.4-33.7-1.4-99.4s0.3-73.5,1.4-99.4c1.1-24,5.1-37,8.5-45.7c4.5-11.5,9.8-19.7,18.4-28.3c8.6-8.6,16.8-13.9,28.3-18.4    c8.7-3.4,21.7-7.4,45.7-8.5c25.9-1.2,33.7-1.4,99.4-1.4S330.7,54.8,356.6,56z\"/>\\n    <path fill=\"url(#igGradient22140088984)\" d=\"M130.9,256.3c0,69.8,56.6,126.3,126.3,126.3s126.3-56.6,126.3-126.3S327,130,257.2,130    S130.9,186.5,130.9,256.3z M339.2,256.3c0,45.3-36.7,82-82,82s-82-36.7-82-82c0-45.3,36.7-82,82-82S339.2,211,339.2,256.3z\"/>\\n    <circle fill=\"#654c9f\" cx=\"388.6\" cy=\"125\" r=\"29.5\"/>\\n</svg>            </li>\\n                    <li class=\"snItem\">\\n                <a class=\"snItem__link\"  href=\"https://be.linkedin.com/company/haute-ecole-l-onard-de-vinci\" rel=\"noopener noreferrer\" target=\"_blank\">\\n                    <span class=\"snItem__label | sr-only\">LinkedIn</span>\\n                </a>\\n\\n                <svg class=\"snItem__icon | icon icon--in\" width=\"16px\" height=\"16px\" fill=\"#2867b2\" viewBox=\"0 0 16 16\" aria-hidden=\"true\">\\n    <path d=\"M14.81,0H1.18A1.17,1.17,0,0,0,0,1.15v13.7A1.17,1.17,0,0,0,1.18,16H14.82A1.17,1.17,0,0,0,16,14.85V1.15A1.17,1.17,0,0,0,14.81,0ZM4.75,13.63H2.37V6H4.75ZM3.56,5A1.38,1.38,0,1,1,4.93,3.58,1.37,1.37,0,0,1,3.56,5Zm10.07,8.68H11.26V9.92c0-.88,0-2-1.23-2s-1.42,1-1.42,2v3.77H6.23V6H8.51V7h0a2.5,2.5,0,0,1,2.25-1.23c2.4,0,2.84,1.58,2.84,3.64Z\"/>\\n</svg>            </li>\\n                    <li class=\"snItem\">\\n                <a class=\"snItem__link\"  href=\"https://www.youtube.com/channel/UCowxuCoDMYytjoV2GFICu6w\" rel=\"noopener noreferrer\" target=\"_blank\">\\n                    <span class=\"snItem__label | sr-only\">YouTube</span>\\n                </a>\\n\\n                <svg class=\"snItem__icon | icon icon--yt\" width=\"16px\" height=\"16px\" fill=\"#c4302b\" viewBox=\"0 0 16 16\" aria-hidden=\"true\">\\n    <path d=\"M15.67,4.12A2,2,0,0,0,14.25,2.7,47,47,0,0,0,8,2.36a47,47,0,0,0-6.25.34A2,2,0,0,0,.33,4.12,21.42,21.42,0,0,0,0,8a21.42,21.42,0,0,0,.33,3.88A2,2,0,0,0,1.75,13.3,47,47,0,0,0,8,13.64a47,47,0,0,0,6.25-.34,2,2,0,0,0,1.42-1.42A21.42,21.42,0,0,0,16,8,21.42,21.42,0,0,0,15.67,4.12ZM6.36,10.38V5.62L10.55,8Z\"/>\\n</svg>            </li>\\n                    <li class=\"snItem\">\\n                <a class=\"snItem__link\"  href=\"https://twitter.com/HE_Vinci\" rel=\"noopener noreferrer\" target=\"_blank\">\\n                    <span class=\"snItem__label | sr-only\">Twitter</span>\\n                </a>\\n\\n                \\n<svg class=\"snItem__icon | icon icon--tw\" width=\"20\" height=\"16\" viewBox=\"0 0 20 16\" fill=\"#00acee\" aria-hidden=\"true\">\\n    <path d=\"M28.6874,12.894 C27.963,13.2152 27.1846,13.4324 26.3674,13.53 C27.2014,13.03 27.8418,12.2384 28.1434,11.2952 C27.363,11.758 26.4986,12.0944 25.5782,12.2752 C24.8418,11.4904 23.7918,11 22.6302,11 C20.3994,11 18.591,12.8084 18.591,15.0392 C18.591,15.3556 18.6266,15.664 18.6954,15.9596 C15.3386,15.7912 12.3622,14.1832 10.3702,11.7392 C10.0222,12.336 9.823,13.0296 9.823,13.77 C9.823,15.1712 10.5362,16.4076 11.6198,17.132 C10.9578,17.1108 10.335,16.9292 9.7902,16.6268 C9.7898,16.6436 9.7898,16.6604 9.7898,16.6776 C9.7898,18.6348 11.1822,20.2672 13.0298,20.6384 C12.691,20.7308 12.3342,20.78 11.9658,20.78 C11.7054,20.78 11.4526,20.7548 11.2058,20.7076 C11.7198,22.3124 13.2114,23.48 14.979,23.5128 C13.5966,24.5964 11.855,25.242 9.9626,25.242 C9.6366,25.242 9.315,25.2228 8.999,25.1856 C10.787,26.3312 12.9102,27 15.191,27 C22.6206,27 26.6834,20.8452 26.6834,15.5076 C26.6834,15.3324 26.6794,15.1584 26.6718,14.9852 C27.461,14.4152 28.1458,13.704 28.6874,12.894 Z\" transform=\"translate(-9 -11)\"></path>\\n</svg>\\n            </li>\\n            </ul>\\n</aside>\\n\\n                                    \\n<nav class=\"langSwitch\">\\n    <h3 class=\"visually-hidden\">Choix de langue</h3>\\n\\n    <div class=\"langSwitch__current\">\\n        <abbr\\n            lang=\"fr\"\\n            title=\"Français\"\\n        >Fr</abbr>\\n        <svg class=\"d-only | icon icon--arrowDown\" width=\"7px\" height=\"5px\" fill=\"#058aae\" viewBox=\"0 0 7 5\" aria-hidden=\"true\">\\n    <path d=\"M.67.79a1,1,0,0,1,1.42,0L3.5,2.21,4.91.79A1,1,0,0,1,6.33,2.21L4.21,4.33h0a1,1,0,0,1-1.42,0L.67,2.21A1,1,0,0,1,.67.79Z\"/>\\n</svg>    </div>\\n\\n\\n    <ul class=\"langSwitch__list\">\\n                                                        <li class=\"langSwitch__item\">\\n                    <a\\n                        href=\"https://www.vinci.be/en/studies/business-informatics\"\\n                        hreflang=\"en\"\\n                    >\\n                        <abbr\\n                            lang=\"en\"\\n                            title=\"English\"\\n                        >En</abbr>\\n                    </a>\\n                </li>\\n                        </ul>\\n</nav>\\n                            </div>\\n        </div>\\n\\n        <div class=\"topbar\"><aside class=\"userSwitch\"><h3 class=\"userSwitch__title\"><svg class=\"icon icon--user\" width=\"16px\" height=\"20px\" fill=\"#006f91\" viewBox=\"0 0 16 20\" aria-hidden=\"true\"><path d=\"M8,9.89A2.91,2.91,0,0,0,10.61,7a2.58,2.58,0,0,0-.79-1.79A2.62,2.62,0,0,0,8,4.52,2.56,2.56,0,0,0,5.39,7a3.13,3.13,0,0,0,.9,2.14A2.44,2.44,0,0,0,8,9.89ZM8,6.12A1,1,0,0,1,9,7c0,.55-.53,1.31-1,1.31S7,7.57,7,7a1,1,0,0,1,.32-.68,1.05,1.05,0,0,1,.47-.24v0Z\"/><path d=\"M4.48,11.85a.78.78,0,0,0,0,1.11.75.75,0,0,0,1.09,0,3.48,3.48,0,0,1,4.84,0,.78.78,0,0,0,1.06-1.15A5,5,0,0,0,4.48,11.85Z\"/><path d=\"M14.46.75H1.54a.79.79,0,0,0-.79.79V11.77a7.25,7.25,0,0,0,14.5,0V1.54A.79.79,0,0,0,14.46.75ZM8,17.44a5.67,5.67,0,0,1-5.67-5.67V2.33H13.67v9.44A5.67,5.67,0,0,1,8,17.44Z\"/></svg>                Je suis\\n                <svg class=\"icon icon--arrowDown\" width=\"7px\" height=\"5px\" fill=\"#058aae\" viewBox=\"0 0 7 5\" aria-hidden=\"true\"><path d=\"M.67.79a1,1,0,0,1,1.42,0L3.5,2.21,4.91.79A1,1,0,0,1,6.33,2.21L4.21,4.33h0a1,1,0,0,1-1.42,0L.67,2.21A1,1,0,0,1,.67.79Z\"/></svg></h3><ul class=\"userSwitch__list\"><li class=\"userSwitch__option\"><a class=\"userSwitch__link\" href=\"https://www.vinci.be/fr/futur-etudiant\">Futur étudiant</a></li><li class=\"userSwitch__option\"><a class=\"userSwitch__link\" href=\"https://www.vinci.be/fr/etudiant-vinci\">Étudiant Vinci</a></li><li class=\"userSwitch__option\"><a class=\"userSwitch__link\" href=\"https://www.vinci.be/fr/alumni\">Alumni</a></li><li class=\"userSwitch__option\"><a class=\"userSwitch__link\" href=\"https://www.vinci.be/fr/partenaire\">Partenaire</a></li><li class=\"userSwitch__option\"><a class=\"userSwitch__link\" href=\"https://www.vinci.be/fr/parent\">Parent</a></li><li class=\"userSwitch__option\"><a class=\"userSwitch__link\" href=\"https://www.vinci.be/fr/en-reprise-detudes\">En reprise d’études</a></li></ul></aside><a class=\"mobileCTA | btn btn--cta | tp-only\" href=\"https://www.vinci.be/fr/inscription\">Inscription</a></div>    </div>\\n</header>\\n\\n        \\n\\n\\n        <div class=\"router\">\\n            <div class=\"view view--course\">\\n\\n                <main id=\"content\" tabindex=\"-1\" aria-label=\"Contenu de la page\">\\n                        <article class=\"course\">\\n\\n        \\n\\n<header class=\"courseIntro | ctn oh\">\\n    <div class=\"courseIntro__inner\">\\n        <div class=\"courseIntro__content | col-6 | tp-col-6 | shadow\">\\n            <small class=\"typeTag\">Bachelier, 3 ans</small>\\n\\n            <h1 class=\"courseIntro__title | thicktle thicktle--l | c-bahama\">Informatique - développement d’applications (anciennement Informatique de gestion)</h1>\\n            <small class=\"courseIntro__sector | title title--sm | c-bahama\">Sciences et techniques</small>\\n\\n\\n\\n            <div class=\"courseIntro__details\">\\n                                    <small class=\"courseIntro__hashtag\">#PaulLambin</small>\\n                \\n                                    <div class=\"courseIntro__location\">\\n                        <svg class=\"icon icon--marker\" width=\"17\" height=\"19\" fill=\"#006f91\" viewBox=\"0 0 17 19\" aria-hidden=\"true\">\\n    <path d=\"M8.5.26a8,8,0,0,0-8,8c0,6.4,7.29,10.12,7.6,10.27l.4.2.4-.2c.31-.15,7.6-3.87,7.6-10.27A8,8,0,0,0,8.5.26Zm0,16.47C7.07,15.9,2.28,12.8,2.28,8.26a6.22,6.22,0,0,1,12.44,0C14.72,12.79,9.93,15.9,8.5,16.73Z\"/>\\n    <path d=\"M8.5,5a3.26,3.26,0,1,0,3.26,3.26A3.26,3.26,0,0,0,8.5,5Zm0,4.74A1.48,1.48,0,1,1,10,8.26,1.48,1.48,0,0,1,8.5,9.74Z\"/>\\n</svg>                        Campus\\xa0:\\n                        <ul class=\"courseIntro__location__list\">\\n                                                            <li class=\"courseIntro__location__item\">\\n                                    <a href=\"https://www.vinci.be/fr/campus/woluwe\">Woluwe</a>\\n                                </li>\\n                                                    </ul>\\n                    </div>\\n                            </div>\\n\\n\\n                            <a\\n    class=\"courseIntro__downloadBtn | downloadBtn | bg-theme\"\\n    href=\"https://www.vinci.be/uploads/brochures/informatique_HEVINCI_22-23.pdf\"\\n    download\\n    data-extension=\".pdf\"\\n>\\n    <span class=\"downloadBtn__iconHolder\" aria-hidden=\"true\">\\n        <svg\\n    class=\"icon icon--download\"\\n    width=\"13\"\\n    height=\"11\"\\n    fill=\"#058aae\"\\n    stroke-width=\"0\"\\n    viewBox=\"0 0 13 11\"\\n    aria-hidden=\"true\"\\n>\\n    <path class=\"icon--download__arrow\" d=\"M10.22.46l0,0a1.43,1.43,0,0,1,.34,2L7.69,6.65a1.44,1.44,0,0,1-.36.42l0,0h0l0,0a1.35,1.35,0,0,1-1.55,0l0,0a1.45,1.45,0,0,1-.39-.43L2.42,2.51a1.44,1.44,0,0,1,.34-2,1.36,1.36,0,0,1,1.9.3l0,0L6.49,3.5,8.34.81A1.35,1.35,0,0,1,10.22.46Z\"/>\\n    <path class=\"icon--download__floor\" d=\"M12,9a1,1,0,0,1,0,2H1A1,1,0,0,1,1,9Z\"/>\\n</svg>    </span>\\n    Voir la brochure\\n</a>\\n                    </div>\\n\\n\\n        <div class=\"courseIntro__visuals | m-ctn-inner\">\\n            <figure class=\"courseIntro__fig | floaterCtn | col-8 cf | tp-col-8 tp-cf\">\\n                                <img\\n                    class=\"courseIntro__img | floater floater--right\"\\n                    src=\"https://www.vinci.be/uploads/formations/_960x670_crop_center-center_none/HEVINCI_formation_informatique.jpg\"\\n                    srcset=\"https://www.vinci.be/uploads/formations/_960x670_crop_center-center_none/HEVINCI_formation_informatique.jpg, https://www.vinci.be/uploads/formations/_1920x1340_crop_center-center_none/HEVINCI_formation_informatique.jpg 2x\"\\n                    alt=\"HEVINCI formation informatique\"\\n                    width=\"960\"\\n                    height=\"670\"\\n                    loading=\"lazy\"\\n                >\\n\\n                <div class=\"courseIntro__asteriskWrapper\">\\n                    <svg\\n    class=\"courseIntro__asterisk | illu illu--aGhost\"\\n    width=\"1237\"\\n    height=\"1110\"\\n    stroke=\"#fff\"\\n    viewBox=\"0 0 1237 1110\"\\n    aria-hidden=\"true\"\\n>\\n    <g fill=\"none\" fill-rule=\"evenodd\" opacity=\".289\">\\n        <path vector-effect=\"non-scaling-stroke\" d=\"M829.027095,1108.32259 C776.139405,1108.32259 724.689984,1080.91419 696.268518,1031.85113 L487.015862,670.835784 C450.30871,607.435298 450.168009,528.681107 486.640661,465.218081 C523.222747,401.661244 591.352973,362.166884 664.564044,362.041803 L1081.81869,361.322587 L1082.08445,361.322587 C1166.62972,361.322587 1235.24458,429.773222 1235.38549,514.35932 C1235.52598,599.023594 1167.02055,667.786932 1082.36585,667.927648 L839.970454,668.349797 L961.519904,878.110811 C1003.9645,951.361434 978.998012,1045.17226 905.755674,1087.62166 C881.570851,1101.64638 855.119189,1108.32259 829.027095,1108.32259\"/>\\n        <path vector-effect=\"non-scaling-stroke\" d=\"M154.50127,361.322587 L154.234553,361.322587 C69.3870579,361.322587 0.52691454,429.788857 0.385494119,514.35932 C0.244507937,599.039229 68.9948265,667.786932 153.967835,667.943283 L397.229745,668.365432 L275.245782,878.095176 C232.633764,951.361434 257.673816,1045.17226 331.193668,1087.62166 C355.480636,1101.64638 382.011167,1108.32259 408.196535,1108.32259 C461.273287,1108.32259 512.906628,1080.91419 541.429695,1031.86676 L618.385494,899.562221 L485.356295,670.851419 C477.574424,657.46774 471.439925,643.411751 466.937109,628.949248 C456.629268,617.863935 447.482432,605.574717 439.747628,592.206673 L306.137927,361.588384 L154.50127,361.322587 Z\"/>\\n        <path vector-effect=\"non-scaling-stroke\" d=\"M467.385494,629.322587 C471.87591,643.790116 477.993514,657.881866 485.753953,671.269028 L618.432432,900.322587 L751.126557,671.222055 C758.824412,657.928838 764.910725,643.978006 769.385494,629.620079 C730.896218,671.049823 676.260222,695.538152 618.526309,695.538152 C560.651581,695.538152 505.906062,670.94022 467.385494,629.322587\"/>\\n        <path vector-effect=\"non-scaling-stroke\" d=\"M873.755272,0.322586957 C820.630687,0.322586957 768.933002,27.8785267 740.457723,77.1471057 L618.888978,287.505922 L497.320233,77.1471057 C468.844954,27.862861 417.162949,0.322586957 364.022684,0.322586957 C337.946478,0.322586957 311.509628,6.96483735 287.299368,20.9229626 C213.743457,63.3456373 188.545343,157.308415 231.023059,230.764812 L306.727161,361.761269 L573.667224,362.246905 C589.018159,362.262571 604.149572,364.001462 618.794897,367.322587 C633.455903,364.001462 648.555954,362.262571 663.90689,362.246905 L931.050796,361.761269 L1006.7549,230.764812 C1049.21693,157.308415 1024.0345,63.3456373 950.478588,20.9229626 C926.268329,6.96483735 899.847158,0.322586957 873.755272,0.322586957\"/>\\n        <path vector-effect=\"non-scaling-stroke\" d=\"M930.385494,361.322587 L663.444849,361.790461 C648.122162,361.806057 633.018817,363.552786 618.385494,366.87469 C673.879318,379.429304 722.683174,414.582225 751.605139,464.707108 C780.511436,514.738416 786.465036,574.345543 769.52861,628.322587 C779.931743,617.18719 789.159824,604.835321 796.946506,591.407342 L930.385494,361.322587 Z\"/>\\n        <path vector-effect=\"non-scaling-stroke\" d=\"M306.385494,361.322587 L439.882555,591.645219 C447.610837,604.979605 456.749962,617.252236 467.049113,628.322587 C450.213058,574.344868 456.216977,514.824166 485.076546,464.828026 C514.092875,414.613289 562.908028,379.450482 618.385494,366.881183 C603.728407,363.555394 588.60104,361.806622 573.269883,361.791008 L306.385494,361.322587 Z\"/>\\n        <path vector-effect=\"non-scaling-stroke\" d=\"M618.886166,367.322587 C563.472256,379.834745 514.683581,414.853244 485.692301,464.82416 C456.873309,514.60856 450.85891,573.843136 467.680431,627.591015 C506.241496,668.90445 561.044569,693.322587 618.980141,693.322587 C676.774751,693.322587 731.452525,669.013252 769.997927,627.886333 C786.929085,574.091825 780.961674,514.701818 752.064369,464.82416 C723.151402,414.868787 674.362727,379.834745 618.886166,367.322587\"/>\\n    </g>\\n\\n            <path class=\"fill-theme\" stroke=\"none\" d=\"M618.886166,367.322587 C563.472256,379.834745 514.683581,414.853244 485.692301,464.82416 C456.873309,514.60856 450.85891,573.843136 467.680431,627.591015 C506.241496,668.90445 561.044569,693.322587 618.980141,693.322587 C676.774751,693.322587 731.452525,669.013252 769.997927,627.886333 C786.929085,574.091825 780.961674,514.701818 752.064369,464.82416 C723.151402,414.868787 674.362727,379.834745 618.886166,367.322587\"/>\\n    </svg>\\n                </div>\\n            </figure>\\n\\n            <svg\\n    class=\"courseIntro__asteriskStroke stroke-theme | illu illu--aGhost\"\\n    width=\"1237\"\\n    height=\"1110\"\\n    stroke=\"#fff\"\\n    viewBox=\"0 0 1237 1110\"\\n    aria-hidden=\"true\"\\n>\\n    <g fill=\"none\" fill-rule=\"evenodd\" opacity=\".289\">\\n        <path vector-effect=\"non-scaling-stroke\" d=\"M829.027095,1108.32259 C776.139405,1108.32259 724.689984,1080.91419 696.268518,1031.85113 L487.015862,670.835784 C450.30871,607.435298 450.168009,528.681107 486.640661,465.218081 C523.222747,401.661244 591.352973,362.166884 664.564044,362.041803 L1081.81869,361.322587 L1082.08445,361.322587 C1166.62972,361.322587 1235.24458,429.773222 1235.38549,514.35932 C1235.52598,599.023594 1167.02055,667.786932 1082.36585,667.927648 L839.970454,668.349797 L961.519904,878.110811 C1003.9645,951.361434 978.998012,1045.17226 905.755674,1087.62166 C881.570851,1101.64638 855.119189,1108.32259 829.027095,1108.32259\"/>\\n        <path vector-effect=\"non-scaling-stroke\" d=\"M154.50127,361.322587 L154.234553,361.322587 C69.3870579,361.322587 0.52691454,429.788857 0.385494119,514.35932 C0.244507937,599.039229 68.9948265,667.786932 153.967835,667.943283 L397.229745,668.365432 L275.245782,878.095176 C232.633764,951.361434 257.673816,1045.17226 331.193668,1087.62166 C355.480636,1101.64638 382.011167,1108.32259 408.196535,1108.32259 C461.273287,1108.32259 512.906628,1080.91419 541.429695,1031.86676 L618.385494,899.562221 L485.356295,670.851419 C477.574424,657.46774 471.439925,643.411751 466.937109,628.949248 C456.629268,617.863935 447.482432,605.574717 439.747628,592.206673 L306.137927,361.588384 L154.50127,361.322587 Z\"/>\\n        <path vector-effect=\"non-scaling-stroke\" d=\"M467.385494,629.322587 C471.87591,643.790116 477.993514,657.881866 485.753953,671.269028 L618.432432,900.322587 L751.126557,671.222055 C758.824412,657.928838 764.910725,643.978006 769.385494,629.620079 C730.896218,671.049823 676.260222,695.538152 618.526309,695.538152 C560.651581,695.538152 505.906062,670.94022 467.385494,629.322587\"/>\\n        <path vector-effect=\"non-scaling-stroke\" d=\"M873.755272,0.322586957 C820.630687,0.322586957 768.933002,27.8785267 740.457723,77.1471057 L618.888978,287.505922 L497.320233,77.1471057 C468.844954,27.862861 417.162949,0.322586957 364.022684,0.322586957 C337.946478,0.322586957 311.509628,6.96483735 287.299368,20.9229626 C213.743457,63.3456373 188.545343,157.308415 231.023059,230.764812 L306.727161,361.761269 L573.667224,362.246905 C589.018159,362.262571 604.149572,364.001462 618.794897,367.322587 C633.455903,364.001462 648.555954,362.262571 663.90689,362.246905 L931.050796,361.761269 L1006.7549,230.764812 C1049.21693,157.308415 1024.0345,63.3456373 950.478588,20.9229626 C926.268329,6.96483735 899.847158,0.322586957 873.755272,0.322586957\"/>\\n        <path vector-effect=\"non-scaling-stroke\" d=\"M930.385494,361.322587 L663.444849,361.790461 C648.122162,361.806057 633.018817,363.552786 618.385494,366.87469 C673.879318,379.429304 722.683174,414.582225 751.605139,464.707108 C780.511436,514.738416 786.465036,574.345543 769.52861,628.322587 C779.931743,617.18719 789.159824,604.835321 796.946506,591.407342 L930.385494,361.322587 Z\"/>\\n        <path vector-effect=\"non-scaling-stroke\" d=\"M306.385494,361.322587 L439.882555,591.645219 C447.610837,604.979605 456.749962,617.252236 467.049113,628.322587 C450.213058,574.344868 456.216977,514.824166 485.076546,464.828026 C514.092875,414.613289 562.908028,379.450482 618.385494,366.881183 C603.728407,363.555394 588.60104,361.806622 573.269883,361.791008 L306.385494,361.322587 Z\"/>\\n        <path vector-effect=\"non-scaling-stroke\" d=\"M618.886166,367.322587 C563.472256,379.834745 514.683581,414.853244 485.692301,464.82416 C456.873309,514.60856 450.85891,573.843136 467.680431,627.591015 C506.241496,668.90445 561.044569,693.322587 618.980141,693.322587 C676.774751,693.322587 731.452525,669.013252 769.997927,627.886333 C786.929085,574.091825 780.961674,514.701818 752.064369,464.82416 C723.151402,414.868787 674.362727,379.834745 618.886166,367.322587\"/>\\n    </g>\\n\\n    </svg>\\n        </div>\\n    </div>\\n</header>\\n\\n\\n        <div class=\"courseWrapper | ctn | row row--space\">\\n            <nav\\n    class=\"courseNav | cf\"\\n    data-component=\"CourseNav\"\\n>\\n    <div class=\"courseNav__inner | tp-ctn-inner | js-scrollarea\">\\n        <h2 class=\"courseNav__title\">La formation</h2>\\n\\n        <div class=\"courseNav__wrapper | js-wrapper\">\\n            <ol class=\"courseNavList\">\\n                                                        <li class=\"courseNavItem | js-item\">\\n                        <a class=\"courseNavLink | js-link\" data-anchor-prevent href=\"#en-bref\">\\n                            <span>En bref</span>\\n                        </a>\\n                    </li>\\n                                                        <li class=\"courseNavItem | js-item\">\\n                        <a class=\"courseNavLink | js-link\" data-anchor-prevent href=\"#metier\">\\n                            <span>Métier</span>\\n                        </a>\\n                    </li>\\n                                                        <li class=\"courseNavItem | js-item\">\\n                        <a class=\"courseNavLink | js-link\" data-anchor-prevent href=\"#programme\">\\n                            <span>Programme</span>\\n                        </a>\\n                    </li>\\n                                                        <li class=\"courseNavItem | js-item\">\\n                        <a class=\"courseNavLink | js-link\" data-anchor-prevent href=\"#stages\">\\n                            <span>Stages</span>\\n                        </a>\\n                    </li>\\n                                                        <li class=\"courseNavItem | js-item\">\\n                        <a class=\"courseNavLink | js-link\" data-anchor-prevent href=\"#etudier-a-letranger\">\\n                            <span>Étudier à l&#039;étranger</span>\\n                        </a>\\n                    </li>\\n                                                        <li class=\"courseNavItem | js-item\">\\n                        <a class=\"courseNavLink | js-link\" data-anchor-prevent href=\"#et-apres\">\\n                            <span>Et après\\xa0?</span>\\n                        </a>\\n                    </li>\\n                                                        <li class=\"courseNavItem | js-item\">\\n                        <a class=\"courseNavLink | js-link\" data-anchor-prevent href=\"#passerelles-equivalences-vae\">\\n                            <span>Passerelles, équivalences &amp;\\xa0VAE</span>\\n                        </a>\\n                    </li>\\n                                                        <li class=\"courseNavItem | js-item\">\\n                        <a class=\"courseNavLink | js-link\" data-anchor-prevent href=\"#moments-dinfo-contact\">\\n                            <span>Moments d’info &amp;\\xa0contact</span>\\n                        </a>\\n                    </li>\\n                            </ol>\\n\\n            <div class=\"courseNavHighlighter | d-only | bg-theme | js-highlighter\" aria-hidden=\"true\"></div>\\n        </div>\\n\\n        <div class=\"courseNav__floaterCtn | floaterCtn | tp-hidden\">\\n            <div class=\"courseNav__floater | floater floater--left\">\\n                <div class=\"shapes | c-theme | d-only\"></div>\\n            </div>\\n        </div>\\n    </div>\\n</nav>\\n            <div class=\"courseContent | col-7 | tp-col-8 tp-mlg-2\">\\n            <section\\n            class=\"courseSection\"\\n            id=\"en-bref\"\\n        >\\n            <h2 class=\"courseSection__title | thicktle thicktle--m\">En bref</h2>\\n\\n            \\n\\n                            <figure class=\"courseQuote | col-6 mlg-1\">\\n    <blockquote class=\"courseQuote__quote\">\\n        <p class=\"courseQuote__text\">Un métier alliant l’intérêt pour les technologies et les relations humaines, qui demande d’être à la fois créatif, curieux et méthodique.</p>\\n    </blockquote>\\n</figure>\\n                            <div class=\"courseRedactor\">\\n    <h3>Les points forts du bachelier en informatique, orientation développement d’applications</h3>\\n<ul><li>Un <strong>enseignement axé sur la pratique</strong> <strong>sur ordinateur</strong> dès que possible. Les principes théoriques sont immédiatement appliqués et donc, mieux assimilés. </li><li>Des salles machines accessibles aux étudiants en dehors des heures de cours (8h – 19h). </li><li><strong>Un apprentissage qui se concentre</strong> sur les concepts fondamentaux en insistant <strong>sur la</strong> <strong>capacité d\\'adaptation et d\\'autonomie</strong>. Diplôme en main, l\\'étudiant peut ainsi facilement faire face aux dernières nouveautés technologiques.</li></ul>\\n</div>\\n                            <div class=\"courseRedactor\">\\n    <h3>Bon à savoir</h3>\\n<p>Les métiers de l’informatique sont des métiers en pénurie en Wallonie et à Bruxelles. Nos diplômés se voient souvent proposer un emploi sur leur lieu de stage. </p>\\n</div>\\n                    </section>\\n            <section\\n            class=\"courseSection\"\\n            id=\"metier\"\\n        >\\n            <h2 class=\"courseSection__title | thicktle thicktle--m\">Le métier d’informaticien ou informaticienne</h2>\\n\\n            \\n\\n                            <div class=\"courseRedactor\">\\n    <p>Le bachelier en informatique mène à des <strong>métiers diversifiés</strong> et ouverts\\xa0: analyste-développeur, administrateur de base de données, spécialiste web, intégrateur d’application, consultant, etc. </p>\\n<p>L’informaticien peut travailler dans de nombreux domaines, tant dans le secteur public que privé. Il peut être <strong>salarié ou indépendant</strong> et travailler seul ou en équipe. Il est régulièrement en contact avec ses clients (internes ou externes) afin de bien comprendre leurs besoins. C’est donc un métier à la fois relationnel et technique. </p>\\n</div>\\n                    </section>\\n            <section\\n            class=\"courseSection\"\\n            id=\"programme\"\\n        >\\n            <h2 class=\"courseSection__title | thicktle thicktle--m\">Le programme</h2>\\n\\n            \\n\\n                            <a\\n    class=\"contentBtn contentBtn--external | c-theme\"\\n     href=\"https://progcours.vinci.be/cocoon/programmes/P1INFV01_C.html\" rel=\"noopener noreferrer\" target=\"_blank\"\\n>\\n    <span class=\"contentBtn__iconHolder\" aria-hidden=\"true\">\\n        <svg\\n    class=\"icon icon--externalLink\"\\n    width=\"15\"\\n    height=\"14\"\\n    viewBox=\"0 0 15 14\"\\n    aria-hidden=\"true\"\\n>\\n    <g fill=\"none\" fill-rule=\"evenodd\" stroke-linecap=\"round\" stroke-linejoin=\"round\" transform=\"translate(1 .903)\">\\n        <path stroke-width=\"2\" d=\"M12,6.59685326 L12,10.0968533 C12,11.2014228 11.1045695,12.0968533 10,12.0968533 L2,12.0968533 C0.8954305,12.0968533 0,11.2014228 0,10.0968533 L0,2.09685326 C0,0.992283757 0.8954305,0.0968532562 2,0.0968532562 L5.5,0.0968532562\"/>\\n        <g class=\"icon__pointingArrow\">\\n            <g transform=\"translate(6)\">\\n                <polyline stroke-width=\"1.8\" points=\"3.107 0 6.107 0 6.107 3\"/>\\n                <line x2=\"6\" y1=\"6.097\" y2=\".097\" stroke-width=\"2\"/>\\n            </g>\\n        </g>\\n    </g>\\n</svg>\\n    </span>\\n    <span class=\"contentBtn__text\">Programme</span>\\n</a>                            <div class=\"courseRedactor\">\\n    <h4>3 ans - 180 crédits</h4>\\n</div>\\n                            <ol class=\"courseBlocks\">\\n            <li class=\"courseBlocks__item | bg-theme\">\\n            <h3 class=\"courseBlocks__item__title | thicktle thicktle--m | c-white\">Bloc 1</h3>\\n            <p>Les <strong>fondements de l\\'informatique</strong> : l’algorithmique, la logique mathématique, les bases de données, les bases du web, l’orienté objet. Les cours sont parfois théoriques mais souvent pratiques. Les technologies abordées sont : Java, HTML/CSS, Javascript, SQL, Linux…</p>\\n        </li>\\n            <li class=\"courseBlocks__item | bg-theme\">\\n            <h3 class=\"courseBlocks__item__title | thicktle thicktle--m | c-white\">Bloc 2</h3>\\n            <p>L<strong>’analyse des systèmes informatiques</strong> et le <strong>p</strong><strong>rojet informatique dans sa globalité</strong> : modélisation, design, conception, architecture. L\\'étudiant aborde des matières plus spécifiques et il participe à des applications pratiques en relation avec le monde professionnel. Les technologies abordées sont, entre autres : Java, Javascript, ANDROÏD, UML.</p>\\n        </li>\\n            <li class=\"courseBlocks__item | bg-theme\">\\n            <h3 class=\"courseBlocks__item__title | thicktle thicktle--m | c-white\">Bloc 3</h3>\\n            <p>La moitié de l\\'année est consacrée au <strong>stage en entreprise</strong>. L\\'autre moitié repose sur la rédaction d’un <strong>travail de fin d’études</strong>, la pratique de technologies de pointe (React, Spring, docker…) et des cours thématiques (Big Data, éthique, sécurité). Lors de cette dernière année, l\\'étudiant a le choix parmi plusieurs cours à option : Intelligence artificielle (machine learning), cybersécurité et malwares, et développement à l\\'aide d\\'un moteur de jeux (Unity)<em>.</em></p>\\n        </li>\\n    </ol>\\n                    </section>\\n            <section\\n            class=\"courseSection\"\\n            id=\"stages\"\\n        >\\n            <h2 class=\"courseSection__title | thicktle thicktle--m\">Les stages</h2>\\n\\n            \\n\\n                            <div class=\"courseRedactor\">\\n    <h3>15 semaines de stage en bloc 3</h3>\\n</div>\\n                            <ol class=\"courseBlocks\">\\n            <li class=\"courseBlocks__item | bg-theme\">\\n            <h3 class=\"courseBlocks__item__title | thicktle thicktle--m | c-white\">Bloc 2</h3>\\n            <p>2 jours d’observation en entreprise</p>\\n        </li>\\n            <li class=\"courseBlocks__item | bg-theme\">\\n            <h3 class=\"courseBlocks__item__title | thicktle thicktle--m | c-white\">Bloc 3</h3>\\n            <p>15 semaines de stage durant le 2e quadrimestre</p>\\n        </li>\\n    </ol>\\n                            <div class=\"courseRedactor\">\\n    <p>Contact stage\\xa0: <u><a href=\"mailto:stages.informatique@vinci.be\" target=\"_blank\" rel=\"noreferrer noopener\">stages.informatique@vinci.be</a></u></p>\\n</div>\\n                    </section>\\n            <section\\n            class=\"courseSection\"\\n            id=\"etudier-a-letranger\"\\n        >\\n            <h2 class=\"courseSection__title | thicktle thicktle--m\">Etudier à l&#039;étranger</h2>\\n\\n            \\n\\n                            <div class=\"courseRedactor\">\\n    <h4>A la Haute Ecole Léonard de Vinci, chaque étudiante et chaque étudiant a la possibilité de partir étudier ou se former sur le terrain à l\\'étranger. Selon le département concerné, différentes destinations et types de séjours sont envisageables.</h4>\\n</div>\\n                            <div class=\"courseRedactor\">\\n    <ul><li><strong>Type de séjour\\xa0: </strong>Formation ou stage</li><li><strong>Autres activités internationales\\xa0:</strong> cours en ligne, évènements ponctuels (semaine internationale, hackathon, conférence...)</li><li><strong>Destination(s) pour un séjour d\\'étude\\xa0: </strong>Chicoutimi (Québec), Dublin, Corée du Sud, Suisse, Luxembourg, Flandre...</li><li><strong>Destination(s) pour un stage\\xa0: </strong>Canada, Bénin &amp; propositions des étudiants (Europe et hors Europe)</li></ul>\\n</div>\\n                                    \\n<a\\n    class=\"link\"\\n     href=\"https://www.vinci.be/fr/international\"\\n>\\n    <span>\\n        En savoir plus sur l\\'international à <span class=\"nbw\">Vinci<svg\\n    class=\"icon icon--arrow\"\\n    width=\"9\"\\n    height=\"9\"\\n    viewBox=\"0 0 9 9\"\\n    aria-hidden=\"true\"\\n    stroke=\"#058aae\"\\n    stroke-linecap=\"round\"\\n    stroke-linejoin=\"round\"\\n    stroke-width=\"2.8\"\\n>\\n  <g\\n    fill=\"none\"\\n    fill-rule=\"evenodd\"\\n    transform=\"translate(2 1)\"\\n>\\n    <line class=\"icon__pill icon__pill--bottom\" x1=\"0.329\" x2=\"4.671\" y1=\"0.671\" y2=\"3.671\" />\\n    <line class=\"icon__pill icon__pill--top\" x1=\"0.329\" x2=\"4.671\" y1=\"6.578\" y2=\"3.671\" />\\n  </g>\\n</svg>\\n</span>\\n    </span>\\n</a>\\n                    </section>\\n            <section\\n            class=\"courseSection\"\\n            id=\"et-apres\"\\n        >\\n            <h2 class=\"courseSection__title | thicktle thicktle--m\">Et après ?</h2>\\n\\n            \\n\\n                            <div class=\"courseRedactor\">\\n    <h3>Travailler avec et pour qui\\xa0?</h3>\\n<p>L\\'informatique est partout, ce qui permet une très grande diversité au cours d\\'une carrière.</p>\\n<h3>Travailler où\\xa0?</h3>\\n<p>Le diplômé pourra travailler dans\\xa0: </p>\\n<ul><li>Des entreprises privées de toute taille </li><li>Des services publics </li><li>Dans le secteur non-marchand </li><li>Des sociétés de consultance </li><li>Etc. </li></ul>\\n<h3>Poursuivre la formation\\xa0?</h3>\\n<p>Le bachelier en informatique de gestion pourra, selon certaines conditions*, poursuivre son cursus par \\u202f: </p>\\n<h4>Une spécialisation </h4>\\n<ul><li><a href=\"https://www.vinci.be/fr/formations/business-data-analysis\" target=\"_blank\" rel=\"noreferrer noopener\">Business Data Analysis</a> (co-organisation HE Vinci et <a href=\"https://www.ephec.be/formations/promotion-sociale/bachelier-de-specialisation-en-business-data-analysis\" target=\"_blank\" rel=\"noreferrer noopener\">Ephec</a>) </li></ul>\\n<h4>Un master </h4>\\n<ul><li>Sciences informatiques </li><li>Cybersécurité </li><li>Business Analysis</li></ul>\\n<p>*Il n\\'y a pas de passerelle automatique vers ces cursus de master. Il faut introduire une demande de valorisation de crédits acquis afin d\\'obtenir un programme personnalisé et un accord de la commission pédagogique. Certains crédits devront être pris dans le cursus bachelier de ces formations.</p>\\n</div>\\n                    </section>\\n            <section\\n            class=\"courseSection\"\\n            id=\"passerelles-equivalences-vae\"\\n        >\\n            <h2 class=\"courseSection__title | thicktle thicktle--m\">Passerelles, équivalences &amp; VAE</h2>\\n\\n            \\n\\n                            <div class=\"courseRedactor\">\\n    <p>Les <strong>études antérieures </strong>peuvent être valorisées lors d\\'une inscription à une nouvelle formation de la HE Vinci ou dans un autre établissement. Cela peut prendre la forme d\\'une valorisation des crédits acquis ou de passerelles ou admissions personnalisées.</p>\\n<h3><strong>Valorisation des crédits acquis au cours d\\'études supérieures</strong><br /></h3>\\n<p>Dans certaines conditions, l\\'étudiant peut être dispensé de certaines unités d’enseignement d\\'une année d\\'études supérieures suivie en Belgique ou à l\\'étranger. Les matières doivent être d\\'importance ou de nature équivalente à celles qui figurent au programme de la formation choisie. Une demande de valorisation de crédits acquis doit être introduite dans chaque département selon les modalités fixées.</p>\\n<p>Plus d\\'info\\xa0: <a href=\"http://www.enseignement.be/index.php?page=4323\" target=\"_blank\" rel=\"noreferrer noopener\">enseignement.be</a></p>\\n<h3><strong>Valorisation des acquis de l\\'expérience (VAE)</strong><br /></h3>\\n<p>La valorisation des acquis de l\\'expérience (VAE) permet à des adultes souhaitant reprendre des études supérieures d’obtenir des dispenses, une réduction de la durée des études ou un accès aux études (premier ou deuxième cycle, sans en remplir les conditions d\\'accès) sur base d’une expérience professionnelle et/ou personnelle valorisable. Ce mécanisme permet d’alléger le programme de formation choisi.</p>\\n</div>\\n                                    \\n<a\\n    class=\"link\"\\n     href=\"https://www.vinci.be/fr/vae\"\\n>\\n    <span>\\n        Conditions de la <span class=\"nbw\">VAE<svg\\n    class=\"icon icon--arrow\"\\n    width=\"9\"\\n    height=\"9\"\\n    viewBox=\"0 0 9 9\"\\n    aria-hidden=\"true\"\\n    stroke=\"#058aae\"\\n    stroke-linecap=\"round\"\\n    stroke-linejoin=\"round\"\\n    stroke-width=\"2.8\"\\n>\\n  <g\\n    fill=\"none\"\\n    fill-rule=\"evenodd\"\\n    transform=\"translate(2 1)\"\\n>\\n    <line class=\"icon__pill icon__pill--bottom\" x1=\"0.329\" x2=\"4.671\" y1=\"0.671\" y2=\"3.671\" />\\n    <line class=\"icon__pill icon__pill--top\" x1=\"0.329\" x2=\"4.671\" y1=\"6.578\" y2=\"3.671\" />\\n  </g>\\n</svg>\\n</span>\\n    </span>\\n</a>\\n                    </section>\\n            <section\\n            class=\"courseSection\"\\n            id=\"moments-dinfo-contact\"\\n        >\\n            <h2 class=\"courseSection__title | thicktle thicktle--m\">Moments d&#039;infos &amp; contact</h2>\\n\\n                            \\n    <ol class=\"relatedEvents | row\">\\n                    \\n            <li class=\"eventPreview | col-3 | tp-col-4\">\\n                <article>\\n                    \\n\\n<div class=\"eventPreview__date | date\">\\n            <span class=\"sr-only\">Du</span> \\n    \\n    <time\\n        class=\"date__time\"\\n        datetime=\"2023-10-03\"\\n    >3 oct.</time>\\n\\n            <span class=\"sr-only\">au</span> \\n        <svg\\n    class=\"date__arrow | icon icon--arrow\"\\n    width=\"9\"\\n    height=\"9\"\\n    viewBox=\"0 0 9 9\"\\n    aria-hidden=\"true\"\\n    stroke=\"#058aae\"\\n    stroke-linecap=\"round\"\\n    stroke-linejoin=\"round\"\\n    stroke-width=\"2.8\"\\n>\\n  <g\\n    fill=\"none\"\\n    fill-rule=\"evenodd\"\\n    transform=\"translate(2 1)\"\\n>\\n    <line class=\"icon__pill icon__pill--bottom\" x1=\"0.329\" x2=\"4.671\" y1=\"0.671\" y2=\"3.671\" />\\n    <line class=\"icon__pill icon__pill--top\" x1=\"0.329\" x2=\"4.671\" y1=\"6.578\" y2=\"3.671\" />\\n  </g>\\n</svg>\\n\\n        <time\\n            class=\"date__time\"\\n            datetime=\"2024-01-30\"\\n        >30 janv.</time>\\n    </div>\\n                    <h3 class=\"eventPreview__title | thicktle thicktle--xs | c-bahama\">\\n                        <a href=\"https://www.vinci.be/fr/agenda/soirees-info-etudes-dans-les-ecoles-secondaires\">Soirées Info-études dans les écoles secondaires</a>\\n                    </h3>\\n\\n                    <small class=\"eventPreview__location | f-freight | c-bahama\">\\n                        <svg class=\"icon icon--marker\" width=\"17\" height=\"19\" fill=\"#006f91\" viewBox=\"0 0 17 19\" aria-hidden=\"true\">\\n    <path d=\"M8.5.26a8,8,0,0,0-8,8c0,6.4,7.29,10.12,7.6,10.27l.4.2.4-.2c.31-.15,7.6-3.87,7.6-10.27A8,8,0,0,0,8.5.26Zm0,16.47C7.07,15.9,2.28,12.8,2.28,8.26a6.22,6.22,0,0,1,12.44,0C14.72,12.79,9.93,15.9,8.5,16.73Z\"/>\\n    <path d=\"M8.5,5a3.26,3.26,0,1,0,3.26,3.26A3.26,3.26,0,0,0,8.5,5Zm0,4.74A1.48,1.48,0,1,1,10,8.26,1.48,1.48,0,0,1,8.5,9.74Z\"/>\\n</svg>                        A Bruxelles et en Wallonie\\n                    </small>\\n                </article>\\n            </li>\\n            </ol>\\n\\n    <a class=\"link\" href=\"https://www.vinci.be/fr/agenda\">\\n        Voir l’agenda complet\\n        <svg\\n    class=\"icon icon--arrow\"\\n    width=\"9\"\\n    height=\"9\"\\n    viewBox=\"0 0 9 9\"\\n    aria-hidden=\"true\"\\n    stroke=\"#058aae\"\\n    stroke-linecap=\"round\"\\n    stroke-linejoin=\"round\"\\n    stroke-width=\"2.8\"\\n>\\n  <g\\n    fill=\"none\"\\n    fill-rule=\"evenodd\"\\n    transform=\"translate(2 1)\"\\n>\\n    <line class=\"icon__pill icon__pill--bottom\" x1=\"0.329\" x2=\"4.671\" y1=\"0.671\" y2=\"3.671\" />\\n    <line class=\"icon__pill icon__pill--top\" x1=\"0.329\" x2=\"4.671\" y1=\"6.578\" y2=\"3.671\" />\\n  </g>\\n</svg>\\n    </a>\\n            \\n\\n                            <div class=\"courseRedactor\">\\n    <h3>Contact</h3>\\n<p>Cette formation est organisée sur le <a href=\"https://www.vinci.be/fr/campus/woluwe\">campus Woluwe</a> - Implantation Champs_43 (Clos Chapelle-aux-Champs 43-1200 Bruxelles)</p>\\n<ul><li>Renseignements administratifs\\xa0: <u><a href=\"mailto:accueil@vinci.be\" target=\"_blank\" rel=\"noreferrer noopener\">accueil@vinci.be</a></u></li></ul>\\n<ul><li>Responsable du département\\xa0: <u><a href=\"mailto:bernard.frank@vinci.be\" target=\"_blank\" title=\"Envoyer un courrier\" rel=\"noreferrer noopener\"></a><a title=\"Envoyer un courrier\" href=\"mailto:departement.informatique@vinci.be\" target=\"_blank\" rel=\"noreferrer noopener\">departement.informatique@vinci.be</a></u></li></ul>\\n</div>\\n                    </section>\\n    </div>\\n        </div>\\n\\n    </article>\\n                </main>\\n\\n\\n                                    <footer id=\"footer\" class=\"footer | ctn row\">\\n    \\n\\n\\n\\n\\n<aside class=\"nl | col-4 | tp-col-7\">\\n    <h3 class=\"nl__title | title\"><strong>Restez au courant</strong> de nos dernières actualités</h3>\\n\\n    <form\\n         id=\"formie-form-10058165127dec2e53b\" method=\"post\" data-config=\"{&quot;formHashId&quot;:&quot;formie-form-10058165127dec2e53b&quot;,&quot;formId&quot;:100581,&quot;formHandle&quot;:&quot;newsletterFooter&quot;,&quot;registeredJs&quot;:[],&quot;settings&quot;:{&quot;submitMethod&quot;:&quot;ajax&quot;,&quot;submitActionMessage&quot;:&quot;Merci de votre inscription&quot;,&quot;submitActionMessageTimeout&quot;:&quot;&quot;,&quot;submitActionMessagePosition&quot;:&quot;top-form&quot;,&quot;submitActionFormHide&quot;:&quot;&quot;,&quot;submitAction&quot;:&quot;message&quot;,&quot;submitActionTab&quot;:null,&quot;errorMessage&quot;:&quot;Veuillez saisir les informations correctes dans les champs en surbrillance.&quot;,&quot;errorMessagePosition&quot;:&quot;top-form&quot;,&quot;loadingIndicator&quot;:&quot;&quot;,&quot;loadingIndicatorText&quot;:&quot;&quot;,&quot;validationOnSubmit&quot;:&quot;1&quot;,&quot;validationOnFocus&quot;:&quot;&quot;,&quot;scrollToTop&quot;:&quot;1&quot;,&quot;hasMultiplePages&quot;:false,&quot;pages&quot;:[{&quot;settings&quot;:{&quot;submitButtonLabel&quot;:&quot;Submit&quot;,&quot;backButtonLabel&quot;:&quot;Back&quot;,&quot;showBackButton&quot;:false,&quot;buttonsPosition&quot;:&quot;left&quot;,&quot;cssClasses&quot;:null,&quot;containerAttributes&quot;:[],&quot;inputAttributes&quot;:[],&quot;enableNextButtonConditions&quot;:false,&quot;nextButtonConditions&quot;:&quot;{\\\\&quot;showRule\\\\&quot;:\\\\&quot;show\\\\&quot;,\\\\&quot;conditionRule\\\\&quot;:\\\\&quot;all\\\\&quot;,\\\\&quot;conditions\\\\&quot;:[]}&quot;,&quot;enablePageConditions&quot;:false,&quot;pageConditions&quot;:[],&quot;enableJsEvents&quot;:true,&quot;jsGtmEventOptions&quot;:[{&quot;label&quot;:&quot;event&quot;,&quot;value&quot;:&quot;formPageSubmission&quot;},{&quot;label&quot;:&quot;formId&quot;,&quot;value&quot;:&quot;newsletterFooter&quot;},{&quot;label&quot;:&quot;pageId&quot;,&quot;value&quot;:&quot;1462&quot;},{&quot;label&quot;:&quot;pageIndex&quot;,&quot;value&quot;:0}]},&quot;id&quot;:&quot;1462&quot;,&quot;layoutId&quot;:&quot;118&quot;,&quot;name&quot;:&quot;Page 1&quot;,&quot;elements&quot;:[{&quot;label&quot;:null,&quot;instructions&quot;:null,&quot;tip&quot;:null,&quot;warning&quot;:null,&quot;required&quot;:&quot;1&quot;,&quot;width&quot;:100,&quot;fieldUid&quot;:&quot;2683efae-6843-4e49-b9b9-bbd86d82c756&quot;}],&quot;sortOrder&quot;:&quot;0&quot;,&quot;uid&quot;:&quot;c341567b-2e1f-4c50-8466-a1e9d457b31e&quot;}],&quot;redirectUrl&quot;:&quot;&quot;,&quot;currentPageId&quot;:&quot;1462&quot;,&quot;outputJsTheme&quot;:true,&quot;enableUnloadWarning&quot;:&quot;1&quot;,&quot;ajaxTimeout&quot;:10}}\" data-submit-method=\"ajax\" data-submit-action=\"message\"\\n        action=\"#\"\\n        class=\"nlForm\"\\n        data-component=\"NewsletterField\"\\n    >\\n        <input type=\"hidden\" name=\"action\" value=\"formie/submissions/submit\">\\n        <input type=\"hidden\" name=\"handle\" value=\"newsletterFooter\">\\n        <input type=\"hidden\" name=\"CRAFT_CSRF_TOKEN\" value=\"iTAD3q7CC1yy0rbqLCe4WrGX_h7zcu_zShYVBrUfaJeGP6Ddf2k5EMVcLomft0wb-LrSg2QX4j6C9a4tihq2ixpVbDWYLwX1z2rlp00kT1c=\">\\n\\n        <fieldset class=\"nlForm__fieldset\">\\n\\n            <div class=\"nlForm__wrapper\">\\n                <label class=\"sr-only\" for=\"nlEmail\">Votre email…</label>\\n                <input\\n                    class=\"nlForm__input | js-inputNl\"\\n                    id=\"nlEmail\"\\n                    type=\"email\"\\n                    name=\"fields[email]\"\\n                    placeholder=\"Votre email…\"\\n                    required\\n                >\\n\\n\\n                <button class=\"nlForm__submit | btn btn--cta | js-submit\" type=\"submit\">\\n                    <span class=\"js-label\">S’inscrire</span>\\n                </button>\\n\\n                                <div class=\"nlForm__checkmark | js-checkmark\" aria-hidden=\"true\">\\n                    <span></span>\\n                    <span></span>\\n                </div>\\n\\n                <div class=\"nlForm__waiting\" aria-hidden=\"true\">\\n                    <span></span>\\n                    <span></span>\\n                    <span></span>\\n                </div>\\n\\n                            </div>\\n        </fieldset>\\n\\n\\n        <small class=\"nlForm__notes\">Vous pouvez vous désinscrire à tout moment en cliquant sur le lien situé dans le pied de page de tout e-mail que vous recevez de notre part.</small>\\n    </form>\\n\\n    \\n</aside>\\n\\n            \\n        <nav class=\"footerNav | col-4 mlg-1 | tp-col-4 tp-mlg-1 tp-col-free\">\\n            <ul class=\"footerNavList\">\\n                                    <li class=\"footerNavItem\">\\n                        <a\\n                            class=\"footerNav__link\"\\n                             href=\"https://www.vinci.be/fr/emploi\"\\n                        ><span>Emploi</span></a>\\n                    </li>\\n                                    <li class=\"footerNavItem\">\\n                        <a\\n                            class=\"footerNav__link\"\\n                             href=\"https://www.vinci.be/fr/presse\"\\n                        ><span>Presse</span></a>\\n                    </li>\\n                                    <li class=\"footerNavItem\">\\n                        <a\\n                            class=\"footerNav__link\"\\n                             href=\"https://www.vinci.be/fr/reglement-des-etudes\"\\n                        ><span>Règlement des études</span></a>\\n                    </li>\\n                                    <li class=\"footerNavItem\">\\n                        <a\\n                            class=\"footerNav__link\"\\n                             href=\"https://www.vinci.be/fr/mentions-legales\"\\n                        ><span>Mentions légales</span></a>\\n                    </li>\\n                                    <li class=\"footerNavItem\">\\n                        <a\\n                            class=\"footerNav__link\"\\n                             href=\"https://www.vinci.be/fr/politique-vie-privee\"\\n                        ><span>Politique de vie privée</span></a>\\n                    </li>\\n                                    <li class=\"footerNavItem\">\\n                        <a\\n                            class=\"footerNav__link\"\\n                             href=\"#cookie-notice-open\"\\n                        ><span>Paramètres de confidentialité</span></a>\\n                    </li>\\n                            </ul>\\n        </nav>\\n\\n        \\n\\n\\n\\n<aside class=\"footer__sn | col-2 mlg-1 cf | sn | js-sn\">\\n            <h3 class=\"sr-only\">Réseaux sociaux</h3>\\n    \\n    <ul class=\"snList\">\\n                    <li class=\"snItem\">\\n                <a class=\"snItem__link\"  href=\"https://www.facebook.com/HEVINCI/\" rel=\"noopener noreferrer\" target=\"_blank\">\\n                    <span class=\"snItem__label\">Facebook</span>\\n                </a>\\n\\n                <svg class=\"snItem__icon | icon icon--fb\" width=\"16px\" height=\"16px\" fill=\"#3b5998\" viewBox=\"0 0 16 16\" aria-hidden=\"true\">\\n    <path d=\"M14.57,0H1.43A2.14,2.14,0,0,0,0,1.43V14.57A2.14,2.14,0,0,0,1.43,16H8.27V9.92H6.07V7.73h2.2V6a3.22,3.22,0,0,1,3.41-3.29,9.32,9.32,0,0,1,1.57.12V5H11.69c-1,0-1.19.5-1.19,1.2V7.73h2.78l-.36,2.19H10.5V16h4.07A2.14,2.14,0,0,0,16,14.57V1.43A2.14,2.14,0,0,0,14.57,0Z\"/>\\n</svg>\\n            </li>\\n                    <li class=\"snItem\">\\n                <a class=\"snItem__link\"  href=\"https://www.instagram.com/he_vinci/\" rel=\"noopener noreferrer\" target=\"_blank\">\\n                    <span class=\"snItem__label\">Instagram</span>\\n                </a>\\n\\n                \\n\\n<svg class=\"snItem__icon | icon icon--ig\" width=\"16\" height=\"16\" viewBox=\"0 0 512 512\" aria-hidden=\"true\">\\n    <defs>\\n        <radialGradient\\n            cx=\"56.3501\"\\n            cy=\"19.2179\"\\n            gradientTransform=\"matrix(0.9986 -5.233596e-02 4.448556e-02 0.8488 -36.9742 443.8014)\"\\n            gradientUnits=\"userSpaceOnUse\"\\n            id=\"igGradient11855288228\"\\n            r=\"711.335\"\\n        >\\n            <stop offset=\"0\" style=\"stop-color:#FED576\"/>\\n            <stop offset=\"0.2634\" style=\"stop-color:#F47133\"/>\\n            <stop offset=\"0.6091\" style=\"stop-color:#BC3081\"/>\\n            <stop offset=\"1\" style=\"stop-color:#4C63D2\"/>\\n        </radialGradient>\\n\\n        <radialGradient\\n            cx=\"154.0732\"\\n            cy=\"134.5501\"\\n            gradientTransform=\"matrix(0.9986 -5.233596e-02 4.448556e-02 0.8488 -24.3617 253.2946)\"\\n            gradientUnits=\"userSpaceOnUse\"\\n            id=\"igGradient22022698415\"\\n            r=\"365.2801\"\\n        >\\n            <stop offset=\"0\" style=\"stop-color:#FED576\"/>\\n            <stop offset=\"0.2634\" style=\"stop-color:#F47133\"/>\\n            <stop offset=\"0.6091\" style=\"stop-color:#BC3081\"/>\\n            <stop offset=\"1\" style=\"stop-color:#4C63D2\"/>\\n        </radialGradient>\\n    </defs>\\n\\n    <path fill=\"url(#igGradient11855288228)\" d=\"M96.1,23.2c-16.2,6.3-29.9,14.7-43.6,28.4C38.8,65.2,30.4,79,24.1,95.1c-6.1,15.6-10.2,33.5-11.4,59.7c-1.2,26.2-1.5,34.6-1.5,101.4s0.3,75.2,1.5,101.4c1.2,26.2,5.4,44.1,11.4,59.7c6.3,16.2,14.7,29.9,28.4,43.6c13.7,13.7,27.4,22.1,43.6,28.4c15.6,6.1,33.5,10.2,59.7,11.4c26.2,1.2,34.6,1.5,101.4,1.5c66.8,0,75.2-0.3,101.4-1.5c26.2-1.2,44.1-5.4,59.7-11.4c16.2-6.3,29.9-14.7,43.6-28.4c13.7-13.7,22.1-27.4,28.4-43.6c6.1-15.6,10.2-33.5,11.4-59.7c1.2-26.2,1.5-34.6,1.5-101.4s-0.3-75.2-1.5-101.4c-1.2-26.2-5.4-44.1-11.4-59.7C484,79,475.6,65.2,462,51.6    c-13.7-13.7-27.4-22.1-43.6-28.4c-15.6-6.1-33.5-10.2-59.7-11.4c-26.2-1.2-34.6-1.5-101.4-1.5s-75.2,0.3-101.4,1.5    C129.6,12.9,111.7,17.1,96.1,23.2z M356.6,56c24,1.1,37,5.1,45.7,8.5c11.5,4.5,19.7,9.8,28.3,18.4c8.6,8.6,13.9,16.8,18.4,28.3    c3.4,8.7,7.4,21.7,8.5,45.7c1.2,25.9,1.4,33.7,1.4,99.4s-0.3,73.5-1.4,99.4c-1.1,24-5.1,37-8.5,45.7c-4.5,11.5-9.8,19.7-18.4,28.3    c-8.6,8.6-16.8,13.9-28.3,18.4c-8.7,3.4-21.7,7.4-45.7,8.5c-25.9,1.2-33.7,1.4-99.4,1.4s-73.5-0.3-99.4-1.4    c-24-1.1-37-5.1-45.7-8.5c-11.5-4.5-19.7-9.8-28.3-18.4c-8.6-8.6-13.9-16.8-18.4-28.3c-3.4-8.7-7.4-21.7-8.5-45.7    c-1.2-25.9-1.4-33.7-1.4-99.4s0.3-73.5,1.4-99.4c1.1-24,5.1-37,8.5-45.7c4.5-11.5,9.8-19.7,18.4-28.3c8.6-8.6,16.8-13.9,28.3-18.4    c8.7-3.4,21.7-7.4,45.7-8.5c25.9-1.2,33.7-1.4,99.4-1.4S330.7,54.8,356.6,56z\"/>\\n    <path fill=\"url(#igGradient22022698415)\" d=\"M130.9,256.3c0,69.8,56.6,126.3,126.3,126.3s126.3-56.6,126.3-126.3S327,130,257.2,130    S130.9,186.5,130.9,256.3z M339.2,256.3c0,45.3-36.7,82-82,82s-82-36.7-82-82c0-45.3,36.7-82,82-82S339.2,211,339.2,256.3z\"/>\\n    <circle fill=\"#654c9f\" cx=\"388.6\" cy=\"125\" r=\"29.5\"/>\\n</svg>            </li>\\n                    <li class=\"snItem\">\\n                <a class=\"snItem__link\"  href=\"https://be.linkedin.com/company/haute-ecole-l-onard-de-vinci\" rel=\"noopener noreferrer\" target=\"_blank\">\\n                    <span class=\"snItem__label\">LinkedIn</span>\\n                </a>\\n\\n                <svg class=\"snItem__icon | icon icon--in\" width=\"16px\" height=\"16px\" fill=\"#2867b2\" viewBox=\"0 0 16 16\" aria-hidden=\"true\">\\n    <path d=\"M14.81,0H1.18A1.17,1.17,0,0,0,0,1.15v13.7A1.17,1.17,0,0,0,1.18,16H14.82A1.17,1.17,0,0,0,16,14.85V1.15A1.17,1.17,0,0,0,14.81,0ZM4.75,13.63H2.37V6H4.75ZM3.56,5A1.38,1.38,0,1,1,4.93,3.58,1.37,1.37,0,0,1,3.56,5Zm10.07,8.68H11.26V9.92c0-.88,0-2-1.23-2s-1.42,1-1.42,2v3.77H6.23V6H8.51V7h0a2.5,2.5,0,0,1,2.25-1.23c2.4,0,2.84,1.58,2.84,3.64Z\"/>\\n</svg>            </li>\\n                    <li class=\"snItem\">\\n                <a class=\"snItem__link\"  href=\"https://www.youtube.com/channel/UCowxuCoDMYytjoV2GFICu6w\" rel=\"noopener noreferrer\" target=\"_blank\">\\n                    <span class=\"snItem__label\">YouTube</span>\\n                </a>\\n\\n                <svg class=\"snItem__icon | icon icon--yt\" width=\"16px\" height=\"16px\" fill=\"#c4302b\" viewBox=\"0 0 16 16\" aria-hidden=\"true\">\\n    <path d=\"M15.67,4.12A2,2,0,0,0,14.25,2.7,47,47,0,0,0,8,2.36a47,47,0,0,0-6.25.34A2,2,0,0,0,.33,4.12,21.42,21.42,0,0,0,0,8a21.42,21.42,0,0,0,.33,3.88A2,2,0,0,0,1.75,13.3,47,47,0,0,0,8,13.64a47,47,0,0,0,6.25-.34,2,2,0,0,0,1.42-1.42A21.42,21.42,0,0,0,16,8,21.42,21.42,0,0,0,15.67,4.12ZM6.36,10.38V5.62L10.55,8Z\"/>\\n</svg>            </li>\\n                    <li class=\"snItem\">\\n                <a class=\"snItem__link\"  href=\"https://twitter.com/HE_Vinci\" rel=\"noopener noreferrer\" target=\"_blank\">\\n                    <span class=\"snItem__label\">Twitter</span>\\n                </a>\\n\\n                \\n<svg class=\"snItem__icon | icon icon--tw\" width=\"20\" height=\"16\" viewBox=\"0 0 20 16\" fill=\"#00acee\" aria-hidden=\"true\">\\n    <path d=\"M28.6874,12.894 C27.963,13.2152 27.1846,13.4324 26.3674,13.53 C27.2014,13.03 27.8418,12.2384 28.1434,11.2952 C27.363,11.758 26.4986,12.0944 25.5782,12.2752 C24.8418,11.4904 23.7918,11 22.6302,11 C20.3994,11 18.591,12.8084 18.591,15.0392 C18.591,15.3556 18.6266,15.664 18.6954,15.9596 C15.3386,15.7912 12.3622,14.1832 10.3702,11.7392 C10.0222,12.336 9.823,13.0296 9.823,13.77 C9.823,15.1712 10.5362,16.4076 11.6198,17.132 C10.9578,17.1108 10.335,16.9292 9.7902,16.6268 C9.7898,16.6436 9.7898,16.6604 9.7898,16.6776 C9.7898,18.6348 11.1822,20.2672 13.0298,20.6384 C12.691,20.7308 12.3342,20.78 11.9658,20.78 C11.7054,20.78 11.4526,20.7548 11.2058,20.7076 C11.7198,22.3124 13.2114,23.48 14.979,23.5128 C13.5966,24.5964 11.855,25.242 9.9626,25.242 C9.6366,25.242 9.315,25.2228 8.999,25.1856 C10.787,26.3312 12.9102,27 15.191,27 C22.6206,27 26.6834,20.8452 26.6834,15.5076 C26.6834,15.3324 26.6794,15.1584 26.6718,14.9852 C27.461,14.4152 28.1458,13.704 28.6874,12.894 Z\" transform=\"translate(-9 -11)\"></path>\\n</svg>\\n            </li>\\n            </ul>\\n</aside>\\n\\n\\n        <small class=\"footer__credit | credit\">\\n            <a class=\"credit__link\" href=\"https://www.reed.be\" target=\"_blank\" rel=\"noopener\">Website by Reed</a>\\n        </small>\\n    </footer>\\n\\n                \\n            </div>\\n        </div>\\n\\n        \\n        <aside class=\"cookies-notice is-closed | noselect\" id=\"biskit-cookie-panel\">\\n    <div class=\"cookies-notice__overlay\"></div>\\n\\n    <div class=\"cookies-notice__block\">\\n        <!-- MAIN PANEL -->\\n        <div class=\"cookies-notice__panel | biskit | biskit-cnPanel\" data-biskit-panel=\"0\" id=\"cookie-notice-default\" tabindex=\"-1\">\\n            <div class=\"biskit-cnPanel__content\">\\n                                <h2 class=\"biskit-cnPanel__title\">\\n                    Nous aimerions utiliser des cookies pour améliorer l’expérience de notre site web.                </h2>\\n                <p>En savoir plus sur <a href=\"https://www.vinci.be/fr/cookies-policy\">notre politique de gestion des cookies</a></p>\\n            </div>\\n\\n            <footer class=\"biskit-cnPanel__footer\">\\n                <a href=\"#cookie-notice-main\" class=\"biskit-cnPanel__btn biskit-cnPanel__btn--ghost biskit-cnPanel__btn--large\" data-biskit-trigger>\\n                Paramétrer mes cookies\\n                    <svg class=\"icon icon--arrow icon--arrow--right\" width=\"10px\" height=\"6px\" stroke=\"none\" viewBox=\"0 0 10 6\" aria-hidden=\"true\"><g transform=\"translate(-5.000000, -7.000000)\"><path d=\"M9.97698059,10.562767 L12.8326408,7.70710678 C13.2231651,7.31658249 13.8563301,7.31658249 14.2468544,7.70710678 C14.6373787,8.09763107 14.6373787,8.73079605 14.2468544,9.12132034 L10.7113205,12.6568542 C10.5091316,12.8590431 10.2419025,12.9565514 9.97698059,12.9493789 C9.71205871,12.9565514 9.44482958,12.8590431 9.24264069,12.6568542 L5.70710678,9.12132034 C5.31658249,8.73079605 5.31658249,8.09763107 5.70710678,7.70710678 C6.09763107,7.31658249 6.73079605,7.31658249 7.12132034,7.70710678 L9.97698059,10.562767 Z\"/></g></svg>\\n                </a>\\n\\n                <form class=\"biskit-cnPanel__btn-wrapper\" data-biskit-deny>\\n                                        <input type=\"hidden\" name=\"neccessary\" value=\"\">\\n                                        <input type=\"hidden\" name=\"performance\" value=\"\">\\n                                        <input type=\"hidden\" name=\"functional\" value=\"\">\\n                                        <input type=\"hidden\" name=\"ads\" value=\"\">\\n                                        <button\\n                        type=\"submit\"\\n                        class=\"biskit-cnPanel__btn biskit-cnPanel__btn--deny | js-btn-deny\"\\n                        aria-label=\"Refuser tout\"\\n                    >Refuser tout</button>\\n                </form>\\n\\n                <form class=\"biskit-cnPanel__btn-wrapper\" data-biskit-allow>\\n                                        <input type=\"hidden\" name=\"neccessary\" value=\"on\">\\n                                        <input type=\"hidden\" name=\"performance\" value=\"on\">\\n                                        <input type=\"hidden\" name=\"functional\" value=\"on\">\\n                                        <input type=\"hidden\" name=\"ads\" value=\"on\">\\n                                        <button\\n                        type=\"submit\"\\n                        class=\"biskit-cnPanel__btn biskit-cnPanel__btn--allow | js-btn-allow\"\\n                        aria-label=\"Accepter tout\"\\n                    >Accepter tout</button>\\n                </form>\\n            </footer>\\n        </div>\\n\\n\\n        <!-- PANEL SETTINGS -->\\n        <form class=\"cookies-notice__subpanels\">\\n\\n            <div class=\"cookies-notice__panel | biskit-cnPanel\" id=\"cookie-notice-main\" data-biskit-panel=\"1\" tabindex=\"-1\">\\n                <header class=\"biskit-cnPanel__header\">\\n                    <svg class=\"icon icon--locker\" width=\"14\" height=\"19\" viewBox=\"0 0 14 19\"><g fill=\"none\" fill-rule=\"evenodd\"><g class=\"locker__body\"><g transform=\"translate(0 9)\"><rect width=\"14\" height=\"10\" stroke=\"#9A9A9A\" stroke-width=\"2\" rx=\"2\"/><path fill=\"#9A9A9A\" d=\"M8,3 C8.55228475,3 9,3.44771525 9,4 C9,4.55228475 8.55228475,5 8,5 L8,7 L6,7 L6,5 C5.44771525,5 5,4.55228475 5,4 C5,3.44771525 5.44771525,3 6,3 L8,3 Z\"/></g></g><path class=\"locker__shackle\" stroke=\"#9A9A9A\" stroke-linecap=\"round\" stroke-linejoin=\"round\" stroke-width=\"2\" d=\"M3,9 L3,4 C3,1.790861 4.790861,-4.54747351e-13 7,-4.54747351e-13 C9.209139,-4.54747351e-13 11,1.790861 11,4 L11,9\"/><line class=\"locker__surprise\" x1=\"19.548\" x2=\"28.817\" y1=\"7.897\" y2=\"4.144\" stroke=\"#9A9A9A\" stroke-linecap=\"round\" stroke-linejoin=\"round\" stroke-width=\"2\"/><line class=\"locker__surprise\" x1=\"16.483\" x2=\"22.517\" y1=\"4.929\" y2=\"-.324\" stroke=\"#9A9A9A\" stroke-linecap=\"round\" stroke-linejoin=\"round\" stroke-width=\"2\"/><line class=\"locker__surprise\" x1=\"19.218\" x2=\"27.216\" y1=\"12.053\" y2=\"11.919\" stroke=\"#9A9A9A\" stroke-linecap=\"round\" stroke-linejoin=\"round\" stroke-width=\"2\"/></g></svg>\\n\\n                    <h2 class=\"biskit-cnPanel__panelTitle\">Paramétrer mes cookies</h2>\\n\\n                </header>\\n                <div class=\"biskit-cnPanel__scrollarea\">\\n                    <div class=\"biskit-cnPanel__content\">\\n                        <p>Nous aimerions obtenir votre permission pour utiliser vos données aux fins suivantes:</p>\\n\\n                        <dl class=\"biskit-cnPanel__list\">\\n                                                        <div class=\"biskit-cnPanel__el | biskit-plEl\">\\n\\n                                <dt class=\"biskit-plEl__header\">\\n                                    <label class=\"biskit-plEl__label\">\\n                                        <span class=\"biskit-plEl__title\">Nécessaire</span>\\n\\n                                        <span class=\"biskit-lightswitch\">\\n                                            <input\\n                                                class=\"biskit-lightswitch__input | visually-hidden is-disabled\"\\n                                                type=\"checkbox\"\\n                                                name=\"neccessary\"\\n                                                id=\"neccessary\"\\n                                                value=\"on\"\\n                                                aria-label=\"Activer ou désactiver l\\'option\"\\n                                                tabindex=\"-1\" onClick=\"return false;\"                                                checked                                            />\\n\\n                                            <span class=\"biskit-lightswitch__label\">\\n                                                <span class=\"visually-hidden\">Toggle</span>\\n                                            </span>\\n\\n                                            <span class=\"biskit-lightswitch__labels biskit-lightswitch__labels--on\" aria-hidden=\"true\">On</span>\\n                                            <span class=\"biskit-lightswitch__labels biskit-lightswitch__labels--off\" aria-hidden=\"true\">Off</span>\\n                                        </span>\\n\\n                                    </label>\\n                                </dt>\\n\\n                                <dd>\\n                                    <p>Ces cookies sont nécessaires au bon fonctionnement de notre site Web et ne peuvent pas être désactivés dans notre système.</p>\\n                                    <a href=\"https://www.vinci.be/fr/cookies-policy\" class=\"biskit-cnPanel__cta\">En savoir plus</a>\\n                                </dd>\\n\\n                            </div>\\n                                                        <div class=\"biskit-cnPanel__el | biskit-plEl\">\\n\\n                                <dt class=\"biskit-plEl__header\">\\n                                    <label class=\"biskit-plEl__label\">\\n                                        <span class=\"biskit-plEl__title\">Performance</span>\\n\\n                                        <span class=\"biskit-lightswitch\">\\n                                            <input\\n                                                class=\"biskit-lightswitch__input | visually-hidden\"\\n                                                type=\"checkbox\"\\n                                                name=\"performance\"\\n                                                id=\"performance\"\\n                                                value=\"on\"\\n                                                aria-label=\"Activer ou désactiver l\\'option\"\\n                                                                                                                                            />\\n\\n                                            <span class=\"biskit-lightswitch__label\">\\n                                                <span class=\"visually-hidden\">Toggle</span>\\n                                            </span>\\n\\n                                            <span class=\"biskit-lightswitch__labels biskit-lightswitch__labels--on\" aria-hidden=\"true\">On</span>\\n                                            <span class=\"biskit-lightswitch__labels biskit-lightswitch__labels--off\" aria-hidden=\"true\">Off</span>\\n                                        </span>\\n\\n                                    </label>\\n                                </dt>\\n\\n                                <dd>\\n                                    <p>Nous utilisons ces cookies pour fournir des informations statistiques sur notre site Web. Elles sont utilisées pour mesurer et améliorer les performances.</p>\\n                                    <a href=\"https://www.vinci.be/fr/cookies-policy\" class=\"biskit-cnPanel__cta\">En savoir plus</a>\\n                                </dd>\\n\\n                            </div>\\n                                                        <div class=\"biskit-cnPanel__el | biskit-plEl\">\\n\\n                                <dt class=\"biskit-plEl__header\">\\n                                    <label class=\"biskit-plEl__label\">\\n                                        <span class=\"biskit-plEl__title\">Fonctionnel</span>\\n\\n                                        <span class=\"biskit-lightswitch\">\\n                                            <input\\n                                                class=\"biskit-lightswitch__input | visually-hidden\"\\n                                                type=\"checkbox\"\\n                                                name=\"functional\"\\n                                                id=\"functional\"\\n                                                value=\"on\"\\n                                                aria-label=\"Activer ou désactiver l\\'option\"\\n                                                                                                                                            />\\n\\n                                            <span class=\"biskit-lightswitch__label\">\\n                                                <span class=\"visually-hidden\">Toggle</span>\\n                                            </span>\\n\\n                                            <span class=\"biskit-lightswitch__labels biskit-lightswitch__labels--on\" aria-hidden=\"true\">On</span>\\n                                            <span class=\"biskit-lightswitch__labels biskit-lightswitch__labels--off\" aria-hidden=\"true\">Off</span>\\n                                        </span>\\n\\n                                    </label>\\n                                </dt>\\n\\n                                <dd>\\n                                    <p>Nous utilisons ces cookies pour améliorer les fonctionnalités et permettre la personnalisation, comme les discussions en direct, les vidéos et l’utilisation des médias sociaux.</p>\\n                                    <a href=\"https://www.vinci.be/fr/cookies-policy\" class=\"biskit-cnPanel__cta\">En savoir plus</a>\\n                                </dd>\\n\\n                            </div>\\n                                                        <div class=\"biskit-cnPanel__el | biskit-plEl\">\\n\\n                                <dt class=\"biskit-plEl__header\">\\n                                    <label class=\"biskit-plEl__label\">\\n                                        <span class=\"biskit-plEl__title\">Publicitaire</span>\\n\\n                                        <span class=\"biskit-lightswitch\">\\n                                            <input\\n                                                class=\"biskit-lightswitch__input | visually-hidden\"\\n                                                type=\"checkbox\"\\n                                                name=\"ads\"\\n                                                id=\"ads\"\\n                                                value=\"on\"\\n                                                aria-label=\"Activer ou désactiver l\\'option\"\\n                                                                                                                                            />\\n\\n                                            <span class=\"biskit-lightswitch__label\">\\n                                                <span class=\"visually-hidden\">Toggle</span>\\n                                            </span>\\n\\n                                            <span class=\"biskit-lightswitch__labels biskit-lightswitch__labels--on\" aria-hidden=\"true\">On</span>\\n                                            <span class=\"biskit-lightswitch__labels biskit-lightswitch__labels--off\" aria-hidden=\"true\">Off</span>\\n                                        </span>\\n\\n                                    </label>\\n                                </dt>\\n\\n                                <dd>\\n                                    <p>Ces cookies sont installés sur notre site par nos partenaires publicitaires.</p>\\n                                    <a href=\"https://www.vinci.be/fr/cookies-policy\" class=\"biskit-cnPanel__cta\">En savoir plus</a>\\n                                </dd>\\n\\n                            </div>\\n                                                    </dl>\\n\\n                    </div>\\n                </div>\\n\\n                <footer class=\"biskit-cnPanel__footer\">\\n                    <button type=\"submit\" class=\"biskit-cnPanel__btn\">Valider mes paramètres</button>\\n                </footer>\\n            </div>\\n\\n        </form>\\n    </div>\\n</aside>\\n\\n\\n\\n\\n        <div id=\"grid-ctn\" class=\"ctn\">\\n            <div id=\"grid\">\\n                                <div class=\"gridSizer | col-1 | tp-col-1 | m-col-1\"></div>\\n                <div class=\"gridSizer | gut-1 | tp-gut-1 | m-gut-1\"></div>\\n                <div class=\"gridSizer | vph\"></div>\\n\\n                            </div>\\n        </div>\\n\\n\\n\\n                    <script src=\"https://cdn.polyfill.io/v3/polyfill.min.js?features=default,es6,fetch,Object.entries,Object.values,IntersectionObserver,AbortController,Array.from&flags=gated\"></script>\\n        \\n                    <script src=\"/static//js/app.min.js?id=a83b33731d9711c6826c\"></script>\\n        \\n    <script src=\"https://www.vinci.be/cpresources/c528ff06/formie.js?v=1644485954\" defer></script>\\n<script>window.FormieTranslations={\"File {filename} must be smaller than {filesize} MB.\":\"Le fichier {filename} doit être plus petit que {filesize}Mo.\",\"File must be smaller than {filesize} MB.\":\"File must be smaller than {filesize} MB.\",\"File must be larger than {filesize} MB.\":\"File must be larger than {filesize} MB.\",\"Choose up to {files} files.\":\"Choisissez jusqu\\'à {files} fichiers.\",\"{num} characters left\":\"{num} characters left\",\"{num} words left\":\"{num} words left\",\"This field is required.\":\"Ce champs est obligatoire.\",\"Please select a value.\":\"Sélectionnez une valeur.\",\"Please select at least one value.\":\"Sélectionnez au moins une valeur.\",\"Please fill out this field.\":\"Veuillez remplir ce champ.\",\"Please enter a valid email address.\":\"Veuillez remplir une adresse e-mail valide.\",\"Please enter a URL.\":\"Veuillez saisir une URL.\",\"Please enter a number\":\"Veuillez saisir un nombre\",\"Please match the following format: #rrggbb\":\"Please match the following format: #rrggbb\",\"Please use the YYYY-MM-DD format\":\"Entrez le format DD-MM-YYY\",\"Please use the 24-hour time format. Ex. 23:00\":\"Entre le format 24 heures. Ex: 23:00\",\"Please use the YYYY-MM format\":\"Entrez le format MM-YYY\",\"Please match the requested format.\":\"Veuillez faire correspondre le format demandé.\",\"Please select a value that is no more than {max}.\":\"Veuillez sélectionner une valeur qui ne dépasse pas {max}.\",\"Please select a value that is no less than {min}.\":\"Veuillez sélectionner une valeur qui n\\'est pas inférieure à {min}.\",\"Please shorten this text to no more than {maxLength} characters. You are currently using {length} characters.\":\"Veuillez raccourcir ce texte à un maximum de {maxLength} caractères. Vous utilisez actuellement {length} caractères.\",\"Please lengthen this text to {minLength} characters or more. You are currently using {length} characters.\":\"Veuillez allonger ce texte à {minLength} caractères ou plus. Vous utilisez actuellement {length} caractères.\",\"There was an error with this field.\":\"There was an error with this field.\",\"Unable to parse response `{e}`.\":\"Impossible d\\'analyser la réponse `{e}`.\",\"Are you sure you want to leave?\":\"Are you sure you want to leave?\",\"The request timed out.\":\"The request timed out.\",\"The request encountered a network error. Please try again.\":\"The request encountered a network error. Please try again.\",\"Invalid number\":\"Invalid number\",\"Invalid country code\":\"Invalid country code\",\"Too short\":\"Too short\",\"Too long\":\"Too long\"};</script></body>\\n\\n</html>\\n'"
      ]
     },
     "execution_count": 15,
     "metadata": {},
     "output_type": "execute_result"
    }
   ],
   "source": [
    "ipl_html"
   ]
  },
  {
   "cell_type": "markdown",
   "metadata": {
    "tags": []
   },
   "source": [
    "Nous pouvons ensuite lire le code source de la page en affichant `ipl_html`.\n",
    "\n",
    "Parser du html avec des split ou des regex deviendrait vite infernal, c'est là qu'intervient la librairie BeautifulSoup qui nous permet de parcourir beaucoup plus simplement le dom notamment avec les fonctions `find` et `find_all`."
   ]
  },
  {
   "cell_type": "code",
   "execution_count": 16,
   "metadata": {},
   "outputs": [
    {
     "name": "stdout",
     "output_type": "stream",
     "text": [
      "Informatique - développement d’applications (anciennement Informatique de gestion) | HE VINCI\n"
     ]
    }
   ],
   "source": [
    "from bs4 import BeautifulSoup\n",
    "\n",
    "soup = BeautifulSoup(ipl_html)\n",
    "\n",
    "# pour récupérer le contenu de la balise <title> :\n",
    "title = soup.find(\"title\").get_text()\n",
    "\n",
    "print(title)"
   ]
  },
  {
   "cell_type": "markdown",
   "metadata": {},
   "source": [
    "La fonction `find` et la fonction `find_all` vous renverons un object de type `tag` (balise) sur lequel vous pouvez faire :\n",
    "  * d'autres `find()` et `find_all()`\n",
    "  * `get_text()` pour récupérer tout le contenu textuel de la balise\n",
    "  * `[\"nom de l'attribut\"]` pour récupérer un attribut en particulier (exemple: `tag['href']`)\n",
    "  * ...\n",
    "\n",
    "( Doc BeautifulSoup4 : https://www.crummy.com/software/BeautifulSoup/bs4/doc/ )"
   ]
  },
  {
   "cell_type": "markdown",
   "metadata": {},
   "source": [
    "#### Exercice 1:\n",
    "Récupérez le contenue de la page suivante et affichez son titre principal (la balise \"h1\") : https://www.vinci.be/fr/formations/informatique-de-gestion"
   ]
  },
  {
   "cell_type": "code",
   "execution_count": 17,
   "metadata": {},
   "outputs": [
    {
     "name": "stdout",
     "output_type": "stream",
     "text": [
      "Informatique - développement d’applications (anciennement Informatique de gestion)\n"
     ]
    }
   ],
   "source": [
    "import requests\n",
    "\n",
    "ipl_req = requests.get(\"https://www.vinci.be/fr/formations/informatique-de-gestion\")\n",
    "\n",
    "if not ipl_req.ok:\n",
    "    print(ipl_req.status_code)\n",
    "    print(ipl_req.reason)\n",
    "else:\n",
    "    ipl_html = ipl_req.text\n",
    "    \n",
    "    h1 = soup.find(\"h1\").get_text()\n",
    "    print(h1)"
   ]
  },
  {
   "cell_type": "markdown",
   "metadata": {},
   "source": [
    "---"
   ]
  },
  {
   "cell_type": "markdown",
   "metadata": {},
   "source": [
    "Il est possible de faire des requêtes beaucoup plus poussée en ajoutant des arguments correspondant aux attributs des balises que nous cherchons, par exemple pour trouver les balises `<div class=\"footer\"></div>` :\n",
    "\n",
    "```\n",
    "soup.find_all(\"div\", class_=\"footer\")\n",
    "# NB: class est un mot clé réservé en python, d'où l'ajout du \"_\" dans BeautifulSoup\n",
    "\n",
    "# BeautifulSoup accepte également la notation suivante où class n'est plus un mot clé mais un string :\n",
    "soup.find_all(\"div\", {\"class\": \"footer\"})\n",
    "```\n",
    "\n",
    "Ou encore pour trouver tous les liens vers la page facebook de l'ipl :\n",
    "\n",
    "`soup.find_all(\"a\", href=\"https://www.facebook.com/HEVINCI/\")`\n",
    "\n",
    "BeautifoulSoup accepte également des regex compilée en argument, il est donc possible de récupérer la liste des url qui ne sont pas du domaines de \"vinci.be\" :\n",
    "\n",
    "```\n",
    "import re\n",
    "\n",
    "not_vinci = re.compile(\"^http(s?)://(?!www.vinci.be/).*$\")\n",
    "soup.find_all(\"a\", href=not_vinci)\n",
    "```\n",
    "\n",
    "Il est également possible d'utiliser une fonction arbitraire pour valider les liens. Par exemple, pour trouver tous les liens de moins de 30 caractères :\n",
    "\n",
    "```\n",
    "def less_than_30(tag):\n",
    "    return len(tag) < 30  # on retourne un booleen\n",
    "    \n",
    "# on passe notre fonction en paramètre sans l'executer :\n",
    "soup.find_all(\"a\", href=less_than_30)\n",
    "```"
   ]
  },
  {
   "cell_type": "markdown",
   "metadata": {},
   "source": [
    "#### Exercice 2:\n",
    "\n",
    "Utilisez des regex pour récupérer la liste des liens http (et donc pas https) sur la page :  \n",
    "https://www.vinci.be/fr/formations/informatique-de-gestion"
   ]
  },
  {
   "cell_type": "code",
   "execution_count": 23,
   "metadata": {},
   "outputs": [
    {
     "name": "stdout",
     "output_type": "stream",
     "text": [
      "http://www.enseignement.be/index.php?page=4323\n"
     ]
    }
   ],
   "source": [
    "import re\n",
    "\n",
    "http_url = re.compile(\"^http://.*$\")\n",
    "\n",
    "for a_tag in soup.find_all(\"a\", href=http_url):\n",
    "    print(a_tag['href'])"
   ]
  },
  {
   "cell_type": "markdown",
   "metadata": {},
   "source": [
    "#### Exercice 3:\n",
    "\n",
    "Utilisez une fonction pour récupérer tous les liens qui finissent avec une extension désignant un type de fichier (ex: \".html\", \".php\", \".pdf\", ...) sur la page :  \n",
    "https://www.vinci.be/fr/formations/informatique-de-gestion"
   ]
  },
  {
   "cell_type": "code",
   "execution_count": 24,
   "metadata": {},
   "outputs": [
    {
     "name": "stdout",
     "output_type": "stream",
     "text": [
      "https://www.vinci.be/uploads/brochures/informatique_HEVINCI_22-23.pdf\n",
      "https://progcours.vinci.be/cocoon/programmes/P1INFV01_C.html\n"
     ]
    }
   ],
   "source": [
    "ext_search = re.compile(\"^http(s?)://.*/.*\\.[a-zA-Z]{1,4}$\")\n",
    "\n",
    "for a in soup.find_all('a', href=ext_search):\n",
    "    print(a['href'])"
   ]
  },
  {
   "cell_type": "markdown",
   "metadata": {},
   "source": [
    "#### Exercice 4:\n",
    "Depuis le site du Centre Cybersecurité Belgique https://ccb.belgium.be/fr/actualit%C3%A9s , récupérez la liste des articles récents et affichez leurs titres ainsi qu'un lien vers l'article."
   ]
  },
  {
   "cell_type": "code",
   "execution_count": 25,
   "metadata": {
    "tags": []
   },
   "outputs": [
    {
     "name": "stdout",
     "output_type": "stream",
     "text": [
      "Défendre les PME contre les rançongiciels (ransomware)\n",
      "https://ccb.belgium.be/fr/actualit%C3%A9/d%C3%A9fendre-les-pme-contre-les-ran%C3%A7ongiciels-ransomware\n",
      "---\n",
      "SENSIBILISER À LA CYBERSÉCURITÉ SUR LE LIEU DE TRAVAIL : DÉCOUVREZ CETTE SÉRIE DE 10 épisodes EN COLLABORATION AVEC Canal Z\n",
      "https://ccb.belgium.be/fr/actualit%C3%A9/sensibiliser-%C3%A0-la-cybers%C3%A9curit%C3%A9-sur-le-lieu-de-travail-d%C3%A9couvrez-cette-s%C3%A9rie-de-10\n",
      "---\n",
      "EU Security Research Event (SRE 2023)\n",
      "https://ccb.belgium.be/fr/actualit%C3%A9/eu-security-research-event-sre-2023\n",
      "---\n",
      "Prenez dès maintenant la mesure la plus importante contre les cyberattaques : installer l’authentification à deux facteurs (2FA) pour toutes les connexions externes\n",
      "https://ccb.belgium.be/fr/actualit%C3%A9/prenez-d%C3%A8s-maintenant-la-mesure-la-plus-importante-contre-les-cyberattaques-installer-l\n",
      "---\n",
      "La Belgique renforce la lutte internationale contre les ransomwares\n",
      "https://ccb.belgium.be/fr/actualit%C3%A9/la-belgique-renforce-la-lutte-internationale-contre-les-ransomwares\n",
      "---\n",
      "La Belgique annonce la fin du phishing\n",
      "https://ccb.belgium.be/fr/actualit%C3%A9/la-belgique-annonce-la-fin-du-phishing\n",
      "---\n",
      "Retour sur le CCB Connect & Share – Quarterly Cyber Threat Report (QCTR) du trimestre Q1 2023\n",
      "https://ccb.belgium.be/fr/actualit%C3%A9/retour-sur-le-ccb-connect-share-%E2%80%93-quarterly-cyber-threat-report-qctr-du-trimestre-q1-2023\n",
      "---\n",
      "14 millions de clics vers des sites suspects évités en 2022 grâce au système unique « Anti-Phishing Shield»  \n",
      "https://ccb.belgium.be/fr/actualit%C3%A9/14-millions-de-clics-vers-des-sites-suspects-%C3%A9vit%C3%A9s-en-2022-gr%C3%A2ce-au-syst%C3%A8me-unique-%C2%AB-anti\n",
      "---\n",
      "De jeunes talents se sont distingués lors du Cyber Security Challenge Belgium 2023\n",
      "https://ccb.belgium.be/fr/actualit%C3%A9/de-jeunes-talents-se-sont-distingu%C3%A9s-lors-du-cyber-security-challenge-belgium-2023\n",
      "---\n"
     ]
    }
   ],
   "source": [
    "ipl_req = requests.get(\"https://ccb.belgium.be/fr/actualit%C3%A9s\")\n",
    "\n",
    "if not ipl_req.ok:\n",
    "    print(ipl_req.status_code)\n",
    "    print(ipl_req.reason)\n",
    "else:\n",
    "    ipl_html = ipl_req.text\n",
    "    soup = BeautifulSoup(ipl_html)\n",
    "    \n",
    "for article in soup.find_all(\"article\"):\n",
    "    # Le titre de l'article :\n",
    "    print(article.find(\"h2\").get_text())\n",
    "    \n",
    "    # Malheureusement, le site n'utilise pas de balise \"a\" pour les liens des articles.\n",
    "    # Il est necessaire de récupérer l'attribut \"onclick\" et de nettoyer un peu :\n",
    "    # \n",
    "    # onclick=\"location.href='/fr/actualit%C3%A9/d%C3%A9fendre-les-pme-contre-les-ran%C3%A7ongiciels-ransomware'\"  \n",
    "    # \n",
    "    link = article['onclick'].split('=')[1].strip(\"'\")\n",
    "    \n",
    "    print(\"https://ccb.belgium.be\" + link)\n",
    "    print(\"---\")"
   ]
  },
  {
   "cell_type": "markdown",
   "metadata": {},
   "source": [
    "#### Exercice 5:\n",
    "La lib requests permet également d'effectuer de requête POST. Pour tester cette fonctionnalitée, créez un \"httpDump\" sur le site https://httpdump.app/ puis utilisez requests pour poster des données vers votre requestbin.\n",
    "\n",
    "> httpdump\n",
    "> This free service gives you a unique URL to send requests to and inspect them. \n",
    "\n",
    "\n",
    "Voir : https://requests.readthedocs.io/en/master/user/quickstart/#make-a-request (ou la cheatsheet)"
   ]
  },
  {
   "cell_type": "code",
   "execution_count": 26,
   "metadata": {},
   "outputs": [
    {
     "data": {
      "text/plain": [
       "<Response [204]>"
      ]
     },
     "execution_count": 26,
     "metadata": {},
     "output_type": "execute_result"
    }
   ],
   "source": [
    "requests.post(\"https://httpdump.app/dumps/f6eb5f90-7785-4bd4-abd2-a89d3e775215\", data={\"user\": \"bob\", \"password\": \"azerty\"})"
   ]
  },
  {
   "cell_type": "markdown",
   "metadata": {},
   "source": [
    "#### Exercice 6:\n",
    "Vous avez certainement constaté sur votre requestbin que la librairie requests utilise par défaut un User-Agent explicite \"*je suis un lib python pour faire des requêtes*\".  \n",
    "Documentez-vous sur la manière de changer celui-ci dans requests et remplacez le dans votre précédente requête vers httpdump par quelque chose de plus discret, par exemple l'user-agent de la dernière version de chrome :  \n",
    "`Mozilla/5.0 (Windows NT 10.0; Win64; x64) AppleWebKit/537.36 (KHTML, like Gecko) Chrome/117.0.0.0 Safari/537.36`\n",
    "\n",
    "source: https://www.whatismybrowser.com/guides/the-latest-user-agent/chrome"
   ]
  },
  {
   "cell_type": "code",
   "execution_count": 28,
   "metadata": {},
   "outputs": [],
   "source": [
    "headers = {'user-agent': 'Mozilla/5.0 (Windows NT 10.0; Win64; x64) AppleWebKit/537.36 (KHTML, like Gecko) Chrome/117.0.0.0 Safari/537.36'}\n",
    "\n",
    "r = requests.get(\"https://httpdump.app/dumps/f6eb5f90-7785-4bd4-abd2-a89d3e775215\", headers=headers)"
   ]
  },
  {
   "cell_type": "markdown",
   "metadata": {},
   "source": [
    "# Partie 3 (bonus):\n",
    "\n",
    "Note: dans les jupyter notebook, vous pouvez exécuter des commandes shell en préfixant une cellule d'un `!`. Par exemple : `!date`.\n",
    "\n",
    "#### Exercice 1\n",
    "\n",
    "Pour ce premier exercice, nous allons manipuler un court extrait de logs \"logs.txt\" d'un serveur web nginx (le même que pour la partie 1).\n",
    "\n",
    "Pour chaque ligne de celui-ci, extrayez:\n",
    "\n",
    "    l'adresse IP\n",
    "    le timestamp\n",
    "    le chemin demandé\n",
    "\n",
    "En n'utilisant que des commandes bash : cat, grep, cut, sort, uniq,..."
   ]
  },
  {
   "cell_type": "code",
   "execution_count": null,
   "metadata": {},
   "outputs": [],
   "source": [
    "!date"
   ]
  },
  {
   "cell_type": "code",
   "execution_count": null,
   "metadata": {},
   "outputs": [],
   "source": [
    "!echo \"Les IPs:\"\n",
    "!cat logs.txt | cut -d ' ' -f 1"
   ]
  },
  {
   "cell_type": "code",
   "execution_count": null,
   "metadata": {},
   "outputs": [],
   "source": [
    "!echo \"Les timestamps:\"\n",
    "!cat logs.txt | cut -d '[' -f 2 | cut -d ']' -f 1"
   ]
  },
  {
   "cell_type": "code",
   "execution_count": null,
   "metadata": {},
   "outputs": [],
   "source": [
    "!echo \"Les chemins:\"\n",
    "!cat logs.txt | cut -d ' ' -f 7"
   ]
  },
  {
   "cell_type": "markdown",
   "metadata": {},
   "source": [
    "#### Exercice 2\n",
    "Avec les mêmes logs que l'exercice précédent, comptez et affichez les différents user-agent."
   ]
  },
  {
   "cell_type": "code",
   "execution_count": null,
   "metadata": {},
   "outputs": [],
   "source": [
    "!echo -e \"Attention, sort est nécessaire avant le uniq car uniq ne déduplique que les lignes successives.\\n\"\n",
    "\n",
    "!cat logs.txt | cut -d '\"' -f 6 | sort | uniq -c"
   ]
  }
 ],
 "metadata": {
  "kernelspec": {
   "display_name": "Python 3 (ipykernel)",
   "language": "python",
   "name": "python3"
  },
  "language_info": {
   "codemirror_mode": {
    "name": "ipython",
    "version": 3
   },
   "file_extension": ".py",
   "mimetype": "text/x-python",
   "name": "python",
   "nbconvert_exporter": "python",
   "pygments_lexer": "ipython3",
   "version": "3.11.4"
  }
 },
 "nbformat": 4,
 "nbformat_minor": 4
}
